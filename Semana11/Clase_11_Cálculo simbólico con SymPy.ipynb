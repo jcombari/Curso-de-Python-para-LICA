{
 "cells": [
  {
   "cell_type": "markdown",
   "metadata": {},
   "source": [
    "https://www.sympy.org/es"
   ]
  },
  {
   "cell_type": "code",
   "execution_count": 1,
   "metadata": {},
   "outputs": [
    {
     "name": "stdout",
     "output_type": "stream",
     "text": [
      "IPython console for SymPy 1.5.1 (Python 3.7.6-64-bit) (ground types: python)\n",
      "\n",
      "These commands were executed:\n",
      ">>> from __future__ import division\n",
      ">>> from sympy import *\n",
      ">>> x, y, z, t = symbols('x y z t')\n",
      ">>> k, m, n = symbols('k m n', integer=True)\n",
      ">>> f, g, h = symbols('f g h', cls=Function)\n",
      ">>> init_printing()\n",
      "\n",
      "Documentation can be found at https://docs.sympy.org/1.5.1/\n",
      "\n"
     ]
    }
   ],
   "source": [
    "import sympy as sp\n",
    "from sympy import *\n",
    "sp.init_session()"
   ]
  },
  {
   "cell_type": "code",
   "execution_count": 2,
   "metadata": {},
   "outputs": [],
   "source": [
    "x, y, z, t = symbols('x y z t')"
   ]
  },
  {
   "cell_type": "code",
   "execution_count": 3,
   "metadata": {},
   "outputs": [
    {
     "data": {
      "image/png": "[encoded data removed]",
      "text/latex": [
       "$\\displaystyle 2 x + 3 y$"
      ],
      "text/plain": [
       "2⋅x + 3⋅y"
      ]
     },
     "execution_count": 3,
     "metadata": {},
     "output_type": "execute_result"
    }
   ],
   "source": [
    "2*x+3*y"
   ]
  },
  {
   "cell_type": "code",
   "execution_count": 4,
   "metadata": {},
   "outputs": [],
   "source": [
    "expr=2*x+3*y"
   ]
  },
  {
   "cell_type": "code",
   "execution_count": 5,
   "metadata": {},
   "outputs": [
    {
     "data": {
      "image/png": "[encoded data removed]",
      "text/latex": [
       "$\\displaystyle 3 y + 20$"
      ],
      "text/plain": [
       "3⋅y + 20"
      ]
     },
     "execution_count": 5,
     "metadata": {},
     "output_type": "execute_result"
    }
   ],
   "source": [
    "expr.subs(x,10)"
   ]
  },
  {
   "cell_type": "code",
   "execution_count": 6,
   "metadata": {},
   "outputs": [
    {
     "data": {
      "image/png": "[encoded data removed]",
      "text/latex": [
       "$\\displaystyle 17$"
      ],
      "text/plain": [
       "17"
      ]
     },
     "execution_count": 6,
     "metadata": {},
     "output_type": "execute_result"
    }
   ],
   "source": [
    "expr.subs(x,10).subs(y,-1)"
   ]
  },
  {
   "cell_type": "code",
   "execution_count": 7,
   "metadata": {},
   "outputs": [
    {
     "data": {
      "image/png": "[encoded data removed]",
      "text/latex": [
       "$\\displaystyle - x^{3} + 2 x^{2} + x$"
      ],
      "text/plain": [
       "   3      2    \n",
       "- x  + 2⋅x  + x"
      ]
     },
     "execution_count": 7,
     "metadata": {},
     "output_type": "execute_result"
    }
   ],
   "source": [
    "expr=x+2*x**2-x**3\n",
    "expr"
   ]
  },
  {
   "cell_type": "code",
   "execution_count": 8,
   "metadata": {},
   "outputs": [
    {
     "data": {
      "image/png": "[encoded data removed]",
      "text/latex": [
       "$\\displaystyle x^{2}$"
      ],
      "text/plain": [
       " 2\n",
       "x "
      ]
     },
     "execution_count": 8,
     "metadata": {},
     "output_type": "execute_result"
    }
   ],
   "source": [
    "x**2"
   ]
  },
  {
   "cell_type": "code",
   "execution_count": 9,
   "metadata": {},
   "outputs": [
    {
     "data": {
      "image/png": "[encoded data removed]",
      "text/latex": [
       "$\\displaystyle \\sqrt{x}$"
      ],
      "text/plain": [
       "√x"
      ]
     },
     "execution_count": 9,
     "metadata": {},
     "output_type": "execute_result"
    }
   ],
   "source": [
    "sqrt(x)"
   ]
  },
  {
   "cell_type": "code",
   "execution_count": 10,
   "metadata": {},
   "outputs": [
    {
     "data": {
      "image/png": "[encoded data removed]",
      "text/latex": [
       "$\\displaystyle \\sqrt{x^{2}}$"
      ],
      "text/plain": [
       "   ____\n",
       "  ╱  2 \n",
       "╲╱  x  "
      ]
     },
     "execution_count": 10,
     "metadata": {},
     "output_type": "execute_result"
    }
   ],
   "source": [
    "sqrt(x**2)"
   ]
  },
  {
   "cell_type": "code",
   "execution_count": 11,
   "metadata": {},
   "outputs": [],
   "source": [
    "x = symbols(\"x\")"
   ]
  },
  {
   "cell_type": "code",
   "execution_count": 12,
   "metadata": {},
   "outputs": [
    {
     "data": {
      "image/png": "[encoded data removed]",
      "text/latex": [
       "$\\displaystyle x - \\frac{2}{x}$"
      ],
      "text/plain": [
       "    2\n",
       "x - ─\n",
       "    x"
      ]
     },
     "execution_count": 12,
     "metadata": {},
     "output_type": "execute_result"
    }
   ],
   "source": [
    "x-2/x"
   ]
  },
  {
   "cell_type": "code",
   "execution_count": 13,
   "metadata": {},
   "outputs": [
    {
     "data": {
      "text/plain": [
       "{'commutative': True}"
      ]
     },
     "execution_count": 13,
     "metadata": {},
     "output_type": "execute_result"
    }
   ],
   "source": [
    "x.assumptions0"
   ]
  },
  {
   "cell_type": "code",
   "execution_count": 14,
   "metadata": {},
   "outputs": [],
   "source": [
    "x=symbols(\"x\", real=True)"
   ]
  },
  {
   "cell_type": "code",
   "execution_count": 15,
   "metadata": {},
   "outputs": [
    {
     "data": {
      "text/plain": [
       "{'real': True,\n",
       " 'extended_real': True,\n",
       " 'complex': True,\n",
       " 'finite': True,\n",
       " 'commutative': True,\n",
       " 'hermitian': True,\n",
       " 'infinite': False,\n",
       " 'imaginary': False}"
      ]
     },
     "execution_count": 15,
     "metadata": {},
     "output_type": "execute_result"
    }
   ],
   "source": [
    "x.assumptions0"
   ]
  },
  {
   "cell_type": "code",
   "execution_count": 16,
   "metadata": {},
   "outputs": [
    {
     "data": {
      "image/png": "[encoded data removed]",
      "text/latex": [
       "$\\displaystyle \\left|{x}\\right|$"
      ],
      "text/plain": [
       "│x│"
      ]
     },
     "execution_count": 16,
     "metadata": {},
     "output_type": "execute_result"
    }
   ],
   "source": [
    "sqrt(x**2)"
   ]
  },
  {
   "cell_type": "code",
   "execution_count": 17,
   "metadata": {},
   "outputs": [],
   "source": [
    "y=symbols(\"y\", positive=True)"
   ]
  },
  {
   "cell_type": "code",
   "execution_count": 18,
   "metadata": {},
   "outputs": [
    {
     "data": {
      "image/png": "[encoded data removed]",
      "text/latex": [
       "$\\displaystyle y$"
      ],
      "text/plain": [
       "y"
      ]
     },
     "execution_count": 18,
     "metadata": {},
     "output_type": "execute_result"
    }
   ],
   "source": [
    "sqrt(y**2)"
   ]
  },
  {
   "cell_type": "code",
   "execution_count": 19,
   "metadata": {},
   "outputs": [],
   "source": [
    "y=symbols(\"y\", negative=True)"
   ]
  },
  {
   "cell_type": "code",
   "execution_count": 20,
   "metadata": {},
   "outputs": [
    {
     "data": {
      "image/png": "[encoded data removed]",
      "text/latex": [
       "$\\displaystyle - y$"
      ],
      "text/plain": [
       "-y"
      ]
     },
     "execution_count": 20,
     "metadata": {},
     "output_type": "execute_result"
    }
   ],
   "source": [
    "sqrt(y**2)"
   ]
  },
  {
   "cell_type": "code",
   "execution_count": 21,
   "metadata": {},
   "outputs": [],
   "source": [
    "#omega=symbols(\"\")"
   ]
  },
  {
   "cell_type": "code",
   "execution_count": 22,
   "metadata": {},
   "outputs": [],
   "source": [
    "x,y =symbols(\"x y\", real=True)"
   ]
  },
  {
   "cell_type": "code",
   "execution_count": 23,
   "metadata": {},
   "outputs": [],
   "source": [
    "expr=cos(x)**2 + sin(x)**2"
   ]
  },
  {
   "cell_type": "code",
   "execution_count": 24,
   "metadata": {},
   "outputs": [
    {
     "data": {
      "image/png": "[encoded data removed]",
      "text/latex": [
       "$\\displaystyle 1$"
      ],
      "text/plain": [
       "1"
      ]
     },
     "execution_count": 24,
     "metadata": {},
     "output_type": "execute_result"
    }
   ],
   "source": [
    "expr.simplify()"
   ]
  },
  {
   "cell_type": "code",
   "execution_count": 25,
   "metadata": {},
   "outputs": [
    {
     "data": {
      "image/png": "[encoded data removed]",
      "text/latex": [
       "$\\displaystyle 1.38177329067604$"
      ],
      "text/plain": [
       "1.38177329067604"
      ]
     },
     "execution_count": 25,
     "metadata": {},
     "output_type": "execute_result"
    }
   ],
   "source": [
    "(cos(x)+ sin(x)).subs(x,1).evalf()"
   ]
  },
  {
   "cell_type": "code",
   "execution_count": 26,
   "metadata": {},
   "outputs": [
    {
     "data": {
      "image/png": "[encoded data removed]",
      "text/latex": [
       "$\\displaystyle \\left(x^{3} + 3 x^{2} + 1\\right)^{3}$"
      ],
      "text/plain": [
       "               3\n",
       "⎛ 3      2    ⎞ \n",
       "⎝x  + 3⋅x  + 1⎠ "
      ]
     },
     "execution_count": 26,
     "metadata": {},
     "output_type": "execute_result"
    }
   ],
   "source": [
    "(x**3 + 3*x**2+1) ** 3"
   ]
  },
  {
   "cell_type": "code",
   "execution_count": 27,
   "metadata": {},
   "outputs": [
    {
     "data": {
      "image/png": "[encoded data removed]",
      "text/latex": [
       "$\\displaystyle x^{9} + 9 x^{8} + 27 x^{7} + 30 x^{6} + 18 x^{5} + 27 x^{4} + 3 x^{3} + 9 x^{2} + 1$"
      ],
      "text/plain": [
       " 9      8       7       6       5       4      3      2    \n",
       "x  + 9⋅x  + 27⋅x  + 30⋅x  + 18⋅x  + 27⋅x  + 3⋅x  + 9⋅x  + 1"
      ]
     },
     "execution_count": 27,
     "metadata": {},
     "output_type": "execute_result"
    }
   ],
   "source": [
    "_26.expand()"
   ]
  },
  {
   "cell_type": "code",
   "execution_count": 28,
   "metadata": {},
   "outputs": [],
   "source": [
    "def factoriza(n=1):\n",
    "    return ((x-1)** n +1).factor()"
   ]
  },
  {
   "cell_type": "code",
   "execution_count": 29,
   "metadata": {},
   "outputs": [
    {
     "data": {
      "image/png": "[encoded data removed]",
      "text/latex": [
       "$\\displaystyle x$"
      ],
      "text/plain": [
       "x"
      ]
     },
     "execution_count": 29,
     "metadata": {},
     "output_type": "execute_result"
    }
   ],
   "source": [
    "factoriza(1)"
   ]
  },
  {
   "cell_type": "code",
   "execution_count": 30,
   "metadata": {},
   "outputs": [
    {
     "data": {
      "image/png": "[encoded data removed]",
      "text/latex": [
       "$\\displaystyle x \\left(x^{2} - 3 x + 3\\right)$"
      ],
      "text/plain": [
       "  ⎛ 2          ⎞\n",
       "x⋅⎝x  - 3⋅x + 3⎠"
      ]
     },
     "execution_count": 30,
     "metadata": {},
     "output_type": "execute_result"
    }
   ],
   "source": [
    "factoriza(3)"
   ]
  },
  {
   "cell_type": "code",
   "execution_count": 31,
   "metadata": {},
   "outputs": [
    {
     "data": {
      "application/vnd.jupyter.widget-view+json": {
       "model_id": "3a7560f2e0de40cab44e5e13e787d98a",
       "version_major": 2,
       "version_minor": 0
      },
      "text/plain": [
       "interactive(children=(IntSlider(value=0, description='n', max=10, min=-10), Output()), _dom_classes=('widget-i…"
      ]
     },
     "metadata": {},
     "output_type": "display_data"
    }
   ],
   "source": [
    "from  ipywidgets  import interact\n",
    "#pip install ipywidgets \n",
    "@interact\n",
    "def factoriza(n=(-10,10)):\n",
    "    return ((x-1)** n +1).factor()"
   ]
  },
  {
   "cell_type": "code",
   "execution_count": 32,
   "metadata": {},
   "outputs": [
    {
     "data": {
      "image/png": "[encoded data removed]",
      "text/latex": [
       "$\\displaystyle x \\left(x^{2} - 3 x + 3\\right)$"
      ],
      "text/plain": [
       "  ⎛ 2          ⎞\n",
       "x⋅⎝x  - 3⋅x + 3⎠"
      ]
     },
     "execution_count": 32,
     "metadata": {},
     "output_type": "execute_result"
    }
   ],
   "source": [
    "factoriza(3)"
   ]
  },
  {
   "cell_type": "code",
   "execution_count": 33,
   "metadata": {},
   "outputs": [
    {
     "data": {
      "image/png": "[encoded data removed]",
      "text/latex": [
       "$\\displaystyle \\left(2 x - 2\\right) \\left(x^{8} - 8 x^{7} + 27 x^{6} - 50 x^{5} + 56 x^{4} - 40 x^{3} + 18 x^{2} - 4 x + 1\\right) + \\left(x^{2} - 2 x + 2\\right) \\left(8 x^{7} - 56 x^{6} + 162 x^{5} - 250 x^{4} + 224 x^{3} - 120 x^{2} + 36 x - 4\\right)$"
      ],
      "text/plain": [
       "          ⎛ 8      7       6       5       4       3       2          ⎞   ⎛ 2 \n",
       "(2⋅x - 2)⋅⎝x  - 8⋅x  + 27⋅x  - 50⋅x  + 56⋅x  - 40⋅x  + 18⋅x  - 4⋅x + 1⎠ + ⎝x  \n",
       "\n",
       "         ⎞ ⎛   7       6        5        4        3        2           ⎞\n",
       "- 2⋅x + 2⎠⋅⎝8⋅x  - 56⋅x  + 162⋅x  - 250⋅x  + 224⋅x  - 120⋅x  + 36⋅x - 4⎠"
      ]
     },
     "execution_count": 33,
     "metadata": {},
     "output_type": "execute_result"
    }
   ],
   "source": [
    "factoriza(10).diff(x)"
   ]
  },
  {
   "cell_type": "code",
   "execution_count": 34,
   "metadata": {},
   "outputs": [
    {
     "data": {
      "image/png": "[encoded data removed]",
      "text/latex": [
       "$\\displaystyle \\frac{1}{\\left(x^{2} - 2 x + 2\\right) \\left(x^{8} - 8 x^{7} + 27 x^{6} - 50 x^{5} + 56 x^{4} - 40 x^{3} + 18 x^{2} - 4 x + 1\\right)}$"
      ],
      "text/plain": [
       "                                     1                                      \n",
       "────────────────────────────────────────────────────────────────────────────\n",
       "⎛ 2          ⎞ ⎛ 8      7       6       5       4       3       2          ⎞\n",
       "⎝x  - 2⋅x + 2⎠⋅⎝x  - 8⋅x  + 27⋅x  - 50⋅x  + 56⋅x  - 40⋅x  + 18⋅x  - 4⋅x + 1⎠"
      ]
     },
     "execution_count": 34,
     "metadata": {},
     "output_type": "execute_result"
    }
   ],
   "source": [
    "1/factoriza(10)"
   ]
  },
  {
   "cell_type": "code",
   "execution_count": 35,
   "metadata": {},
   "outputs": [
    {
     "data": {
      "image/png": "[encoded data removed]",
      "text/latex": [
       "$\\displaystyle \\frac{2 - 2 x}{\\left(x^{2} - 2 x + 2\\right)^{2} \\left(x^{8} - 8 x^{7} + 27 x^{6} - 50 x^{5} + 56 x^{4} - 40 x^{3} + 18 x^{2} - 4 x + 1\\right)} + \\frac{- 8 x^{7} + 56 x^{6} - 162 x^{5} + 250 x^{4} - 224 x^{3} + 120 x^{2} - 36 x + 4}{\\left(x^{2} - 2 x + 2\\right) \\left(x^{8} - 8 x^{7} + 27 x^{6} - 50 x^{5} + 56 x^{4} - 40 x^{3} + 18 x^{2} - 4 x + 1\\right)^{2}}$"
      ],
      "text/plain": [
       "                                                                              \n",
       "                                   2 - 2⋅x                                    \n",
       "───────────────────────────────────────────────────────────────────────────── \n",
       "              2                                                               \n",
       "⎛ 2          ⎞  ⎛ 8      7       6       5       4       3       2          ⎞ \n",
       "⎝x  - 2⋅x + 2⎠ ⋅⎝x  - 8⋅x  + 27⋅x  - 50⋅x  + 56⋅x  - 40⋅x  + 18⋅x  - 4⋅x + 1⎠ \n",
       "\n",
       "               7       6        5        4        3        2                  \n",
       "          - 8⋅x  + 56⋅x  - 162⋅x  + 250⋅x  - 224⋅x  + 120⋅x  - 36⋅x + 4       \n",
       "+ ────────────────────────────────────────────────────────────────────────────\n",
       "                                                                              \n",
       "  ⎛ 2          ⎞ ⎛ 8      7       6       5       4       3       2          ⎞\n",
       "  ⎝x  - 2⋅x + 2⎠⋅⎝x  - 8⋅x  + 27⋅x  - 50⋅x  + 56⋅x  - 40⋅x  + 18⋅x  - 4⋅x + 1⎠\n",
       "\n",
       " \n",
       " \n",
       "─\n",
       "2\n",
       " \n",
       " "
      ]
     },
     "execution_count": 35,
     "metadata": {},
     "output_type": "execute_result"
    }
   ],
   "source": [
    "_34.diff(x)"
   ]
  },
  {
   "cell_type": "code",
   "execution_count": 36,
   "metadata": {},
   "outputs": [
    {
     "data": {
      "image/png": "[encoded data removed]",
      "text/latex": [
       "$\\displaystyle \\frac{2 \\left(\\frac{4 \\left(x - 1\\right) \\left(4 x^{7} - 28 x^{6} + 81 x^{5} - 125 x^{4} + 112 x^{3} - 60 x^{2} + 18 x - 2\\right)}{\\left(x^{2} - 2 x + 2\\right) \\left(x^{8} - 8 x^{7} + 27 x^{6} - 50 x^{5} + 56 x^{4} - 40 x^{3} + 18 x^{2} - 4 x + 1\\right)} + \\frac{\\frac{4 \\left(x - 1\\right)^{2}}{x^{2} - 2 x + 2} - 1}{x^{2} - 2 x + 2} - \\frac{28 x^{6} - 168 x^{5} + 405 x^{4} - 500 x^{3} + 336 x^{2} - 120 x - \\frac{4 \\left(4 x^{7} - 28 x^{6} + 81 x^{5} - 125 x^{4} + 112 x^{3} - 60 x^{2} + 18 x - 2\\right)^{2}}{x^{8} - 8 x^{7} + 27 x^{6} - 50 x^{5} + 56 x^{4} - 40 x^{3} + 18 x^{2} - 4 x + 1} + 18}{x^{8} - 8 x^{7} + 27 x^{6} - 50 x^{5} + 56 x^{4} - 40 x^{3} + 18 x^{2} - 4 x + 1}\\right)}{\\left(x^{2} - 2 x + 2\\right) \\left(x^{8} - 8 x^{7} + 27 x^{6} - 50 x^{5} + 56 x^{4} - 40 x^{3} + 18 x^{2} - 4 x + 1\\right)}$"
      ],
      "text/plain": [
       "  ⎛                                                                           \n",
       "  ⎜                                                                           \n",
       "  ⎜                                                                           \n",
       "  ⎜                                                                           \n",
       "  ⎜             ⎛   7       6       5        4        3       2           ⎞   \n",
       "  ⎜   4⋅(x - 1)⋅⎝4⋅x  - 28⋅x  + 81⋅x  - 125⋅x  + 112⋅x  - 60⋅x  + 18⋅x - 2⎠   \n",
       "2⋅⎜───────────────────────────────────────────────────────────────────────────\n",
       "  ⎜⎛ 2          ⎞ ⎛ 8      7       6       5       4       3       2          \n",
       "  ⎝⎝x  - 2⋅x + 2⎠⋅⎝x  - 8⋅x  + 27⋅x  - 50⋅x  + 56⋅x  - 40⋅x  + 18⋅x  - 4⋅x + 1\n",
       "──────────────────────────────────────────────────────────────────────────────\n",
       "                                                                         ⎛ 2  \n",
       "                                                                         ⎝x  -\n",
       "\n",
       "                                                                              \n",
       "              2                                                              ⎛\n",
       "     4⋅(x - 1)             6        5        4        3        2           4⋅⎝\n",
       "    ──────────── - 1   28⋅x  - 168⋅x  + 405⋅x  - 500⋅x  + 336⋅x  - 120⋅x - ───\n",
       "     2                                                                       8\n",
       "    x  - 2⋅x + 2                                                            x \n",
       "─ + ──────────────── - ───────────────────────────────────────────────────────\n",
       "⎞      2                                              8      7       6       5\n",
       "⎠     x  - 2⋅x + 2                                   x  - 8⋅x  + 27⋅x  - 50⋅x \n",
       "──────────────────────────────────────────────────────────────────────────────\n",
       "        ⎞ ⎛ 8      7       6       5       4       3       2          ⎞       \n",
       " 2⋅x + 2⎠⋅⎝x  - 8⋅x  + 27⋅x  - 50⋅x  + 56⋅x  - 40⋅x  + 18⋅x  - 4⋅x + 1⎠       \n",
       "\n",
       "                                                          2     ⎞\n",
       "   7       6       5        4        3       2           ⎞      ⎟\n",
       "4⋅x  - 28⋅x  + 81⋅x  - 125⋅x  + 112⋅x  - 60⋅x  + 18⋅x - 2⎠      ⎟\n",
       "─────────────────────────────────────────────────────────── + 18⎟\n",
       "      7       6       5       4       3       2                 ⎟\n",
       " - 8⋅x  + 27⋅x  - 50⋅x  + 56⋅x  - 40⋅x  + 18⋅x  - 4⋅x + 1       ⎟\n",
       "────────────────────────────────────────────────────────────────⎟\n",
       "       4       3       2                                        ⎟\n",
       " + 56⋅x  - 40⋅x  + 18⋅x  - 4⋅x + 1                              ⎠\n",
       "─────────────────────────────────────────────────────────────────\n",
       "                                                                 \n",
       "                                                                 "
      ]
     },
     "execution_count": 36,
     "metadata": {},
     "output_type": "execute_result"
    }
   ],
   "source": [
    "_34.diff(x,2)"
   ]
  },
  {
   "cell_type": "code",
   "execution_count": 37,
   "metadata": {},
   "outputs": [
    {
     "data": {
      "image/png": "[encoded data removed]",
      "text/latex": [
       "$\\displaystyle \\frac{2 \\left(\\tan^{2}{\\left(\\frac{x}{y} \\right)} + 1\\right) \\left(\\frac{x^{2} \\left(\\tan^{2}{\\left(\\frac{x}{y} \\right)} + 1\\right)}{y^{2}} + \\frac{2 x^{2} \\tan^{2}{\\left(\\frac{x}{y} \\right)}}{y^{2}} + \\frac{4 x \\tan{\\left(\\frac{x}{y} \\right)}}{y} + 1\\right)}{y^{3}}$"
      ],
      "text/plain": [
       "                ⎛ 2 ⎛   2⎛x⎞    ⎞      2    2⎛x⎞          ⎛x⎞    ⎞\n",
       "                ⎜x ⋅⎜tan ⎜─⎟ + 1⎟   2⋅x ⋅tan ⎜─⎟   4⋅x⋅tan⎜─⎟    ⎟\n",
       "  ⎛   2⎛x⎞    ⎞ ⎜   ⎝    ⎝y⎠    ⎠            ⎝y⎠          ⎝y⎠    ⎟\n",
       "2⋅⎜tan ⎜─⎟ + 1⎟⋅⎜──────────────── + ──────────── + ────────── + 1⎟\n",
       "  ⎝    ⎝y⎠    ⎠ ⎜        2                2            y         ⎟\n",
       "                ⎝       y                y                       ⎠\n",
       "──────────────────────────────────────────────────────────────────\n",
       "                                 3                                \n",
       "                                y                                 "
      ]
     },
     "execution_count": 37,
     "metadata": {},
     "output_type": "execute_result"
    }
   ],
   "source": [
    "(sin(x)+tan(x/y)).diff(x,1,y,2)"
   ]
  },
  {
   "cell_type": "code",
   "execution_count": 38,
   "metadata": {},
   "outputs": [
    {
     "data": {
      "text/plain": [
       "F"
      ]
     },
     "execution_count": 38,
     "metadata": {},
     "output_type": "execute_result"
    }
   ],
   "source": [
    "F=Function(\"F\")\n",
    "F"
   ]
  },
  {
   "cell_type": "code",
   "execution_count": 39,
   "metadata": {},
   "outputs": [
    {
     "data": {
      "text/plain": [
       "G"
      ]
     },
     "execution_count": 39,
     "metadata": {},
     "output_type": "execute_result"
    }
   ],
   "source": [
    "G=Function(\"G\")\n",
    "G"
   ]
  },
  {
   "cell_type": "code",
   "execution_count": 40,
   "metadata": {},
   "outputs": [
    {
     "data": {
      "image/png": "[encoded data removed]",
      "text/latex": [
       "$\\displaystyle \\left( F{\\left(x \\right)}, \\  G{\\left(x \\right)}\\right)$"
      ],
      "text/plain": [
       "(F(x), G(x))"
      ]
     },
     "execution_count": 40,
     "metadata": {},
     "output_type": "execute_result"
    }
   ],
   "source": [
    "F(x), G(x)"
   ]
  },
  {
   "cell_type": "code",
   "execution_count": 41,
   "metadata": {},
   "outputs": [
    {
     "data": {
      "image/png": "[encoded data removed]",
      "text/latex": [
       "$\\displaystyle \\frac{d}{d x} F{\\left(x \\right)}$"
      ],
      "text/plain": [
       "d       \n",
       "──(F(x))\n",
       "dx      "
      ]
     },
     "execution_count": 41,
     "metadata": {},
     "output_type": "execute_result"
    }
   ],
   "source": [
    "F(x).diff(x)"
   ]
  },
  {
   "cell_type": "code",
   "execution_count": 42,
   "metadata": {},
   "outputs": [
    {
     "data": {
      "image/png": "[encoded data removed]",
      "text/latex": [
       "$\\displaystyle F{\\left(G{\\left(x \\right)} \\right)}$"
      ],
      "text/plain": [
       "F(G(x))"
      ]
     },
     "execution_count": 42,
     "metadata": {},
     "output_type": "execute_result"
    }
   ],
   "source": [
    "F(G(x))"
   ]
  },
  {
   "cell_type": "markdown",
   "metadata": {},
   "source": [
    "## Regla de la cadena"
   ]
  },
  {
   "cell_type": "code",
   "execution_count": 43,
   "metadata": {},
   "outputs": [
    {
     "data": {
      "image/png": "[encoded data removed]",
      "text/latex": [
       "$\\displaystyle \\frac{d}{d G{\\left(x \\right)}} F{\\left(G{\\left(x \\right)} \\right)} \\frac{d}{d x} G{\\left(x \\right)}$"
      ],
      "text/plain": [
       "  d            d       \n",
       "─────(F(G(x)))⋅──(G(x))\n",
       "dG(x)          dx      "
      ]
     },
     "execution_count": 43,
     "metadata": {},
     "output_type": "execute_result"
    }
   ],
   "source": [
    "F(G(x)).diff(x)"
   ]
  },
  {
   "cell_type": "markdown",
   "metadata": {},
   "source": [
    "## Regla del producto"
   ]
  },
  {
   "cell_type": "code",
   "execution_count": 44,
   "metadata": {},
   "outputs": [
    {
     "data": {
      "image/png": "[encoded data removed]",
      "text/latex": [
       "$\\displaystyle F{\\left(x \\right)} \\frac{d}{d x} G{\\left(x \\right)} + G{\\left(x \\right)} \\frac{d}{d x} F{\\left(x \\right)}$"
      ],
      "text/plain": [
       "     d               d       \n",
       "F(x)⋅──(G(x)) + G(x)⋅──(F(x))\n",
       "     dx              dx      "
      ]
     },
     "execution_count": 44,
     "metadata": {},
     "output_type": "execute_result"
    }
   ],
   "source": [
    "(F(x)*G(x)).diff(x)"
   ]
  },
  {
   "cell_type": "markdown",
   "metadata": {},
   "source": [
    "## Regla de la división"
   ]
  },
  {
   "cell_type": "code",
   "execution_count": 45,
   "metadata": {},
   "outputs": [
    {
     "data": {
      "image/png": "[encoded data removed]",
      "text/latex": [
       "$\\displaystyle - \\frac{F{\\left(x \\right)} \\frac{d}{d x} G{\\left(x \\right)}}{G^{2}{\\left(x \\right)}} + \\frac{\\frac{d}{d x} F{\\left(x \\right)}}{G{\\left(x \\right)}}$"
      ],
      "text/plain": [
       "       d          d       \n",
       "  F(x)⋅──(G(x))   ──(F(x))\n",
       "       dx         dx      \n",
       "- ───────────── + ────────\n",
       "       2            G(x)  \n",
       "      G (x)               "
      ]
     },
     "execution_count": 45,
     "metadata": {},
     "output_type": "execute_result"
    }
   ],
   "source": [
    "(F(x)/G(x)).diff(x)"
   ]
  },
  {
   "cell_type": "markdown",
   "metadata": {},
   "source": [
    "## Integrales"
   ]
  },
  {
   "cell_type": "code",
   "execution_count": 46,
   "metadata": {},
   "outputs": [
    {
     "data": {
      "image/png": "[encoded data removed]",
      "text/latex": [
       "$\\displaystyle \\frac{x}{2} + \\frac{\\sin{\\left(x \\right)} \\cos{\\left(x \\right)}}{2}$"
      ],
      "text/plain": [
       "x   sin(x)⋅cos(x)\n",
       "─ + ─────────────\n",
       "2         2      "
      ]
     },
     "execution_count": 46,
     "metadata": {},
     "output_type": "execute_result"
    }
   ],
   "source": [
    "(cos(x)**2).integrate(x)"
   ]
  },
  {
   "cell_type": "markdown",
   "metadata": {},
   "source": [
    "# Series de Fourier"
   ]
  },
  {
   "cell_type": "code",
   "execution_count": 47,
   "metadata": {},
   "outputs": [
    {
     "data": {
      "image/png": "[encoded data removed]",
      "text/latex": [
       "$\\displaystyle - 4 \\cos{\\left(x \\right)} + \\cos{\\left(2 x \\right)} + \\frac{\\pi^{2}}{3} + \\ldots$"
      ],
      "text/plain": [
       "                        2    \n",
       "                       π     \n",
       "-4⋅cos(x) + cos(2⋅x) + ── + …\n",
       "                       3     "
      ]
     },
     "execution_count": 47,
     "metadata": {},
     "output_type": "execute_result"
    }
   ],
   "source": [
    "s = fourier_series(x**2, (x, -pi, pi))\n",
    "s"
   ]
  },
  {
   "cell_type": "code",
   "execution_count": 48,
   "metadata": {},
   "outputs": [
    {
     "data": {
      "image/png": "[encoded data removed]",
      "text/latex": [
       "$\\displaystyle - 8 \\cos{\\left(x \\right)} + 2 \\cos{\\left(2 x \\right)} + \\frac{2 \\pi^{2}}{3}$"
      ],
      "text/plain": [
       "                            2\n",
       "                         2⋅π \n",
       "-8⋅cos(x) + 2⋅cos(2⋅x) + ────\n",
       "                          3  "
      ]
     },
     "execution_count": 48,
     "metadata": {},
     "output_type": "execute_result"
    }
   ],
   "source": [
    "s.scale(2).truncate()"
   ]
  },
  {
   "cell_type": "code",
   "execution_count": 49,
   "metadata": {},
   "outputs": [
    {
     "data": {
      "image/png": "[encoded data removed]",
      "text/latex": [
       "$\\displaystyle \\sqrt{\\pi} e^{- \\pi^{2} k^{2}}$"
      ],
      "text/plain": [
       "      2  2\n",
       "    -π ⋅k \n",
       "√π⋅ℯ      "
      ]
     },
     "execution_count": 49,
     "metadata": {},
     "output_type": "execute_result"
    }
   ],
   "source": [
    "fourier_transform(exp(-x**2), x,k)"
   ]
  },
  {
   "cell_type": "markdown",
   "metadata": {},
   "source": [
    "## Límite"
   ]
  },
  {
   "cell_type": "code",
   "execution_count": 50,
   "metadata": {},
   "outputs": [
    {
     "data": {
      "image/png": "[encoded data removed]",
      "text/latex": [
       "$\\displaystyle -\\infty$"
      ],
      "text/plain": [
       "-∞"
      ]
     },
     "execution_count": 50,
     "metadata": {},
     "output_type": "execute_result"
    }
   ],
   "source": [
    "limit(1/x, x,0, dir=\"-\")"
   ]
  },
  {
   "cell_type": "code",
   "execution_count": 51,
   "metadata": {},
   "outputs": [
    {
     "data": {
      "image/png": "[encoded data removed]",
      "text/latex": [
       "$\\displaystyle \\infty$"
      ],
      "text/plain": [
       "∞"
      ]
     },
     "execution_count": 51,
     "metadata": {},
     "output_type": "execute_result"
    }
   ],
   "source": [
    "limit(1/x, x,0, dir=\"+\")"
   ]
  },
  {
   "cell_type": "markdown",
   "metadata": {},
   "source": [
    "--"
   ]
  },
  {
   "cell_type": "code",
   "execution_count": 52,
   "metadata": {},
   "outputs": [
    {
     "data": {
      "image/png": "[encoded data removed]",
      "text/latex": [
       "$\\displaystyle x^{2} - x = 3$"
      ],
      "text/plain": [
       " 2        \n",
       "x  - x = 3"
      ]
     },
     "execution_count": 52,
     "metadata": {},
     "output_type": "execute_result"
    }
   ],
   "source": [
    "e1= Eq(x**2-x,3)\n",
    "e1"
   ]
  },
  {
   "cell_type": "code",
   "execution_count": 53,
   "metadata": {},
   "outputs": [
    {
     "data": {
      "image/png": "[encoded data removed]",
      "text/latex": [
       "$\\displaystyle \\left[ \\frac{1}{2} - \\frac{\\sqrt{13}}{2}, \\  \\frac{1}{2} + \\frac{\\sqrt{13}}{2}\\right]$"
      ],
      "text/plain": [
       "⎡1   √13  1   √13⎤\n",
       "⎢─ - ───, ─ + ───⎥\n",
       "⎣2    2   2    2 ⎦"
      ]
     },
     "execution_count": 53,
     "metadata": {},
     "output_type": "execute_result"
    }
   ],
   "source": [
    "solve(e1,x)"
   ]
  }
 ],
 "metadata": {
  "kernelspec": {
   "display_name": "Python 3",
   "language": "python",
   "name": "python3"
  },
  "language_info": {
   "codemirror_mode": {
    "name": "ipython",
    "version": 3
   },
   "file_extension": ".py",
   "mimetype": "text/x-python",
   "name": "python",
   "nbconvert_exporter": "python",
   "pygments_lexer": "ipython3",
   "version": "3.7.6"
  },
  "varInspector": {
   "cols": {
    "lenName": 16,
    "lenType": 16,
    "lenVar": 40
   },
   "kernels_config": {
    "python": {
     "delete_cmd_postfix": "",
     "delete_cmd_prefix": "del ",
     "library": "var_list.py",
     "varRefreshCmd": "print(var_dic_list())"
    },
    "r": {
     "delete_cmd_postfix": ") ",
     "delete_cmd_prefix": "rm(",
     "library": "var_list.r",
     "varRefreshCmd": "cat(var_dic_list()) "
    }
   },
   "types_to_exclude": [
    "module",
    "function",
    "builtin_function_or_method",
    "instance",
    "_Feature"
   ],
   "window_display": false
  }
 },
 "nbformat": 4,
 "nbformat_minor": 4
}
