{
 "cells": [
  {
   "cell_type": "code",
   "execution_count": 1,
   "metadata": {},
   "outputs": [],
   "source": [
    "from gtts import gTTS #pip install gtts\n",
    "from playsound import playsound #pip install playsound \n",
    " "
   ]
  },
  {
   "cell_type": "code",
   "execution_count": 2,
   "metadata": {},
   "outputs": [],
   "source": [
    "with open(\"contenido.txt\", \"w\") as file:\n",
    "    file.write(\"Hola soy tu asistente por voz\")\n",
    "    file.write(\"\\n\")\n",
    "    file.write(\"¿Qué necesitas?\")\n",
    "    file.close()\n",
    " "
   ]
  },
  {
   "cell_type": "code",
   "execution_count": 3,
   "metadata": {},
   "outputs": [],
   "source": [
    "def voz(text_file, lang, name_file):\n",
    "    with open(text_file, \"r\") as file:\n",
    "        text = file.read()\n",
    "    file = gTTS(text=text,lang=lang)\n",
    "    filename = name_file\n",
    "    file.save(filename)"
   ]
  },
  {
   "cell_type": "code",
   "execution_count": 4,
   "metadata": {},
   "outputs": [
    {
     "name": "stdout",
     "output_type": "stream",
     "text": [
      "Reproduciendo:\n"
     ]
    }
   ],
   "source": [
    "voz(\"contenido.txt\",\"es\",\"voz.mp3\")\n",
    "print(\"Reproduciendo:\")"
   ]
  },
  {
   "cell_type": "code",
   "execution_count": 5,
   "metadata": {},
   "outputs": [
    {
     "name": "stdout",
     "output_type": "stream",
     "text": [
      "Reproducido.\n"
     ]
    }
   ],
   "source": [
    "audio = \"voz.mp3\"\n",
    "playsound(audio)\n",
    "print(\"Reproducido.\")"
   ]
  }
 ],
 "metadata": {
  "kernelspec": {
   "display_name": "Python 3",
   "language": "python",
   "name": "python3"
  },
  "language_info": {
   "codemirror_mode": {
    "name": "ipython",
    "version": 3
   },
   "file_extension": ".py",
   "mimetype": "text/x-python",
   "name": "python",
   "nbconvert_exporter": "python",
   "pygments_lexer": "ipython3",
   "version": "3.8.5"
  }
 },
 "nbformat": 4,
 "nbformat_minor": 4
}
