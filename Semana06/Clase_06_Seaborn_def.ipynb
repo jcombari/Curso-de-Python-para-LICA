{
 "cells": [
  {
   "cell_type": "markdown",
   "metadata": {},
   "source": [
    "# Visualización de datos con Seaborn\n",
    "Seaborn es una libreria de Python que trabaja por sobre Matplotlib. Esta libreria nos permite generar gráficos a partir de DataFrames de Pandas de manera muy cómoda y accesible. \n",
    "\n",
    "Antes de empezar a trabajar vamos a importar las librerias que ya conocemos de antes, y ahora sumaremos seaborn, la cual se suele importar con el nombre `sns`."
   ]
  },
  {
   "cell_type": "code",
   "execution_count": null,
   "metadata": {},
   "outputs": [],
   "source": [
    "import numpy as np\n",
    "import pandas as pd\n",
    "import matplotlib.pyplot as plt\n",
    "%matplotlib inline\n",
    "\n",
    "import seaborn as sns\n",
    "#sns.set()"
   ]
  },
  {
   "cell_type": "markdown",
   "metadata": {},
   "source": [
    "## 1. Comparación con Matplotlib\n",
    "\n",
    "### 1.1. Scatter Plot\n",
    "\n",
    "Primero, vamos a poner en evidencia las ventajas que nos ofrece Seaborn frente a Matplotlib a la hora de trabajar con datos proveninetes de un DataFrame de Pandas. Para esto vamos a volver a cargar el dataset de Reviews de Vinos con el que trabajamos la clase anterior."
   ]
  },
  {
   "cell_type": "code",
   "execution_count": null,
   "metadata": {},
   "outputs": [],
   "source": [
    "# Definimos las columnas que nos interesan\n",
    "fields = ['country', 'points','price', 'variety']\n",
    "\n",
    "# Cargamos el DataFrame solo con esas columnas\n",
    "wine_reviews = pd.read_csv('Clase_05_wine_reviews.txt', sep='\\t', encoding=\"ansi\", usecols = fields)\n",
    "wine_reviews.head()\n",
    "\n",
    "\n"
   ]
  },
  {
   "cell_type": "code",
   "execution_count": null,
   "metadata": {},
   "outputs": [],
   "source": [
    "wine_reviews.isna().sum()"
   ]
  },
  {
   "cell_type": "code",
   "execution_count": null,
   "metadata": {},
   "outputs": [],
   "source": [
    "wine_reviews.info()"
   ]
  },
  {
   "cell_type": "markdown",
   "metadata": {},
   "source": [
    "En el notebook anterior vimos cómo hacer para graficar el precio vs. el puntaje de todos los vinos. Para lograrlo, precisábamos crear, a partir del DataFrame, vectores con los precios y con los valores de los vinos, y luego usar estos vectores para graficar. Debíamos, además, agregar la información en los labels de cada eje a mano:"
   ]
  },
  {
   "cell_type": "code",
   "execution_count": null,
   "metadata": {},
   "outputs": [],
   "source": [
    "# Tomamos como coordenadas en x los precios\n",
    "x = wine_reviews.price.values\n",
    "# Tomamos como coordenadas en y el puntaje de la review\n",
    "y = wine_reviews.points.values\n",
    "\n",
    "fig = plt.figure()\n",
    "ax = plt.axes()\n",
    "\n",
    "ax.scatter(x, y)\n",
    "ax.set(xlabel='price', ylabel='points')"
   ]
  },
  {
   "cell_type": "markdown",
   "metadata": {},
   "source": [
    "Si queremos graficar este mismo scatter plot usando seaborn, sólo precisamos escribir una linea de código:"
   ]
  },
  {
   "cell_type": "code",
   "execution_count": null,
   "metadata": {},
   "outputs": [],
   "source": [
    "ax = sns.scatterplot(x=\"price\", y=\"points\", data=wine_reviews)"
   ]
  },
  {
   "cell_type": "markdown",
   "metadata": {},
   "source": [
    "La ventaja de utilizar esta libreria radica en que podemos indicarle a la función `scatterplot` de seaborn cual es el Dataframe del cual queremos tomar los datos para graficar a traves del argumento `data` (`data=wine_reviews`).\n",
    "\n",
    "De esta forma, al darle los nombres de las columnas que queremos usar en los ejes `x` e `y`, la librearia ya interpreta que debe tomar los valores correspondientes a esas columnas para graficar (en este caso, `x=\"price\"` e `y=\"points\"`)."
   ]
  },
  {
   "cell_type": "markdown",
   "metadata": {},
   "source": [
    "### 1.2. Scatter Plot con labels\n",
    "\n",
    "Vamos a armar ahora un dataset que contenga únicamente los vinos Argentinos, Chilenos y Españoles."
   ]
  },
  {
   "cell_type": "code",
   "execution_count": null,
   "metadata": {},
   "outputs": [],
   "source": [
    "lista_paises = ['Argentina','Chile','Spain']\n",
    "wine_reviews_filtradas = wine_reviews[wine_reviews['country'].isin(lista_paises)]\n",
    "wine_reviews_filtradas.head()"
   ]
  },
  {
   "cell_type": "markdown",
   "metadata": {},
   "source": [
    "**Ejercicio:** Siguiendo lo realizado en el notebook anterior, realice un gráfico scatter plot de precio vs puntaje en el cual diferencie por color el pais de origen de cada vino (Argentina, España o Chile)."
   ]
  },
  {
   "cell_type": "code",
   "execution_count": null,
   "metadata": {},
   "outputs": [],
   "source": [
    "ARG_wine_reviews = wine_reviews_filtradas[wine_reviews_filtradas['country']=='Argentina']\n",
    "# Tomamos como coordenadas en x los precios\n",
    "precio_arg = ARG_wine_reviews.price.values\n",
    "# Tomamos como coordenadas en y el puntaje de la review\n",
    "puntos_arg = ARG_wine_reviews.points.values\n",
    "\n",
    "CHI_wine_reviews = wine_reviews_filtradas[wine_reviews_filtradas['country']=='Chile']\n",
    "# Tomamos como coordenadas en x los precios\n",
    "precio_chi = CHI_wine_reviews.price.values\n",
    "# Tomamos como coordenadas en y el puntaje de la review\n",
    "puntos_chi = CHI_wine_reviews.points.values\n",
    "\n",
    "ESP_wine_reviews = wine_reviews_filtradas[wine_reviews_filtradas['country']=='Spain']\n",
    "# Tomamos como coordenadas en x los precios\n",
    "precio_esp = ESP_wine_reviews.price.values\n",
    "# Tomamos como coordenadas en y el puntaje de la review\n",
    "puntos_esp = ESP_wine_reviews.points.values"
   ]
  },
  {
   "cell_type": "code",
   "execution_count": null,
   "metadata": {},
   "outputs": [],
   "source": [
    "fig = plt.figure()\n",
    "ax = plt.axes()\n",
    "\n",
    "# Graficamos putnos semi transparentes, cada uno con el label adecuado\n",
    "\n",
    "ax.scatter(precio_esp, puntos_esp, label = 'Vinos Españoles',alpha = 0.3)\n",
    "ax.scatter(precio_arg, puntos_arg, label = 'Vinos Argentinos',alpha = 0.3)\n",
    "ax.scatter(precio_chi, puntos_chi, label = 'Vinos Chilenos',alpha = 0.3)\n",
    "\n",
    "ax.set(xlabel='Precio (usd)', ylabel='Puntaje',\n",
    "       title='Precio vs. puntaje en vinos', xlim = (0,250))\n",
    "\n",
    "# Agregamos la leyenda al gráfico, la graficamos abajo a la derecha\n",
    "ax.legend(loc='lower right', shadow=True, fontsize=13)"
   ]
  },
  {
   "cell_type": "markdown",
   "metadata": {},
   "source": [
    "Para realizar este mismo gráfico con seaborn, solo precisamos una linea de código: "
   ]
  },
  {
   "cell_type": "code",
   "execution_count": null,
   "metadata": {},
   "outputs": [],
   "source": [
    "ax = sns.scatterplot(x=\"price\", y=\"points\", hue=\"country\" , data=wine_reviews_filtradas)"
   ]
  },
  {
   "cell_type": "markdown",
   "metadata": {},
   "source": [
    "En este caso, le estamos indicando a la funcion `scatterplot` que no solo queremos que tome la columna `price` como eje `x` y la columna `points` como eje `y`, sino que además queremos que indique con colores distintos los puntos segun su valor de la columna `country`. Esto lo hacemos mediante el argumento `hue` (`hue=\"country\"`).\n",
    "\n",
    "Esperamos con estos primeros ejemplos haberlos convencido que el uso de Seaborn facilita la visualización de datos provienentes de un DataFrame respecto a la utilización de (solo) Matplotlib. A continuación vamos a explorar algunas de las funciones de visualización que nos ofrece esta libreria."
   ]
  },
  {
   "cell_type": "markdown",
   "metadata": {},
   "source": [
    "## 2. Categorical Plots\n",
    "\n",
    "Vamos a trabajar con el Dataset Iris. En el mismo tenemos 4 features distintos (medidas de ancho y largo de pétalos y sepas) y tres labels distintos (variedad a la que pertenece la flor)."
   ]
  },
  {
   "cell_type": "code",
   "execution_count": null,
   "metadata": {},
   "outputs": [],
   "source": [
    "import os\n",
    "os.getcwd()"
   ]
  },
  {
   "cell_type": "code",
   "execution_count": null,
   "metadata": {},
   "outputs": [],
   "source": [
    "iris_data = pd.read_csv('Clase_06_iris.csv')"
   ]
  },
  {
   "cell_type": "code",
   "execution_count": null,
   "metadata": {},
   "outputs": [],
   "source": [
    "iris_data.drop(columns = ['Id'], inplace= True)\n",
    "iris_data.head()"
   ]
  },
  {
   "cell_type": "markdown",
   "metadata": {},
   "source": [
    "### 2.1. Categorical plot básico\n",
    "\n",
    "Como su nombre lo indica, los categorical plots son gráficos donde una de las variables a graficar es de tipo categórica. Este tipo de gráficos son muy usados en Data Science y Seaborn tiene una función especial dedicada a ellos, `catplot`.\n",
    "\n",
    "Primero veamos un ejemplo de cómo hacer para realizar un grafico de este tipo en Matplotlib. El objetivo es graficar el ancho del petalo según la especie ."
   ]
  },
  {
   "cell_type": "code",
   "execution_count": null,
   "metadata": {},
   "outputs": [],
   "source": [
    "iris_data.head()"
   ]
  },
  {
   "cell_type": "code",
   "execution_count": null,
   "metadata": {},
   "outputs": [],
   "source": [
    "especie = iris_data['Species']\n",
    "ancho_petalo = iris_data['SepalLengthCm']\n",
    "\n",
    "fig = plt.figure()\n",
    "ax = plt.axes()\n",
    "ax.scatter(especie,ancho_petalo)"
   ]
  },
  {
   "cell_type": "markdown",
   "metadata": {},
   "source": [
    "Como podemos observar el resultado no es muy satisfactorio. Al estar todos los puntos sobre una misma linea, no se pueden distinguir entre sí. \n",
    "\n",
    "Veamos ahora como realizar el mismo gráfico son seaborn:"
   ]
  },
  {
   "cell_type": "code",
   "execution_count": null,
   "metadata": {},
   "outputs": [],
   "source": [
    "sns.catplot(data = iris_data, x = \"Species\", y = \"SepalLengthCm\")"
   ]
  },
  {
   "cell_type": "markdown",
   "metadata": {},
   "source": [
    "Como se puede observar, Seaborn le da automáticamente distintos colores a las categorías y además los separa para poder identificar la cantidad de puntos en cada grupo con facilidad.\n",
    "\n",
    "**Ejercicos**:\n",
    "\n",
    "1. Realizar con Seaborn un gráfico del ancho del petalo según la especie\n",
    "2. Realizar el mismo gráfico, pero ahora como gráfico de barras. **Pista**: ver el parametro `kind`\n",
    "3. ¿Que representan las barritas negras?\n",
    "4. Averiguar la utilidad de los parámetros `ci` y `estimator`."
   ]
  },
  {
   "cell_type": "code",
   "execution_count": null,
   "metadata": {},
   "outputs": [],
   "source": [
    "sns.barplot(data = iris_data, x = \"Species\", y = \"PetalWidthCm\")#,ci = \"sd\",estimator=np.median"
   ]
  },
  {
   "cell_type": "markdown",
   "metadata": {},
   "source": [
    "### 2.2. Boxplot\n",
    "\n",
    "Volvamos al dataset de vinos. Vamos a armar un nuevo dataset solo con los vinos de Argentina, Chile y España, pero esta vez sólo con las siguietnes variedades: 'Malbec', 'Red Blend' y 'Cabernet Sauvignon'."
   ]
  },
  {
   "cell_type": "code",
   "execution_count": null,
   "metadata": {},
   "outputs": [],
   "source": [
    "print(wine_reviews.shape)\n",
    "wine_reviews_filtradas.shape"
   ]
  },
  {
   "cell_type": "code",
   "execution_count": null,
   "metadata": {},
   "outputs": [],
   "source": [
    "lista_variedades = ['Malbec','Red Blend','Cabernet Sauvignon']\n",
    "vinos = wine_reviews_filtradas[wine_reviews_filtradas['variety'].isin(lista_variedades)].dropna()\n",
    "print(vinos.shape)\n",
    "vinos.head()\n"
   ]
  },
  {
   "cell_type": "markdown",
   "metadata": {},
   "source": [
    "Queremos realizar un único gráfico que muestre el precio de los vinos en gráfico de cajas (boxplots) para los 3 distintos paises y las 3 variedades de vinos. Debemos entonces usar el parámetro `kind='box'` para determinar que queremos un gráfico de cajas y el parámetro `col='country'` para indicar que queremos tantos ejes en el gráfico como valores distintos hay en el campo `country`."
   ]
  },
  {
   "cell_type": "code",
   "execution_count": null,
   "metadata": {},
   "outputs": [],
   "source": [
    "sns.catplot(x=\"country\", y=\"price\", col=\"variety\", kind='box' , data=vinos)"
   ]
  },
  {
   "cell_type": "markdown",
   "metadata": {},
   "source": [
    "**Ejercicios**:\n",
    "\n",
    "1. En el último gráfico, era difícil visualizar bien los resultados debido a precios que eran mucho más grandes que los demás. ¿Cómo podría solucionar facilmente este problema? \n",
    "2. Averigüe cómo cambiar el gráfico si desea que los 3 ejes aparezcan apilados verticalmente en lugar de uno al lado del otro.\n",
    "3. Averigüe cómo hacer un violin plot y conjeture en qué circunstancias podría ser de utilidad."
   ]
  },
  {
   "cell_type": "code",
   "execution_count": null,
   "metadata": {},
   "outputs": [],
   "source": [
    "sns.catplot(x=\"country\", y=\"price\", col=\"variety\", kind='box', data=vinos)\n",
    "plt.ylim(0, 70)"
   ]
  },
  {
   "cell_type": "code",
   "execution_count": null,
   "metadata": {},
   "outputs": [],
   "source": [
    "sns.catplot(x=\"variety\", y=\"price\", row=\"country\", kind='violin' , data=vinos)\n",
    "plt.ylim(0, 100)"
   ]
  },
  {
   "cell_type": "markdown",
   "metadata": {},
   "source": [
    "## 3. Histogramas: Graficar la distribución de una variable aleatoria\n",
    "\n",
    "Seaborn posee una función para graficar la distribución de una variables aleatoria llamada `distplot()`. La misma tiene tres parametros principales\n",
    "\n",
    "* `hist`: Es el parametro que controlo si dibujamos o no el histograma (por default en `True`).\n",
    "* `kde`: permite graficar un estimado de la distribución mediante una técnica llamada Kernel Density Estimation, KDE para los amigos (por default en `True`).\n",
    "* `rug`: Dibuja sobre el eje horizonal una pequeña linea por cada valor, esto se llama rugplot (por default en `False`).\n",
    "\n",
    "Ademas también peude tomar el parámetro `bins`, con el cual determinamos al cantidad de barras del histograma.\n",
    "\n",
    "Para el caso del dataset dataset Iris podriamos graficar, por ejemplo, la distribución del largo de los pétalos:"
   ]
  },
  {
   "cell_type": "code",
   "execution_count": null,
   "metadata": {},
   "outputs": [],
   "source": [
    "sns.distplot(iris_data['SepalLengthCm'], hist=True, kde=True, rug=True)"
   ]
  },
  {
   "cell_type": "markdown",
   "metadata": {},
   "source": [
    "Con el fin de comparar, se pueden graficar varias distribuciones en una misma figura. Por ejemplo, para el caso del dataset de vinos, podemos graficar el precio según variedad:"
   ]
  },
  {
   "cell_type": "code",
   "execution_count": null,
   "metadata": {},
   "outputs": [],
   "source": [
    "sns.distplot(vinos[vinos['variety'] == 'Malbec'].price)\n",
    "sns.distplot(vinos[vinos['variety'] == 'Red Blend'].price)\n",
    "sns.distplot(vinos[vinos['variety'] == 'Cabernet Sauvignon'].price)\n",
    "\n",
    "plt.legend(['Malbec','Red Blend','Cabernet Sauvignon'])\n",
    "plt.xlim(0,100)"
   ]
  },
  {
   "cell_type": "markdown",
   "metadata": {},
   "source": [
    "Otra función interesante de Seaborn es la función `jointplot()`, la cual grafica un scatterplot junto a dos histogramas, uno para cada una de las variables. \n",
    "\n",
    "Dejamos un ejemplo de su uso en el iris dataset, y pueden recurrir a su documentación para mas detalles: https://seaborn.pydata.org/generated/seaborn.jointplot.html?highlight=jointplot#seaborn.jointplot"
   ]
  },
  {
   "cell_type": "code",
   "execution_count": null,
   "metadata": {},
   "outputs": [],
   "source": [
    "sns.jointplot(x=\"SepalLengthCm\", y=\"PetalLengthCm\", marginal_kws=dict(bins=15, rug=True), data=iris_data)"
   ]
  },
  {
   "cell_type": "markdown",
   "metadata": {},
   "source": [
    "**Ejercicios**:\n",
    "\n",
    "1. Genere un nuevo dataset a partir del dataset de vinos original (wine_reviews) que contenga sólo los vinos cuya variedad es Pinot Noir.\n",
    "2. Descarte de este dataset las instancias que contengan un `NaN` en alguno de sus campos.\n",
    "3. Descarte del dataset los vinos con un precio mayor a 200. Para esto pueden generarse una máscara.\n",
    "4. Graficar en Seaborn un `distplot` con los precios de vinos que contenga el histograma, el KDE y el rugplot."
   ]
  },
  {
   "cell_type": "code",
   "execution_count": null,
   "metadata": {},
   "outputs": [],
   "source": [
    "vinos_pinot = wine_reviews[wine_reviews['variety'] == 'Pinot Noir']\n",
    "vinos_pinot = vinos_pinot.dropna()\n",
    "vinos_pinot = vinos_pinot[vinos_pinot['price'] < 200]\n",
    "sns.distplot(vinos_pinot['price'], bins=30, rug = True)"
   ]
  },
  {
   "cell_type": "markdown",
   "metadata": {},
   "source": [
    "## 4. Pairplots\n",
    "\n",
    "La función `pairplot()` de Seaborn será utilizada reiteradas veces durante la cursada, ya que resulta muy cómoda para hacer una primera inspección de un dataset.\n",
    "\n",
    "La misma genera una grilla de N x N ejes, donde N es el número de variables numéricas que tiene el dataset (features que toman valores numéricos). Para cada par de variables numéricas, genera un scatterplot y en la diagonal grafica la distribucion de esos valores."
   ]
  },
  {
   "cell_type": "code",
   "execution_count": null,
   "metadata": {},
   "outputs": [],
   "source": [
    "sns.pairplot(data=iris_data)"
   ]
  },
  {
   "cell_type": "markdown",
   "metadata": {},
   "source": [
    "Además, podemos diferenciar los datos según alguna de las variables categóricas del dataset mediante el parámetro `hue`. Esto resulta particularmente útil en el caso que querramos usar las variables numericas con el fin de predecir esta varaible categórica (ya desarrollaremos esta idea en las próximas clases)."
   ]
  },
  {
   "cell_type": "code",
   "execution_count": null,
   "metadata": {},
   "outputs": [],
   "source": [
    "sns.pairplot(data=iris_data, hue=\"Species\")"
   ]
  },
  {
   "cell_type": "markdown",
   "metadata": {},
   "source": [
    "**Ejercicios:**\n",
    "\n",
    "1. Graficar un `pairplot` para el dataset de vinos reducido (3 paises y 3 variedades). Antes de hacerlo, ¿cuantas filas y cuantas columans espera que tenga este gráfico?\n",
    "2. Graficar el mismo `pairplot`, pero esta vez distinga los datos según variedad.\n",
    "3. Idem al punto anterior, pero distinga según país."
   ]
  },
  {
   "cell_type": "code",
   "execution_count": null,
   "metadata": {},
   "outputs": [],
   "source": [
    "sns.pairplot(data=vinos)"
   ]
  },
  {
   "cell_type": "code",
   "execution_count": null,
   "metadata": {},
   "outputs": [],
   "source": [
    "sns.pairplot(data=vinos, hue=\"variety\");"
   ]
  },
  {
   "cell_type": "code",
   "execution_count": null,
   "metadata": {},
   "outputs": [],
   "source": [
    "sns.pairplot(data=vinos, hue=\"country\");"
   ]
  },
  {
   "cell_type": "markdown",
   "metadata": {},
   "source": [
    "## 5. Heatmaps (y correlación)\n",
    "\n",
    "Correr la siguiente celda y googlear: ¿Qué es un heatmap?¿Cómo se hacen en Seaborn?¿Qué hace la función `corr()` de Pandas?¿Cuáles son sus parámetros?¿Qué hace el parámetro `method`? Interpretar el gráfico obtenido."
   ]
  },
  {
   "cell_type": "code",
   "execution_count": null,
   "metadata": {},
   "outputs": [],
   "source": [
    "corr = iris_data.drop(columns = 'Species').corr()  #is used for find corelation\n",
    "plt.figure(figsize=(8,8))\n",
    "sns.heatmap(corr, cbar = True,  square = True, annot=True, fmt= '.2f',annot_kws={'size': 15},\n",
    "           xticklabels= iris_data.drop(columns = 'Species').columns, \n",
    "           yticklabels= iris_data.drop(columns = 'Species').columns,\n",
    "           cmap= 'coolwarm')\n",
    "plt.xticks(rotation = 45)\n",
    "plt.yticks(rotation = 45)\n",
    "plt.show()"
   ]
  },
  {
   "cell_type": "markdown",
   "metadata": {},
   "source": [
    "**Volver a correr todo el notebook, pero descomentando la línea `sns.set()` en los import de librerías. ¿Qué hace?**"
   ]
  }
 ],
 "metadata": {
  "kernelspec": {
   "display_name": "Python 3",
   "language": "python",
   "name": "python3"
  },
  "language_info": {
   "codemirror_mode": {
    "name": "ipython",
    "version": 3
   },
   "file_extension": ".py",
   "mimetype": "text/x-python",
   "name": "python",
   "nbconvert_exporter": "python",
   "pygments_lexer": "ipython3",
   "version": "3.7.4"
  }
 },
 "nbformat": 4,
 "nbformat_minor": 4
}
