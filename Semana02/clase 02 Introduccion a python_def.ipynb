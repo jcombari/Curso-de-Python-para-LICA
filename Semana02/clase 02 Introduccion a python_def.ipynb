{
 "cells": [
  {
   "cell_type": "markdown",
   "metadata": {},
   "source": [
    "# Clase 02 sábado 06 de marzo de 2021"
   ]
  },
  {
   "cell_type": "markdown",
   "metadata": {
    "colab_type": "text",
    "id": "Eq2Zw2imPBOQ"
   },
   "source": [
    "#### Operaciones con Texto"
   ]
  },
  {
   "cell_type": "code",
   "execution_count": 1,
   "metadata": {
    "colab": {},
    "colab_type": "code",
    "id": "MvMmHUutPBOR",
    "outputId": "83fb1d19-489e-4090-8660-234f13457f7f"
   },
   "outputs": [
    {
     "name": "stdout",
     "output_type": "stream",
     "text": [
      "Los textos se concatenan.\n"
     ]
    }
   ],
   "source": [
    "txt_1 = 'Los textos'\n",
    "txt_2 = ' se concatenan.'\n",
    "print(txt_1 + txt_2)"
   ]
  },
  {
   "cell_type": "code",
   "execution_count": 5,
   "metadata": {
    "colab": {},
    "colab_type": "code",
    "id": "tFVge951PBOW"
   },
   "outputs": [
    {
     "name": "stdout",
     "output_type": "stream",
     "text": [
      "Los textos se multiplican. \n",
      "Los textos se multiplican. Los textos se multiplican. \n",
      "Los textos se multiplican. Los textos se multiplican. Los textos se multiplican. Los textos se multiplican. Los textos se multiplican. Los textos se multiplican. Los textos se multiplican. Los textos se multiplican. Los textos se multiplican. Los textos se multiplican. \n"
     ]
    }
   ],
   "source": [
    "txt_3 = 'Los textos se multiplican. '\n",
    "print(txt_3)\n",
    "print(txt_3 * 2)\n",
    "print(txt_3 * 10)"
   ]
  },
  {
   "cell_type": "markdown",
   "metadata": {},
   "source": [
    "la siguiente ejecución debe dar error"
   ]
  },
  {
   "cell_type": "code",
   "execution_count": 6,
   "metadata": {
    "colab": {},
    "colab_type": "code",
    "id": "eowEHnQxPBOh",
    "outputId": "e7610cd8-9d67-4fa0-f442-eeeb7b2313b9"
   },
   "outputs": [
    {
     "ename": "TypeError",
     "evalue": "unsupported operand type(s) for -: 'str' and 'str'",
     "output_type": "error",
     "traceback": [
      "\u001b[1;31m---------------------------------------------------------------------------\u001b[0m",
      "\u001b[1;31mTypeError\u001b[0m                                 Traceback (most recent call last)",
      "\u001b[1;32m<ipython-input-6-def6c3f4c5e8>\u001b[0m in \u001b[0;36m<module>\u001b[1;34m\u001b[0m\n\u001b[0;32m      1\u001b[0m \u001b[0mb\u001b[0m \u001b[1;33m=\u001b[0m \u001b[1;34m'Los textos'\u001b[0m\u001b[1;33m\u001b[0m\u001b[1;33m\u001b[0m\u001b[0m\n\u001b[0;32m      2\u001b[0m \u001b[0mc\u001b[0m \u001b[1;33m=\u001b[0m \u001b[1;34m' no se restan.'\u001b[0m\u001b[1;33m\u001b[0m\u001b[1;33m\u001b[0m\u001b[0m\n\u001b[1;32m----> 3\u001b[1;33m \u001b[0mprint\u001b[0m\u001b[1;33m(\u001b[0m\u001b[0mb\u001b[0m \u001b[1;33m-\u001b[0m \u001b[0mc\u001b[0m\u001b[1;33m)\u001b[0m\u001b[1;33m\u001b[0m\u001b[1;33m\u001b[0m\u001b[0m\n\u001b[0m",
      "\u001b[1;31mTypeError\u001b[0m: unsupported operand type(s) for -: 'str' and 'str'"
     ]
    }
   ],
   "source": [
    "b = 'Los textos'\n",
    "c = ' no se restan.'\n",
    "print(b - c)"
   ]
  },
  {
   "cell_type": "markdown",
   "metadata": {
    "colab_type": "text",
    "id": "IADvs1-uPBOm"
   },
   "source": [
    "**Nota**: No nos cansaremos de decirles que presten atención a los mensajes de error."
   ]
  },
  {
   "cell_type": "code",
   "execution_count": 7,
   "metadata": {
    "colab": {},
    "colab_type": "code",
    "id": "14fD4pOGPBOn",
    "outputId": "d6afa2f0-6a69-46f4-e6aa-e073a2013ab2"
   },
   "outputs": [
    {
     "ename": "TypeError",
     "evalue": "can only concatenate str (not \"int\") to str",
     "output_type": "error",
     "traceback": [
      "\u001b[1;31m---------------------------------------------------------------------------\u001b[0m",
      "\u001b[1;31mTypeError\u001b[0m                                 Traceback (most recent call last)",
      "\u001b[1;32m<ipython-input-7-bcdba523048d>\u001b[0m in \u001b[0;36m<module>\u001b[1;34m\u001b[0m\n\u001b[0;32m      2\u001b[0m \u001b[0mb\u001b[0m \u001b[1;33m=\u001b[0m \u001b[1;34m'Mi edad es '\u001b[0m\u001b[1;33m\u001b[0m\u001b[1;33m\u001b[0m\u001b[0m\n\u001b[0;32m      3\u001b[0m \u001b[0mc\u001b[0m \u001b[1;33m=\u001b[0m \u001b[1;36m28\u001b[0m\u001b[1;33m\u001b[0m\u001b[1;33m\u001b[0m\u001b[0m\n\u001b[1;32m----> 4\u001b[1;33m \u001b[0mprint\u001b[0m\u001b[1;33m(\u001b[0m\u001b[0mb\u001b[0m \u001b[1;33m+\u001b[0m \u001b[0mc\u001b[0m\u001b[1;33m)\u001b[0m\u001b[1;33m\u001b[0m\u001b[1;33m\u001b[0m\u001b[0m\n\u001b[0m",
      "\u001b[1;31mTypeError\u001b[0m: can only concatenate str (not \"int\") to str"
     ]
    }
   ],
   "source": [
    "# ¿Qué pasa si queremos sumar un número al texto?\n",
    "b = 'Mi edad es '\n",
    "c = 28\n",
    "print(b + c)"
   ]
  },
  {
   "cell_type": "markdown",
   "metadata": {
    "colab_type": "text",
    "id": "AdySRkr3PBOp"
   },
   "source": [
    "El error nos dice que a los 'string' solo se le pueden concatenar otros 'strings' (no enteros). La manera correcta sería entonces:"
   ]
  },
  {
   "cell_type": "code",
   "execution_count": 8,
   "metadata": {
    "colab": {},
    "colab_type": "code",
    "id": "zWPtmEdFPBOr",
    "outputId": "6c7445f2-8241-4582-8686-de2fb1d0be20"
   },
   "outputs": [
    {
     "name": "stdout",
     "output_type": "stream",
     "text": [
      "Mi edad es 28\n"
     ]
    }
   ],
   "source": [
    "# Que pasa si queremos sumar un número al texto?\n",
    "b = 'Mi edad es '\n",
    "c = 28\n",
    "print(b + str(c))"
   ]
  },
  {
   "cell_type": "markdown",
   "metadata": {
    "colab_type": "text",
    "id": "Cpb9WziZTUcO"
   },
   "source": [
    "**Ejercicio**: Armar la frase 'El gran gran gran gran gran castillo mide 50 metros.' a partir de operar con las siguientes variables (viene con trampita):"
   ]
  },
  {
   "cell_type": "code",
   "execution_count": 9,
   "metadata": {
    "colab": {},
    "colab_type": "code",
    "id": "4K9QTbTMT8gE"
   },
   "outputs": [
    {
     "name": "stdout",
     "output_type": "stream",
     "text": [
      "El gran gran gran gran gran castillo mide 50 metros.\n"
     ]
    }
   ],
   "source": [
    "txt1 = 'gran '\n",
    "txt2 = 'El '\n",
    "txt3 = 'mide '\n",
    "txt4 = ' metros.'\n",
    "numero = 50\n",
    "\n",
    "frase = txt2 + 5*txt1 + 'castillo '+ txt3 + str(numero) + txt4\n",
    "print(frase)"
   ]
  },
  {
   "cell_type": "markdown",
   "metadata": {
    "colab_type": "text",
    "id": "tY9du3p-PBOt"
   },
   "source": [
    "#### 1.3.3 Operaciones Lógicas"
   ]
  },
  {
   "cell_type": "code",
   "execution_count": 13,
   "metadata": {
    "colab": {},
    "colab_type": "code",
    "id": "mHPhaiiJPBOv",
    "outputId": "233add10-5ef8-4512-c53c-dcd73ba11a6e"
   },
   "outputs": [],
   "source": [
    "variable_1 = True\n",
    "variable_2 = False"
   ]
  },
  {
   "cell_type": "code",
   "execution_count": 14,
   "metadata": {},
   "outputs": [
    {
     "name": "stdout",
     "output_type": "stream",
     "text": [
      "True\n",
      "False\n"
     ]
    }
   ],
   "source": [
    "print(variable_1)\n",
    "print(variable_2)"
   ]
  },
  {
   "cell_type": "code",
   "execution_count": 15,
   "metadata": {
    "colab": {},
    "colab_type": "code",
    "id": "mHPhaiiJPBOv",
    "outputId": "233add10-5ef8-4512-c53c-dcd73ba11a6e"
   },
   "outputs": [
    {
     "name": "stdout",
     "output_type": "stream",
     "text": [
      "True\n"
     ]
    }
   ],
   "source": [
    "print(variable_1 or variable_2)"
   ]
  },
  {
   "cell_type": "code",
   "execution_count": 16,
   "metadata": {},
   "outputs": [
    {
     "name": "stdout",
     "output_type": "stream",
     "text": [
      "False\n"
     ]
    }
   ],
   "source": [
    "variable_1 =  False\n",
    "variable_2 = False\n",
    "print(variable_1 or variable_2)"
   ]
  },
  {
   "cell_type": "code",
   "execution_count": 17,
   "metadata": {},
   "outputs": [
    {
     "name": "stdout",
     "output_type": "stream",
     "text": [
      "True\n"
     ]
    }
   ],
   "source": [
    "variable_1 =  True\n",
    "variable_2 = True\n",
    "print(variable_1 or variable_2)"
   ]
  },
  {
   "cell_type": "code",
   "execution_count": 18,
   "metadata": {
    "colab": {},
    "colab_type": "code",
    "id": "kv2eNRpePBOy",
    "outputId": "354f1f5a-3c36-48c3-865a-27c54046383f"
   },
   "outputs": [
    {
     "name": "stdout",
     "output_type": "stream",
     "text": [
      "False\n"
     ]
    }
   ],
   "source": [
    "print(not(variable_1))"
   ]
  },
  {
   "cell_type": "code",
   "execution_count": 19,
   "metadata": {},
   "outputs": [
    {
     "name": "stdout",
     "output_type": "stream",
     "text": [
      "True\n"
     ]
    }
   ],
   "source": [
    "variable_2 = False\n",
    "print(not(variable_2))"
   ]
  },
  {
   "cell_type": "code",
   "execution_count": 20,
   "metadata": {
    "colab": {},
    "colab_type": "code",
    "id": "i9QxO0SgPBO3",
    "outputId": "ce1f57f7-67c9-46bc-8ced-59e1dd1c977e"
   },
   "outputs": [
    {
     "name": "stdout",
     "output_type": "stream",
     "text": [
      "False\n"
     ]
    }
   ],
   "source": [
    "variable_1 = True\n",
    "variable_2 = False\n",
    "variable_3 = variable_1 and variable_2\n",
    "print(variable_3)"
   ]
  },
  {
   "cell_type": "code",
   "execution_count": 21,
   "metadata": {},
   "outputs": [
    {
     "name": "stdout",
     "output_type": "stream",
     "text": [
      "True\n"
     ]
    }
   ],
   "source": [
    "variable_1 = True\n",
    "variable_2 = True\n",
    "variable_3 = variable_1 and variable_2\n",
    "print(variable_3)"
   ]
  },
  {
   "cell_type": "code",
   "execution_count": 22,
   "metadata": {},
   "outputs": [
    {
     "name": "stdout",
     "output_type": "stream",
     "text": [
      "False\n"
     ]
    }
   ],
   "source": [
    "variable_1 = False\n",
    "variable_2 = False\n",
    "variable_3 = variable_1 and variable_2\n",
    "print(variable_3)"
   ]
  },
  {
   "cell_type": "markdown",
   "metadata": {
    "colab_type": "text",
    "id": "Rdo5rRsdPBO7"
   },
   "source": [
    "## 2. Listas, Loops y Condicionales\n",
    "\n",
    "### 2.1 Listas\n",
    "\n",
    "Son un objeto central en el lenguaje Python. Están compuestas por una sucesión de objetos en un orden determinado. Se definen mediante corchetes '[ ]', y los objetos dentro de ellas se separan por comas ','."
   ]
  },
  {
   "cell_type": "code",
   "execution_count": 23,
   "metadata": {
    "colab": {},
    "colab_type": "code",
    "id": "vA9XBz5mPBO8",
    "outputId": "9f6e7292-2737-433a-903f-35fc1317acd5"
   },
   "outputs": [
    {
     "name": "stdout",
     "output_type": "stream",
     "text": [
      "[42, 4.7, True, 'Texto']\n"
     ]
    }
   ],
   "source": [
    "lista_1 = [42, 4.7, True, 'Texto']\n",
    "print(lista_1)"
   ]
  },
  {
   "cell_type": "code",
   "execution_count": 24,
   "metadata": {
    "colab": {},
    "colab_type": "code",
    "id": "D4nWSXKSPBO_",
    "outputId": "ae4b4067-6bc3-4838-fa8a-1045d85cb4f3"
   },
   "outputs": [
    {
     "data": {
      "text/plain": [
       "4"
      ]
     },
     "execution_count": 24,
     "metadata": {},
     "output_type": "execute_result"
    }
   ],
   "source": [
    "# Podemos inspeccionar el largo de una lista, o sea, su cantidad de elementos\n",
    "len(lista_1)"
   ]
  },
  {
   "cell_type": "markdown",
   "metadata": {
    "colab_type": "text",
    "id": "b0wCmLL2PBPC"
   },
   "source": [
    "Podemos inspeccionar elementos de una lista accediendo a una determinada posición de la misma. Los índices de las posiciones empiezan en 0, y se especifican poniendo corchetes con el índice dentro luego del nombre de la lista:"
   ]
  },
  {
   "cell_type": "code",
   "execution_count": 25,
   "metadata": {
    "colab": {},
    "colab_type": "code",
    "id": "Jepw64oFPBPC",
    "outputId": "cbefee19-9905-4ffd-9c3b-954186550efc"
   },
   "outputs": [
    {
     "name": "stdout",
     "output_type": "stream",
     "text": [
      "42\n",
      "<class 'int'>\n"
     ]
    }
   ],
   "source": [
    "print(lista_1[0])\n",
    "print(type(lista_1[0]))"
   ]
  },
  {
   "cell_type": "code",
   "execution_count": 26,
   "metadata": {
    "colab": {},
    "colab_type": "code",
    "id": "84_TXl15PBPE",
    "outputId": "1e122dc6-cf43-455e-f066-303039263dab"
   },
   "outputs": [
    {
     "name": "stdout",
     "output_type": "stream",
     "text": [
      "Texto\n",
      "<class 'str'>\n"
     ]
    }
   ],
   "source": [
    "print(lista_1[3])\n",
    "print(type(lista_1[3]))"
   ]
  },
  {
   "cell_type": "code",
   "execution_count": 27,
   "metadata": {
    "colab": {},
    "colab_type": "code",
    "id": "E95aE3TaPBPH",
    "outputId": "616d0714-572a-4606-ddec-49c75cbb84ca"
   },
   "outputs": [
    {
     "name": "stdout",
     "output_type": "stream",
     "text": [
      "True\n",
      "<class 'bool'>\n"
     ]
    }
   ],
   "source": [
    "print(lista_1[2])\n",
    "print(type(lista_1[2]))"
   ]
  },
  {
   "cell_type": "code",
   "execution_count": 28,
   "metadata": {
    "colab": {},
    "colab_type": "code",
    "id": "mVfn1mYHPBPK",
    "outputId": "a0eb5ff1-1c52-43dc-ad97-2c3631e6a5d4"
   },
   "outputs": [
    {
     "name": "stdout",
     "output_type": "stream",
     "text": [
      "[42, 4.7, True]\n"
     ]
    }
   ],
   "source": [
    "# Tambien podemos selecciona una porción de lista\n",
    "#(ya veremos esto en detalle mas adelante)\n",
    "print(lista_1[0:3])\n",
    "#lista hasta la posicion n-1"
   ]
  },
  {
   "cell_type": "code",
   "execution_count": 31,
   "metadata": {},
   "outputs": [
    {
     "name": "stdout",
     "output_type": "stream",
     "text": [
      "[42, 4.7, True, 'Texto']\n"
     ]
    }
   ],
   "source": [
    "# Tambien podemos selecciona una porción de lista\n",
    "#(ya veremos esto en detalle mas adelante)\n",
    "print(lista_1[0:4])\n",
    "#lista hasta la posicion n-1"
   ]
  },
  {
   "cell_type": "code",
   "execution_count": 29,
   "metadata": {
    "colab": {},
    "colab_type": "code",
    "id": "-nQ_FGfNPBPM",
    "outputId": "b56833bd-1b09-4858-da4d-b6619ee99ea3"
   },
   "outputs": [
    {
     "name": "stdout",
     "output_type": "stream",
     "text": [
      "[0, [42, 4.7, True, 'Texto'], 'Mas texto']\n",
      "3\n"
     ]
    }
   ],
   "source": [
    "# Definimos una segunda lista\n",
    "lista_2 = [0, lista_1, 'Mas texto']\n",
    "print(lista_2)\n",
    "print(len(lista_2))"
   ]
  },
  {
   "cell_type": "markdown",
   "metadata": {
    "colab_type": "text",
    "id": "5YSBWt8tPBPP"
   },
   "source": [
    "Notemos que en esta segunda lista, agregamos dentro la primera. Toda la primer lista cuenta como un único elemento."
   ]
  },
  {
   "cell_type": "code",
   "execution_count": 30,
   "metadata": {
    "colab": {},
    "colab_type": "code",
    "id": "3WYr5rJQPBPQ",
    "outputId": "1f451d1b-c84e-447e-9fe0-01aaaaea0117"
   },
   "outputs": [
    {
     "name": "stdout",
     "output_type": "stream",
     "text": [
      "[42, 4.7, True, 'Texto']\n"
     ]
    }
   ],
   "source": [
    "# Un elemento de la lista_2 es la lista_1\n",
    "print(lista_2[1])"
   ]
  },
  {
   "cell_type": "markdown",
   "metadata": {
    "colab_type": "text",
    "id": "ZbA1JYFxPBPR"
   },
   "source": [
    "Podemos crear listas vacias, e ir agregándole elementos con el método 'append()'"
   ]
  },
  {
   "cell_type": "code",
   "execution_count": 32,
   "metadata": {
    "colab": {},
    "colab_type": "code",
    "id": "7VWvo-GwPBPT",
    "outputId": "81184949-719c-4423-b268-3d0119142496"
   },
   "outputs": [
    {
     "data": {
      "text/plain": [
       "0"
      ]
     },
     "execution_count": 32,
     "metadata": {},
     "output_type": "execute_result"
    }
   ],
   "source": [
    "lista_vacia = []\n",
    "len(lista_vacia)"
   ]
  },
  {
   "cell_type": "code",
   "execution_count": 33,
   "metadata": {
    "colab": {},
    "colab_type": "code",
    "id": "pmlQp8PEPBPV",
    "outputId": "714ee032-ef13-4be3-fa97-bd0728f2bd2b"
   },
   "outputs": [
    {
     "name": "stdout",
     "output_type": "stream",
     "text": [
      "[42]\n"
     ]
    }
   ],
   "source": [
    "lista_vacia.append(42)\n",
    "print(lista_vacia)"
   ]
  },
  {
   "cell_type": "code",
   "execution_count": 34,
   "metadata": {
    "colab": {},
    "colab_type": "code",
    "id": "pmlQp8PEPBPV",
    "outputId": "714ee032-ef13-4be3-fa97-bd0728f2bd2b"
   },
   "outputs": [
    {
     "name": "stdout",
     "output_type": "stream",
     "text": [
      "[42, 'un segundo item']\n",
      "2\n"
     ]
    }
   ],
   "source": [
    "lista_vacia.append('un segundo item')\n",
    "print(lista_vacia)\n",
    "print(len(lista_vacia))"
   ]
  },
  {
   "cell_type": "code",
   "execution_count": 35,
   "metadata": {},
   "outputs": [
    {
     "name": "stdout",
     "output_type": "stream",
     "text": [
      "[42, 'un segundo item', 'un tercer item']\n",
      "3\n"
     ]
    }
   ],
   "source": [
    "lista_vacia.append('un tercer item')\n",
    "print(lista_vacia)\n",
    "print(len(lista_vacia))"
   ]
  },
  {
   "cell_type": "markdown",
   "metadata": {
    "colab_type": "text",
    "id": "sU-6LA63PBPX"
   },
   "source": [
    "Prueben qué pasa si corren nuevamente la celda anterior (justo arriba de esta)."
   ]
  },
  {
   "cell_type": "markdown",
   "metadata": {
    "colab_type": "text",
    "id": "EPJNCI0tUvsl"
   },
   "source": [
    "**Ejercicio**: Defina una lista vacia llamada 'lista_nueva' y agréguele (`append()`) los elementos a, b y c."
   ]
  },
  {
   "cell_type": "code",
   "execution_count": 36,
   "metadata": {
    "colab": {},
    "colab_type": "code",
    "id": "jXs-Rkh6VF8K"
   },
   "outputs": [],
   "source": [
    "a = 8\n",
    "b = 'world'\n",
    "c = [12,24.5,66]"
   ]
  },
  {
   "cell_type": "code",
   "execution_count": 37,
   "metadata": {
    "colab": {},
    "colab_type": "code",
    "id": "jXs-Rkh6VF8K"
   },
   "outputs": [],
   "source": [
    "lista_nueva = []"
   ]
  },
  {
   "cell_type": "code",
   "execution_count": 38,
   "metadata": {
    "colab": {},
    "colab_type": "code",
    "id": "jXs-Rkh6VF8K"
   },
   "outputs": [
    {
     "name": "stdout",
     "output_type": "stream",
     "text": [
      "[8]\n",
      "[8, 'world']\n",
      "[8, 'world', [12, 24.5, 66]]\n"
     ]
    }
   ],
   "source": [
    "lista_nueva.append(a)\n",
    "print(lista_nueva)\n",
    "lista_nueva.append(b)\n",
    "print(lista_nueva)\n",
    "lista_nueva.append(c)\n",
    "print(lista_nueva)"
   ]
  },
  {
   "cell_type": "markdown",
   "metadata": {},
   "source": [
    "**Detalle muy importante:** copiado de listas (que vale para listas, arreglos de Numpy y dataframes de Pandas)"
   ]
  },
  {
   "cell_type": "code",
   "execution_count": 44,
   "metadata": {},
   "outputs": [],
   "source": [
    "lista_1 = [1,2,3,4]\n",
    "lista_2 = lista_1  #lista_2 ahora es igual a lista_1"
   ]
  },
  {
   "cell_type": "code",
   "execution_count": 45,
   "metadata": {},
   "outputs": [
    {
     "name": "stdout",
     "output_type": "stream",
     "text": [
      "[1, 2, 3, 4]\n",
      "[1, 2, 3, 4]\n"
     ]
    }
   ],
   "source": [
    "print(lista_1)\n",
    "print(lista_2)"
   ]
  },
  {
   "cell_type": "code",
   "execution_count": 46,
   "metadata": {},
   "outputs": [
    {
     "name": "stdout",
     "output_type": "stream",
     "text": [
      "[1, 2, 3, 100]\n"
     ]
    }
   ],
   "source": [
    "lista_2[-1] = 100 #el ultimo elemento de la lista ahora es 100, con -1 seleccionamos el ultimo elemento de la lista\n",
    "print(lista_2)"
   ]
  },
  {
   "cell_type": "markdown",
   "metadata": {},
   "source": [
    "¿Cómo esta formada la lista_1?"
   ]
  },
  {
   "cell_type": "code",
   "execution_count": 47,
   "metadata": {},
   "outputs": [
    {
     "name": "stdout",
     "output_type": "stream",
     "text": [
      "[1, 2, 3, 100]\n"
     ]
    }
   ],
   "source": [
    "print(lista_1)"
   ]
  },
  {
   "cell_type": "markdown",
   "metadata": {},
   "source": [
    "¡Se modificaron ambas listas!"
   ]
  },
  {
   "cell_type": "code",
   "execution_count": 48,
   "metadata": {},
   "outputs": [
    {
     "name": "stdout",
     "output_type": "stream",
     "text": [
      "[1, 2, 3, 4] [1, 2, 3, 100]\n"
     ]
    }
   ],
   "source": [
    "lista_1 = [1,2,3,4]\n",
    "lista_2 = lista_1.copy()\n",
    "lista_2[-1] = 100\n",
    "print(lista_1, lista_2)"
   ]
  },
  {
   "cell_type": "markdown",
   "metadata": {},
   "source": [
    "Ahora no!"
   ]
  },
  {
   "cell_type": "markdown",
   "metadata": {
    "colab_type": "text",
    "id": "oGW0jo5hPBPZ"
   },
   "source": [
    "### 2.2 Loops\n",
    "Los **Loops** son estructuras de codigo fundamentales en cualquier lenguaje de programación. Son bloques de código que se repiten dada una cierta cantidad de veces dada una condición.\n",
    "\n",
    "#### 2.2.1 For\n",
    "El For es un loop en el que un bloque de código se repite tantas veces como elementos haya en una determinada lista. En cada iteración (repetición) hay una variable que va tomando el valor de uno de los elementos en esta lista."
   ]
  },
  {
   "cell_type": "code",
   "execution_count": 49,
   "metadata": {
    "colab": {},
    "colab_type": "code",
    "id": "hZw979QmPBPa",
    "outputId": "a82be6a9-6bc5-460f-adb2-5ae397d44fac"
   },
   "outputs": [
    {
     "name": "stdout",
     "output_type": "stream",
     "text": [
      "3\n",
      "55\n",
      "1\n",
      "876\n",
      "12\n"
     ]
    }
   ],
   "source": [
    "lista_numeros = [3,55,1,876,12]\n",
    "\n",
    "# Definimos el codigo dentro del for mediante la indentación\n",
    "# (Todo lo que este corrido un 'tab' a la derecha)\n",
    "for elemento in lista_numeros:\n",
    "    print(elemento)"
   ]
  },
  {
   "cell_type": "code",
   "execution_count": 50,
   "metadata": {
    "colab": {},
    "colab_type": "code",
    "id": "kpqiAZb-PBPd",
    "outputId": "c8bf04a6-43cf-44f0-e8b6-4967cda78333"
   },
   "outputs": [
    {
     "name": "stdout",
     "output_type": "stream",
     "text": [
      "3\n",
      "55\n",
      "1\n",
      "876\n",
      "12\n"
     ]
    }
   ],
   "source": [
    "# Repitamos los mismo que la celda anteriro\n",
    "# pero ahora agregemos una variable i \n",
    "# que cuente la cantidad de veces que ese corre el codigo \n",
    "\n",
    "lista_numeros = [3,55,1,876,12]\n",
    "\n",
    "# La iniciamos en cero\n",
    "i = 0\n",
    "\n",
    "for elemento in lista_numeros:\n",
    "    # Le sumamos 1 cada vez que entra\n",
    "    i = i+1\n",
    "    print(elemento)"
   ]
  },
  {
   "cell_type": "code",
   "execution_count": 51,
   "metadata": {
    "colab": {},
    "colab_type": "code",
    "id": "hsb4LLSdPBPh",
    "outputId": "d0bea540-8c45-4a71-d10a-bda1bec508df"
   },
   "outputs": [
    {
     "name": "stdout",
     "output_type": "stream",
     "text": [
      "5\n"
     ]
    }
   ],
   "source": [
    "print(i)"
   ]
  },
  {
   "cell_type": "markdown",
   "metadata": {
    "colab_type": "text",
    "id": "Qbz2a3orPBPl"
   },
   "source": [
    "También podemos recorrer listas de texto. Presten atencion al siguiente codigo, e intenten precedir el resultado antes de correr la celda."
   ]
  },
  {
   "cell_type": "code",
   "execution_count": 52,
   "metadata": {
    "colab": {},
    "colab_type": "code",
    "id": "z1jQ13uzPBPm",
    "outputId": "5e2a3a2a-f824-4512-d3a9-3e982f73a889"
   },
   "outputs": [],
   "source": [
    "lista_nombres = ['Ernesto', 'Camilo', 'Violeta']\n",
    "nueva_lista = []\n",
    "\n",
    "for item in lista_nombres:\n",
    "    oracion = 'Mi nombre es ' + item\n",
    "    nueva_lista.append(oracion)"
   ]
  },
  {
   "cell_type": "code",
   "execution_count": 53,
   "metadata": {
    "colab": {},
    "colab_type": "code",
    "id": "z1jQ13uzPBPm",
    "outputId": "5e2a3a2a-f824-4512-d3a9-3e982f73a889"
   },
   "outputs": [
    {
     "name": "stdout",
     "output_type": "stream",
     "text": [
      "['Mi nombre es Ernesto', 'Mi nombre es Camilo', 'Mi nombre es Violeta']\n"
     ]
    }
   ],
   "source": [
    "# Este print esta fuera del for, no está indentado\n",
    "print(nueva_lista)"
   ]
  },
  {
   "cell_type": "markdown",
   "metadata": {
    "colab_type": "text",
    "id": "565EnFNTVU3V"
   },
   "source": [
    "**Ejercicio**: Genere una lista llamada 'numerotes' que contenga el cuadrado de cada elemento en la lista 'numeritos'."
   ]
  },
  {
   "cell_type": "code",
   "execution_count": 54,
   "metadata": {
    "colab": {},
    "colab_type": "code",
    "id": "YB0EcpVqV3hY"
   },
   "outputs": [
    {
     "name": "stdout",
     "output_type": "stream",
     "text": [
      "[9, 1, 25, 49, 144, 100, 289, 16, 484]\n"
     ]
    }
   ],
   "source": [
    "numeritos = [3,1,5,7,12,10,17,4,22]\n",
    "\n",
    "numerotes = []\n",
    "\n",
    "for numero in numeritos:\n",
    "    numerotes.append(numero**2)\n",
    "    \n",
    "print(numerotes)"
   ]
  },
  {
   "cell_type": "markdown",
   "metadata": {
    "colab_type": "text",
    "id": "S8lTPAaiPBPo"
   },
   "source": [
    "\n",
    "#### 2.2.2 While\n",
    "El while repite un bloque de código mientras se cumpla una cierta condición que le ponemos. Para mayor claridad, pondremos la condición dentro de parentesis '()'."
   ]
  },
  {
   "cell_type": "code",
   "execution_count": 62,
   "metadata": {
    "colab": {},
    "colab_type": "code",
    "id": "EFy5Woa-PBPp",
    "outputId": "4d89284f-3100-4930-ed5c-37f9c0d3a02b"
   },
   "outputs": [
    {
     "name": "stdout",
     "output_type": "stream",
     "text": [
      "2\n",
      "True\n",
      "3\n",
      "True\n",
      "4\n",
      "True\n",
      "5\n",
      "False\n"
     ]
    }
   ],
   "source": [
    "numero = 1\n",
    "\n",
    "while (numero < 5):\n",
    "    #print(numero < 5)\n",
    "    #print(numero)\n",
    "    numero = numero + 1\n",
    "    print(numero)\n",
    "    print(numero < 5)"
   ]
  },
  {
   "cell_type": "code",
   "execution_count": 63,
   "metadata": {},
   "outputs": [
    {
     "name": "stdout",
     "output_type": "stream",
     "text": [
      "2\n",
      "True\n",
      "3\n",
      "True\n",
      "4\n",
      "True\n",
      "5\n",
      "False\n",
      "6\n",
      "False\n"
     ]
    }
   ],
   "source": [
    "numero = 1\n",
    "\n",
    "while (numero <= 5):\n",
    "    #print(numero < 5)\n",
    "    #print(numero)\n",
    "    numero = numero + 1\n",
    "    print(numero)\n",
    "    print(numero < 5)"
   ]
  },
  {
   "cell_type": "code",
   "execution_count": 64,
   "metadata": {},
   "outputs": [],
   "source": [
    "numero = 1\n",
    "\n",
    "while (numero > 5):\n",
    "    #print(numero < 5)\n",
    "    #print(numero)\n",
    "    numero = numero + 1\n",
    "    print(numero)\n",
    "    print(numero < 5)"
   ]
  },
  {
   "cell_type": "code",
   "execution_count": 56,
   "metadata": {
    "colab": {},
    "colab_type": "code",
    "id": "ub1o-7-aPBPr",
    "outputId": "6b5b5c29-4b36-4991-983c-dbd1df229337"
   },
   "outputs": [
    {
     "name": "stdout",
     "output_type": "stream",
     "text": [
      "True\n"
     ]
    },
    {
     "data": {
      "text/plain": [
       "bool"
      ]
     },
     "execution_count": 56,
     "metadata": {},
     "output_type": "execute_result"
    }
   ],
   "source": [
    "# La condición debe ser una operación lógica y dar como resultado un booleano\n",
    "print(2 < 5)\n",
    "type(2 < 5)"
   ]
  },
  {
   "cell_type": "code",
   "execution_count": 65,
   "metadata": {
    "colab": {},
    "colab_type": "code",
    "id": "CnqMdJlEPBPv",
    "outputId": "b268681a-f463-4640-f666-52c1866389eb"
   },
   "outputs": [
    {
     "name": "stdout",
     "output_type": "stream",
     "text": [
      "False\n"
     ]
    },
    {
     "data": {
      "text/plain": [
       "bool"
      ]
     },
     "execution_count": 65,
     "metadata": {},
     "output_type": "execute_result"
    }
   ],
   "source": [
    "print(5 < 5)\n",
    "type(5 < 5)"
   ]
  },
  {
   "cell_type": "markdown",
   "metadata": {
    "colab_type": "text",
    "id": "lbjDKBFTPBPy"
   },
   "source": [
    "**Ejercicio**: Decida si quiere ejecutar el siguiente bloque de código."
   ]
  },
  {
   "cell_type": "code",
   "execution_count": 66,
   "metadata": {
    "colab": {},
    "colab_type": "code",
    "id": "11Yjx3U2PBPy",
    "outputId": "042ac6dc-4b36-4ae1-96c2-14c37bd62d9f"
   },
   "outputs": [
    {
     "ename": "KeyboardInterrupt",
     "evalue": "",
     "output_type": "error",
     "traceback": [
      "\u001b[1;31m---------------------------------------------------------------------------\u001b[0m",
      "\u001b[1;31mKeyboardInterrupt\u001b[0m                         Traceback (most recent call last)",
      "\u001b[1;32m<ipython-input-66-3540f901c898>\u001b[0m in \u001b[0;36m<module>\u001b[1;34m\u001b[0m\n\u001b[0;32m      2\u001b[0m \u001b[1;33m\u001b[0m\u001b[0m\n\u001b[0;32m      3\u001b[0m \u001b[1;32mwhile\u001b[0m \u001b[1;33m(\u001b[0m\u001b[0mnumero\u001b[0m \u001b[1;33m>\u001b[0m \u001b[1;36m0\u001b[0m\u001b[1;33m)\u001b[0m\u001b[1;33m:\u001b[0m\u001b[1;33m\u001b[0m\u001b[1;33m\u001b[0m\u001b[0m\n\u001b[1;32m----> 4\u001b[1;33m     \u001b[0mnumero\u001b[0m \u001b[1;33m=\u001b[0m \u001b[0mnumero\u001b[0m \u001b[1;33m+\u001b[0m \u001b[1;36m1\u001b[0m\u001b[1;33m\u001b[0m\u001b[1;33m\u001b[0m\u001b[0m\n\u001b[0m",
      "\u001b[1;31mKeyboardInterrupt\u001b[0m: "
     ]
    }
   ],
   "source": [
    "numero = 1\n",
    "\n",
    "while (numero > 0):\n",
    "    numero = numero + 1"
   ]
  },
  {
   "cell_type": "code",
   "execution_count": 67,
   "metadata": {},
   "outputs": [
    {
     "data": {
      "text/plain": [
       "62732923"
      ]
     },
     "execution_count": 67,
     "metadata": {},
     "output_type": "execute_result"
    }
   ],
   "source": [
    "numero"
   ]
  },
  {
   "cell_type": "markdown",
   "metadata": {
    "colab_type": "text",
    "id": "BdO41jDPPBP0"
   },
   "source": [
    "Si decidió ejecutarlo (o corrió la celda antes de leer la consigna), ¡felicitaciones, usted ha colgado por primera vez un programa! Pero como ya dijimos, hay que probar y equivocarse, nada es irreversible. Vaya a la solapa 'Kernel' del menú y seleccione 'Interrupt'. Lo que sucuede es que la condición del `while` será siempre cierta, por ende nuestro programa se quedará repitiendo el bloque de codigo dentro del loop indefinidamente. Puede averiguar cuantas iteraciones realizo la maquina inspeccionando la variable 'numero':"
   ]
  },
  {
   "cell_type": "code",
   "execution_count": 68,
   "metadata": {
    "colab": {},
    "colab_type": "code",
    "id": "UGOMivAkPBP0"
   },
   "outputs": [
    {
     "name": "stdout",
     "output_type": "stream",
     "text": [
      "62732923\n"
     ]
    }
   ],
   "source": [
    "print(numero)"
   ]
  },
  {
   "cell_type": "markdown",
   "metadata": {},
   "source": [
    "¡Notar qué rápido la computadora hace algunas operaciones!"
   ]
  },
  {
   "cell_type": "markdown",
   "metadata": {
    "colab_type": "text",
    "id": "oa016g7sPBP2"
   },
   "source": [
    "### 2.3 Condicionales\n",
    "Los condicionales son un bloque de codigo que se ejecuta solo en el caso que se cumpla una dada condición.\n",
    "\n",
    "### 2.3.1 If\n",
    "El condicional más simple es el `if`. Nuevamente para mayor claridad escribiremos la condicion entre parentesis (), aunque esto no es necesario."
   ]
  },
  {
   "cell_type": "code",
   "execution_count": 69,
   "metadata": {
    "colab": {},
    "colab_type": "code",
    "id": "TYisVuiEPBP4"
   },
   "outputs": [
    {
     "name": "stdout",
     "output_type": "stream",
     "text": [
      "El valor el mayo que 10\n"
     ]
    }
   ],
   "source": [
    "valor = 15\n",
    "\n",
    "if (valor > 10):\n",
    "    print('El valor el mayo que 10')"
   ]
  },
  {
   "cell_type": "code",
   "execution_count": 70,
   "metadata": {},
   "outputs": [],
   "source": [
    "valor = 5\n",
    "\n",
    "if (valor > 10):\n",
    "    print('El valor el mayo que 10')"
   ]
  },
  {
   "cell_type": "markdown",
   "metadata": {
    "colab_type": "text",
    "id": "-hz-IXpJPBP6"
   },
   "source": [
    "La condición que escribimos debe ser una operación lógica que da como resultado un booleano."
   ]
  },
  {
   "cell_type": "code",
   "execution_count": 71,
   "metadata": {
    "colab": {},
    "colab_type": "code",
    "id": "BCXXXwRMPBP7",
    "outputId": "bb39079d-bbb5-41fd-c147-2a9b0fab4dda"
   },
   "outputs": [
    {
     "name": "stdout",
     "output_type": "stream",
     "text": [
      "True\n"
     ]
    }
   ],
   "source": [
    "print(15 > 10)"
   ]
  },
  {
   "cell_type": "code",
   "execution_count": 72,
   "metadata": {
    "colab": {},
    "colab_type": "code",
    "id": "PshNhscXPBP9",
    "outputId": "4c59549e-0e64-4ff9-c381-bacbdbb1d58c"
   },
   "outputs": [
    {
     "name": "stdout",
     "output_type": "stream",
     "text": [
      "<class 'bool'>\n"
     ]
    }
   ],
   "source": [
    "print(type(15 > 10))"
   ]
  },
  {
   "cell_type": "markdown",
   "metadata": {
    "colab_type": "text",
    "id": "zaIO1UwlPBP_"
   },
   "source": [
    "### 2.3.2 If, Else\n",
    "A este condicional se le peude agregar otro bloque de codigo que se ejecute si la condición exigida NO se cuemple. Esto se logra mediante la expresión 'else'."
   ]
  },
  {
   "cell_type": "code",
   "execution_count": 73,
   "metadata": {
    "colab": {},
    "colab_type": "code",
    "id": "Hf8xuG6iPBP_",
    "outputId": "648aeb46-8db8-4669-d339-68d15dd47413"
   },
   "outputs": [
    {
     "name": "stdout",
     "output_type": "stream",
     "text": [
      "Esta persona NO se llama Juan\n"
     ]
    }
   ],
   "source": [
    "nombre = 'Pedro'\n",
    "\n",
    "if (nombre == 'Juan'):\n",
    "    print('Esta persona se llama Juan')\n",
    "else:\n",
    "    print('Esta persona NO se llama Juan')"
   ]
  },
  {
   "cell_type": "code",
   "execution_count": 74,
   "metadata": {
    "colab": {},
    "colab_type": "code",
    "id": "GVfCLIQyPBQB",
    "outputId": "4adefa9e-a63d-4f36-8ce8-300987c706d1"
   },
   "outputs": [
    {
     "data": {
      "text/plain": [
       "False"
      ]
     },
     "execution_count": 74,
     "metadata": {},
     "output_type": "execute_result"
    }
   ],
   "source": [
    "'Juan'=='Pedro'"
   ]
  },
  {
   "cell_type": "markdown",
   "metadata": {
    "colab_type": "text",
    "id": "1AJNWoqhPBQJ"
   },
   "source": [
    "### 2.3.3 If, Elif, Else\n",
    "A esta estructura se le pueden sumar tantas condiciones encadenadas como uno desee, mediante la expresión `elif`. El orden en que se van chequeando las condiciones depende de su posición, priemero se chequea el `if`, luego el primer `elif`, luego el segundo, y así sucesivamente."
   ]
  },
  {
   "cell_type": "code",
   "execution_count": 75,
   "metadata": {
    "colab": {},
    "colab_type": "code",
    "id": "psA9onaFPBQL",
    "outputId": "6ea15df0-f8cd-4bf0-f932-5f706e18ffa0"
   },
   "outputs": [
    {
     "name": "stdout",
     "output_type": "stream",
     "text": [
      "Esta persona tiene menos de 18 años\n"
     ]
    }
   ],
   "source": [
    "edad = 5\n",
    "\n",
    "if (edad < 18):\n",
    "    print('Esta persona tiene menos de 18 años')\n",
    "elif (edad > 18):\n",
    "    print('Esta persona tiene mas de 18 años')\n",
    "else:\n",
    "    print('Esta persona tiene justo 18 años')"
   ]
  },
  {
   "cell_type": "code",
   "execution_count": 76,
   "metadata": {},
   "outputs": [
    {
     "name": "stdout",
     "output_type": "stream",
     "text": [
      "Esta persona tiene mas de 18 años\n"
     ]
    }
   ],
   "source": [
    "edad = 20\n",
    "\n",
    "if (edad < 18):\n",
    "    print('Esta persona tiene menos de 18 años')\n",
    "elif (edad > 18):\n",
    "    print('Esta persona tiene mas de 18 años')\n",
    "else:\n",
    "    print('Esta persona tiene justo 18 años')"
   ]
  },
  {
   "cell_type": "code",
   "execution_count": 77,
   "metadata": {},
   "outputs": [
    {
     "name": "stdout",
     "output_type": "stream",
     "text": [
      "Esta persona tiene justo 18 años\n"
     ]
    }
   ],
   "source": [
    "edad = 18\n",
    "\n",
    "if (edad < 18):\n",
    "    print('Esta persona tiene menos de 18 años')\n",
    "elif (edad > 18):\n",
    "    print('Esta persona tiene mas de 18 años')\n",
    "else:\n",
    "    print('Esta persona tiene justo 18 años')"
   ]
  },
  {
   "cell_type": "markdown",
   "metadata": {
    "colab_type": "text",
    "id": "ZHXdIEkSW6wa"
   },
   "source": [
    "**Ejercicio**: Escriba un bloque de código que, dado un número, imprima la frase 'El numero es par' si el número es par o la frase 'El numero es impar' si no lo es."
   ]
  },
  {
   "cell_type": "code",
   "execution_count": 78,
   "metadata": {
    "colab": {},
    "colab_type": "code",
    "id": "7uWbEw9BYAL4"
   },
   "outputs": [
    {
     "name": "stdout",
     "output_type": "stream",
     "text": [
      "1\n",
      "Es impar\n"
     ]
    }
   ],
   "source": [
    "numero = 17\n",
    "\n",
    "if numero%2==0:\n",
    "    print(numero%2)\n",
    "    print('Es par')\n",
    "else:\n",
    "    print(numero%2)\n",
    "    print('Es impar')"
   ]
  },
  {
   "cell_type": "markdown",
   "metadata": {
    "colab_type": "text",
    "id": "qecxWClXPBQM"
   },
   "source": [
    "### 2.4 Combinando estructuras de código\n",
    "Las estructuras de loops y condicionales que aprendimos se pueden combinar para generar comportamientos más complejos."
   ]
  },
  {
   "cell_type": "code",
   "execution_count": 82,
   "metadata": {
    "colab": {},
    "colab_type": "code",
    "id": "69DHgsOjPBQN",
    "outputId": "deb7b751-5678-47ff-9949-3b5712256120"
   },
   "outputs": [
    {
     "name": "stdout",
     "output_type": "stream",
     "text": [
      "4\n",
      "False\n",
      "20\n",
      "True\n",
      "[20]\n",
      "15\n",
      "False\n",
      "29\n",
      "True\n",
      "[20, 29]\n",
      "11\n",
      "False\n",
      "42\n",
      "True\n",
      "[20, 29, 42]\n",
      "10\n",
      "False\n",
      "18\n",
      "True\n",
      "[20, 29, 42, 18]\n"
     ]
    }
   ],
   "source": [
    "lista_de_edades = [4,20,15,29,11,42,10,18]\n",
    "lista_mayores = []\n",
    "\n",
    "# Queremos armar una lista solo con las edades mayores o iguales a 18\n",
    "for edad in lista_de_edades:\n",
    "    print(edad)\n",
    "    print(edad >= 18)\n",
    "    if (edad >= 18):\n",
    "        # Agremos a la lista de mayores\n",
    "        \n",
    "        lista_mayores.append(edad)\n",
    "        print(lista_mayores)\n",
    "\n"
   ]
  },
  {
   "cell_type": "markdown",
   "metadata": {
    "colab_type": "text",
    "id": "ztSrrW-jPBQQ"
   },
   "source": [
    "## Ejercicios integradores y de repaso\n",
    "\n",
    "A continuación dejamos muchos ejercicios. ¡No se preocupen si no pueden hacer todos!\n",
    "\n",
    "**Ejercicio**: ¿Qué es un *float*?¿Qué operaciones se pueden hacer con ellos?"
   ]
  },
  {
   "cell_type": "markdown",
   "metadata": {},
   "source": [
    "**Ejercicio**: ¿Qué es un *string*?¿Qué operaciones se pueden hacer con ellos? Escribir algunos ejemplos."
   ]
  },
  {
   "cell_type": "code",
   "execution_count": 83,
   "metadata": {},
   "outputs": [
    {
     "data": {
      "text/plain": [
       "'a b'"
      ]
     },
     "execution_count": 83,
     "metadata": {},
     "output_type": "execute_result"
    }
   ],
   "source": [
    "'a' + ' b'"
   ]
  },
  {
   "cell_type": "markdown",
   "metadata": {},
   "source": [
    "**Ejercicio**: \n",
    "* ¿cuáles son las operaciones con booleanos básicas? Pistas: and, or.\n",
    "* ¿Qué pasa si sumás, restás, multiplicás o dividís booleanos?"
   ]
  },
  {
   "cell_type": "markdown",
   "metadata": {},
   "source": [
    "Operaciones Booleanas Básicas"
   ]
  },
  {
   "cell_type": "code",
   "execution_count": 84,
   "metadata": {},
   "outputs": [
    {
     "name": "stdout",
     "output_type": "stream",
     "text": [
      "True False False\n",
      "True True False\n"
     ]
    }
   ],
   "source": [
    "print(True and True, True and False, False and False)\n",
    "print(True or True, True or False, False or False)"
   ]
  },
  {
   "cell_type": "code",
   "execution_count": 86,
   "metadata": {},
   "outputs": [
    {
     "name": "stdout",
     "output_type": "stream",
     "text": [
      "False True\n"
     ]
    }
   ],
   "source": [
    "print(not(True), not(False))"
   ]
  },
  {
   "cell_type": "markdown",
   "metadata": {},
   "source": [
    "**Ejercicio**: Hacer una declaración if/else que compare dos variables y que decida cuál es mayor."
   ]
  },
  {
   "cell_type": "code",
   "execution_count": 87,
   "metadata": {},
   "outputs": [
    {
     "name": "stdout",
     "output_type": "stream",
     "text": [
      "B es mayor a A\n"
     ]
    }
   ],
   "source": [
    "A = 3\n",
    "B = 4\n",
    "if A>B :\n",
    "    print('A es mayor a B' )\n",
    "else:\n",
    "    print('B es mayor a A')"
   ]
  },
  {
   "cell_type": "markdown",
   "metadata": {},
   "source": [
    "**Ejercicio**: Dada la siguiente lista de numeros:"
   ]
  },
  {
   "cell_type": "code",
   "execution_count": 88,
   "metadata": {
    "colab": {},
    "colab_type": "code",
    "id": "nixTh2uwPBQQ",
    "outputId": "e672c504-2e87-4152-81ce-c628698ef2f0"
   },
   "outputs": [
    {
     "name": "stdout",
     "output_type": "stream",
     "text": [
      "['2', '3', '2', '3', '2', '2', '2', '2', '3', '2', '3', '1', '3', '1', '2', '2', '2', '2', '2', '2', '2', '2', '1', '2', '3', '2', '2', '2', '2', '1', '2', '3', '2', '2', '3', '2', '3', '3', '2', '2', '1', '3', '3', '2', '3', '2', '2', '1', '2', '1', '1', '2', '2', '3', '2', '2', '2', '3', '2', '2', '2', '1', '2', '2', '3', '2', '2', '2', '2', '1', '2', '2', '2', '2', '3', '1', '2', '3', '3', '2', '3', '2', '2', '3', '3', '1', '1', '3', '2', '1', '2', '2', '2', '1', '1', '2', '2', '2', '2', '2', '2', '2', '3', '3', '1', '3', '3', '3', '2', '2', '2', '2', '2', '2', '2', '3', '3', '2', '2', '3', '2', '2', '2', '2', '2', '3', '3', '2', '2', '1', '3', '2', '2', '2', '3', '2', '3', '1', '3', '3', '2', '3', '3', '2', '2', '2', '2', '2', '2', '1', '2', '2', '1', '2', '3', '2', '1', '3', '1', '2', '3', '3', '3', '2', '3', '1', '3', '2', '3', '1', '2', '2', '2', '3', '3', '2', '2', '2', '2', '2', '3', '1', '2', '3', '3', '2', '2', '3', '2', '2', '2', '3', '2', '2', '2', '2', '1', '2', '3', '1', '3', '2', '2', '3', '3', '3', '2', '2', '1', '1']\n"
     ]
    }
   ],
   "source": [
    "numeros_en_texto = ['2', '3', '2', '3', '2', '2', '2', '2', '3', '2', '3', '1', '3', '1', '2', '2', '2', '2', '2', '2', '2', '2', '1', '2', '3', '2', '2', '2', '2', '1', '2', '3', '2', '2', '3', '2', '3', '3', '2', '2', '1', '3', '3', '2', '3', '2', '2', '1', '2', '1', '1', '2', '2', '3', '2', '2', '2', '3', '2', '2', '2', '1', '2', '2', '3', '2', '2', '2', '2', '1', '2', '2', '2', '2', '3', '1', '2', '3', '3', '2', '3', '2', '2', '3', '3', '1', '1', '3', '2', '1', '2', '2', '2', '1', '1', '2', '2', '2', '2', '2', '2', '2', '3', '3', '1', '3', '3', '3', '2', '2', '2', '2', '2', '2', '2', '3', '3', '2', '2', '3', '2', '2', '2', '2', '2', '3', '3', '2', '2', '1', '3', '2', '2', '2', '3', '2', '3', '1', '3', '3', '2', '3', '3', '2', '2', '2', '2', '2', '2', '1', '2', '2', '1', '2', '3', '2', '1', '3', '1', '2', '3', '3', '3', '2', '3', '1', '3', '2', '3', '1', '2', '2', '2', '3', '3', '2', '2', '2', '2', '2', '3', '1', '2', '3', '3', '2', '2', '3', '2', '2', '2', '3', '2', '2', '2', '2', '1', '2', '3', '1', '3', '2', '2', '3', '3', '3', '2', '2', '1', '1']\n",
    "print(numeros_en_texto)"
   ]
  },
  {
   "cell_type": "markdown",
   "metadata": {
    "colab_type": "text",
    "id": "XLWP4dKfPBQS"
   },
   "source": [
    "Calcule la suma de los unos (1) y los tres (3) en esta lista. Hay muchas formas de hacerlo, si encuentra más de una, mejor. El resultado es 210."
   ]
  },
  {
   "cell_type": "code",
   "execution_count": 89,
   "metadata": {},
   "outputs": [
    {
     "name": "stdout",
     "output_type": "stream",
     "text": [
      "210\n"
     ]
    }
   ],
   "source": [
    "suma = 0\n",
    "for numero in numeros_en_texto:\n",
    "    if int(numero) == 1:\n",
    "        suma+=1\n",
    "    elif int(numero) == 3:\n",
    "        suma +=3\n",
    "\n",
    "print(suma)"
   ]
  },
  {
   "cell_type": "markdown",
   "metadata": {},
   "source": [
    "**Ejercicio**: \n",
    "* Hacer un for loop que le sume uno a todos los elementos de la lista A = [0,1,2,3,4] y lo imprima.\n",
    "* Hacer un for loop que le sume uno a todos los elementos de la lista A = [0,1,2,3,4] y lo guarde en una lista nueva B. Googlear: append.\n",
    "* ¿Qué hace el comando *range*?"
   ]
  },
  {
   "cell_type": "code",
   "execution_count": 90,
   "metadata": {},
   "outputs": [
    {
     "name": "stdout",
     "output_type": "stream",
     "text": [
      "1\n",
      "2\n",
      "3\n",
      "4\n",
      "5\n"
     ]
    }
   ],
   "source": [
    "# Hacer un for loop que le sume uno a todos los elementos de la lista A = [0,1,2,3,4] y lo imprima.\n",
    "A = [0,1,2,3,4]\n",
    "for elemento in A:\n",
    "    print(elemento + 1)"
   ]
  },
  {
   "cell_type": "code",
   "execution_count": 91,
   "metadata": {},
   "outputs": [
    {
     "name": "stdout",
     "output_type": "stream",
     "text": [
      "[0, 1, 2, 3, 4] [1, 2, 3, 4, 5]\n"
     ]
    }
   ],
   "source": [
    "# Hacer un for loop que le sume uno a todos los elementos de la lista A = [0,1,2,3,4] y lo guarde en una lista nueva B. Googlear: append.\n",
    "A = [0,1,2,3,4]\n",
    "B = []\n",
    "for elemento in A:\n",
    "    B.append(elemento + 1)\n",
    "print(A, B)"
   ]
  },
  {
   "cell_type": "code",
   "execution_count": 92,
   "metadata": {},
   "outputs": [
    {
     "name": "stdout",
     "output_type": "stream",
     "text": [
      "range(0, 6)\n",
      "[0, 1, 2, 3, 4, 5]\n"
     ]
    }
   ],
   "source": [
    "# ¿Qué hace el comando *range*?\n",
    "print(range(6))\n",
    "print(list(range(6)))"
   ]
  },
  {
   "cell_type": "code",
   "execution_count": 93,
   "metadata": {},
   "outputs": [
    {
     "name": "stdout",
     "output_type": "stream",
     "text": [
      "0\n",
      "1\n",
      "2\n",
      "3\n",
      "4\n",
      "5\n"
     ]
    }
   ],
   "source": [
    "for i in range(6):\n",
    "    print(i)"
   ]
  },
  {
   "cell_type": "markdown",
   "metadata": {},
   "source": [
    "**Ejercicio**: Escribir una rutina que imprima aquellos elementos de la lista *a* que son menores que 10.\n",
    "Pistas: *for*, *if*"
   ]
  },
  {
   "cell_type": "code",
   "execution_count": 94,
   "metadata": {},
   "outputs": [
    {
     "name": "stdout",
     "output_type": "stream",
     "text": [
      "1\n",
      "1\n",
      "2\n",
      "3\n",
      "5\n",
      "8\n",
      "8\n"
     ]
    }
   ],
   "source": [
    "a = [1, 1, 2, 3, 5, 8, 8, 13, 21, 34, 34, 55, 89]\n",
    "for i in a:\n",
    "    if i <10:\n",
    "        print(i)"
   ]
  },
  {
   "cell_type": "markdown",
   "metadata": {},
   "source": [
    "**Extras**: en lugar de imprimir los elementos de a uno, armar una nueva lista con aquellos elementos que sean menores a 10. ¿Cómo filtran elementos repetidos?"
   ]
  },
  {
   "cell_type": "code",
   "execution_count": 95,
   "metadata": {},
   "outputs": [
    {
     "name": "stdout",
     "output_type": "stream",
     "text": [
      "[1, 2, 3, 5, 8]\n",
      "[1, 2, 3, 5, 8]\n"
     ]
    }
   ],
   "source": [
    "a = [1, 1, 2, 3, 5, 8, 8, 13, 21, 34, 34, 55, 89]\n",
    "\n",
    "# DOS OPCIONES\n",
    "# Primera: mirando si el elemento a agregar ya esta en b\n",
    "b = []\n",
    "for i in a:\n",
    "    if i <10:\n",
    "        if i not in b:\n",
    "            b.append(i)\n",
    "print(b)\n",
    "\n",
    "# Segunda: filtrando despues\n",
    "b = []\n",
    "for i in a:\n",
    "    if i <10:\n",
    "        b.append(i)\n",
    "b = list(set(b))  ## GOOGLEAR QUE ES UN SET\n",
    "print(b)"
   ]
  },
  {
   "cell_type": "markdown",
   "metadata": {},
   "source": [
    "**Ejercicio**: dadas dos listas *a* y *b*, armar una lista con:\n",
    "* Con todos los elementos de *a* y *b*\n",
    "* Con todos los elementos de *a* y *b*, ordenados de menor a mayor\n",
    "* Con todos los elementos de *a* y *b*, ordenados de mayor a menor\n",
    "* Con todos los elementos de *a* y *b*, ordenados de menor a mayor y sin elementos repetidos\n",
    "* Con todos los elementos que están en ambas listas\n",
    "* Con todos los elementos que NO están en ambas listas"
   ]
  },
  {
   "cell_type": "code",
   "execution_count": 96,
   "metadata": {},
   "outputs": [],
   "source": [
    "a = [12,3,5,12,8,9,25,12,1,3,4,5,17,15]\n",
    "b = [3,5,7,8,45,8,9,16,1,11,30,41,2,3,15,1,29,22]"
   ]
  },
  {
   "cell_type": "markdown",
   "metadata": {},
   "source": [
    "¡**NO hay una única forma de hacerlos**!"
   ]
  },
  {
   "cell_type": "code",
   "execution_count": 97,
   "metadata": {},
   "outputs": [
    {
     "name": "stdout",
     "output_type": "stream",
     "text": [
      "[12, 3, 5, 12, 8, 9, 25, 12, 1, 3, 4, 5, 17, 15, 3, 5, 7, 8, 45, 8, 9, 16, 1, 11, 30, 41, 2, 3, 15, 1, 29, 22]\n"
     ]
    }
   ],
   "source": [
    "# Con todos los elementos de a* y *b\n",
    "todos = a + b \n",
    "print(todos)"
   ]
  },
  {
   "cell_type": "code",
   "execution_count": 98,
   "metadata": {},
   "outputs": [
    {
     "name": "stdout",
     "output_type": "stream",
     "text": [
      "[1, 1, 1, 2, 3, 3, 3, 3, 4, 5, 5, 5, 7, 8, 8, 8, 9, 9, 11, 12, 12, 12, 15, 15, 16, 17, 22, 25, 29, 30, 41, 45]\n"
     ]
    }
   ],
   "source": [
    "# Con todos los elementos de *a* y *b*, ordenados de menor a mayor\n",
    "todos = a + b \n",
    "todos.sort() #ordena\n",
    "print(todos)"
   ]
  },
  {
   "cell_type": "code",
   "execution_count": 99,
   "metadata": {},
   "outputs": [
    {
     "name": "stdout",
     "output_type": "stream",
     "text": [
      "[45, 41, 30, 29, 25, 22, 17, 16, 15, 15, 12, 12, 12, 11, 9, 9, 8, 8, 8, 7, 5, 5, 5, 4, 3, 3, 3, 3, 2, 1, 1, 1]\n"
     ]
    }
   ],
   "source": [
    "# Con todos los elementos de *a* y *b*, ordenados de mayor a menor\n",
    "todos = a + b \n",
    "todos.sort(reverse = True)\n",
    "print(todos)"
   ]
  },
  {
   "cell_type": "code",
   "execution_count": 100,
   "metadata": {},
   "outputs": [
    {
     "name": "stdout",
     "output_type": "stream",
     "text": [
      "[1, 2, 3, 4, 5, 7, 8, 9, 11, 12, 15, 16, 17, 22, 25, 29, 30, 41, 45]\n"
     ]
    }
   ],
   "source": [
    "# Con todos los elementos de *a* y *b*, ordenados de menor a mayor y sin elementos repetidos\n",
    "todos = a + b \n",
    "todos = list(set(todos))\n",
    "todos.sort()\n",
    "print(todos)"
   ]
  },
  {
   "cell_type": "code",
   "execution_count": 101,
   "metadata": {},
   "outputs": [
    {
     "name": "stdout",
     "output_type": "stream",
     "text": [
      "[1, 3, 4, 5, 8, 9, 12, 15, 17, 25]\n",
      "[1, 2, 3, 5, 7, 8, 9, 41, 11, 45, 15, 16, 22, 29, 30]\n",
      "[1, 3, 5, 8, 9, 15]\n"
     ]
    }
   ],
   "source": [
    "# Con todos los elementos que están en ambas listas\n",
    "todos_ambas = []\n",
    "for elemento in a + b:\n",
    "    if elemento in a and elemento in b:\n",
    "        todos_ambas.append(elemento)\n",
    "\n",
    "## ESTO NO LO PIDE PERO ES MAS FACIL PARA VISUALIZAR\n",
    "print(list(set(a)))\n",
    "print(list(set(b)))\n",
    "print(list(set(todos_ambas)))"
   ]
  },
  {
   "cell_type": "code",
   "execution_count": 102,
   "metadata": {},
   "outputs": [],
   "source": [
    "# Con todos los elementos que NO están en ambas listas\n",
    "\n",
    "## TAREA!"
   ]
  },
  {
   "cell_type": "markdown",
   "metadata": {},
   "source": [
    "**Ejercicio**: Para googlear:\n",
    "* ¿Qué es un diccionario? Escribir un ejemplo en una celda."
   ]
  },
  {
   "cell_type": "markdown",
   "metadata": {},
   "source": [
    "**Diccionarios**"
   ]
  },
  {
   "cell_type": "code",
   "execution_count": 106,
   "metadata": {},
   "outputs": [
    {
     "name": "stdout",
     "output_type": "stream",
     "text": [
      "{'Key 1': 12, 'Key 2': [1, 2, 3, 4], 'Key 3': 'Puede ser un string'}\n"
     ]
    }
   ],
   "source": [
    "# Diccionario\n",
    "diccionario = {'Key 1': 12, 'Key 2': [1,2,3,4], 'Key 3': 'Puede ser un string'}\n",
    "print(diccionario)"
   ]
  },
  {
   "cell_type": "code",
   "execution_count": 107,
   "metadata": {},
   "outputs": [
    {
     "name": "stdout",
     "output_type": "stream",
     "text": [
      "dict_keys(['Key 1', 'Key 2', 'Key 3'])\n"
     ]
    }
   ],
   "source": [
    "print(diccionario.keys())"
   ]
  },
  {
   "cell_type": "code",
   "execution_count": 108,
   "metadata": {},
   "outputs": [
    {
     "name": "stdout",
     "output_type": "stream",
     "text": [
      "dict_values([12, [1, 2, 3, 4], 'Puede ser un string'])\n"
     ]
    }
   ],
   "source": [
    "print(diccionario.values())"
   ]
  },
  {
   "cell_type": "code",
   "execution_count": 109,
   "metadata": {},
   "outputs": [
    {
     "data": {
      "text/plain": [
       "12"
      ]
     },
     "execution_count": 109,
     "metadata": {},
     "output_type": "execute_result"
    }
   ],
   "source": [
    "diccionario['Key 1']"
   ]
  },
  {
   "cell_type": "code",
   "execution_count": 110,
   "metadata": {},
   "outputs": [
    {
     "name": "stdout",
     "output_type": "stream",
     "text": [
      "{1: 12, 2: [1, 2, 3, 4], 3: 'Puede ser un string'}\n",
      "dict_keys([1, 2, 3])\n",
      "dict_values([12, [1, 2, 3, 4], 'Puede ser un string'])\n"
     ]
    }
   ],
   "source": [
    "# Los keys no necesariamente tienen que ser strings\n",
    "diccionario = {1: 12, 2: [1,2,3,4], 3: 'Puede ser un string'}\n",
    "print(diccionario)\n",
    "print(diccionario.keys())\n",
    "print(diccionario.values())"
   ]
  },
  {
   "cell_type": "code",
   "execution_count": 111,
   "metadata": {},
   "outputs": [
    {
     "data": {
      "text/plain": [
       "[1, 2, 3, 4]"
      ]
     },
     "execution_count": 111,
     "metadata": {},
     "output_type": "execute_result"
    }
   ],
   "source": [
    "diccionario[2]"
   ]
  }
 ],
 "metadata": {
  "kernelspec": {
   "display_name": "Python 3",
   "language": "python",
   "name": "python3"
  },
  "language_info": {
   "codemirror_mode": {
    "name": "ipython",
    "version": 3
   },
   "file_extension": ".py",
   "mimetype": "text/x-python",
   "name": "python",
   "nbconvert_exporter": "python",
   "pygments_lexer": "ipython3",
   "version": "3.8.5"
  },
  "varInspector": {
   "cols": {
    "lenName": 16,
    "lenType": 16,
    "lenVar": 40
   },
   "kernels_config": {
    "python": {
     "delete_cmd_postfix": "",
     "delete_cmd_prefix": "del ",
     "library": "var_list.py",
     "varRefreshCmd": "print(var_dic_list())"
    },
    "r": {
     "delete_cmd_postfix": ") ",
     "delete_cmd_prefix": "rm(",
     "library": "var_list.r",
     "varRefreshCmd": "cat(var_dic_list()) "
    }
   },
   "types_to_exclude": [
    "module",
    "function",
    "builtin_function_or_method",
    "instance",
    "_Feature"
   ],
   "window_display": false
  }
 },
 "nbformat": 4,
 "nbformat_minor": 4
}
