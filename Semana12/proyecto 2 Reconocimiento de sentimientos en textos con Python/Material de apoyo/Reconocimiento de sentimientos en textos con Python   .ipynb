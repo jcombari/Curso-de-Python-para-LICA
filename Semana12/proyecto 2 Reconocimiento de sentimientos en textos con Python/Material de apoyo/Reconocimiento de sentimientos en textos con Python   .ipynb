{
 "cells": [
  {
   "cell_type": "code",
   "execution_count": 1,
   "metadata": {},
   "outputs": [],
   "source": [
    "from textblob import TextBlob\n",
    "from googletrans import Translator #pip install googletrans==3.1.0a0\n",
    "# Solución de\n",
    "#https://stackoverflow.com/questions/52455774/googletrans-stopped-working-with-error-nonetype-object-has-no-attribute-group"
   ]
  },
  {
   "cell_type": "code",
   "execution_count": 2,
   "metadata": {},
   "outputs": [
    {
     "name": "stdout",
     "output_type": "stream",
     "text": [
      "Analizando sentimiento de poesía...\n"
     ]
    }
   ],
   "source": [
    "translator = Translator()\n",
    "print(\"Analizando sentimiento de poesía...\")\n",
    "texto = ['Me gusta las flores', \n",
    "             \"Mirar el mar en el cielo\", \n",
    "             \"Amaba y me encantaban los pajaros\",\n",
    "             \"No odiaba el alma del paisaje\",\n",
    "            \"Disfrutaba cada paso del dia\"]"
   ]
  },
  {
   "cell_type": "code",
   "execution_count": 3,
   "metadata": {},
   "outputs": [
    {
     "name": "stdout",
     "output_type": "stream",
     "text": [
      "cont 0\n",
      "contar 0\n",
      "\n",
      "Me gusta las flores\n",
      "cont 1\n",
      "contar 1\n",
      "\n",
      "Mirar el mar en el cielo\n",
      "cont 2\n",
      "contar 2\n",
      "\n",
      "Amaba y me encantaban los pajaros\n",
      "cont 3\n",
      "contar 3\n",
      "\n",
      "No odiaba el alma del paisaje\n",
      "cont 4\n",
      "contar 4\n",
      "\n",
      "Disfrutaba cada paso del dia\n"
     ]
    }
   ],
   "source": [
    "comentarios = []\n",
    "contar = 0\n",
    "for cont in range(len(texto)):\n",
    "    print('cont',cont)\n",
    "    print('contar', contar)\n",
    "    print('')\n",
    "    print(texto[contar])\n",
    "    traduccion = translator.translate(texto[contar], src='es', dest='en')\n",
    "    comentarios.append(traduccion.text + \"\")\n",
    "    contar = contar +1"
   ]
  },
  {
   "cell_type": "code",
   "execution_count": 4,
   "metadata": {},
   "outputs": [],
   "source": [
    "positive_feedbacks = []\n",
    "negative_feedbacks = []\n",
    "for feedback in comentarios:\n",
    "  feedback_polarity = TextBlob(feedback).sentiment.polarity\n",
    "  if feedback_polarity>0:\n",
    "    positive_feedbacks.append(feedback)\n",
    "    continue\n",
    "  negative_feedbacks.append(feedback)"
   ]
  },
  {
   "cell_type": "code",
   "execution_count": 5,
   "metadata": {},
   "outputs": [
    {
     "name": "stdout",
     "output_type": "stream",
     "text": [
      "['I loved and loved birds', 'I did not hate the soul of the landscape', 'I enjoyed every step of the day']\n",
      "['I like flowers', 'Look at the sea in the sky']\n",
      "La poesia analizada tiene un sentimiento:\n",
      "Sentimiento positivo.\n"
     ]
    }
   ],
   "source": [
    "print(positive_feedbacks)\n",
    "print(negative_feedbacks)\n",
    "print(\"La poesia analizada tiene un sentimiento:\")\n",
    "if positive_feedbacks > negative_feedbacks:\n",
    "    print(\"Sentimiento positivo.\")\n",
    "else:\n",
    "    print(\"Sentimiento negativo.\")"
   ]
  }
 ],
 "metadata": {
  "kernelspec": {
   "display_name": "Python 3",
   "language": "python",
   "name": "python3"
  },
  "language_info": {
   "codemirror_mode": {
    "name": "ipython",
    "version": 3
   },
   "file_extension": ".py",
   "mimetype": "text/x-python",
   "name": "python",
   "nbconvert_exporter": "python",
   "pygments_lexer": "ipython3",
   "version": "3.8.5"
  }
 },
 "nbformat": 4,
 "nbformat_minor": 4
}
