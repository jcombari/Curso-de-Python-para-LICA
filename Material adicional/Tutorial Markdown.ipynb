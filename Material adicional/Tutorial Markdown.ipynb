{
 "cells": [
  {
   "cell_type": "markdown",
   "metadata": {},
   "source": [
    "# HEADERS\n",
    "\n",
    "# This is an  <h1> tag\n",
    "    \n",
    "## This is an  <h2> tag\n",
    "\n",
    "###### This is an  <h6> tag"
   ]
  },
  {
   "cell_type": "markdown",
   "metadata": {},
   "source": [
    "# EMPHASIS"
   ]
  },
  {
   "cell_type": "markdown",
   "metadata": {},
   "source": [
    "*This text will be italic*\n",
    "\n",
    "_This will also be italic_\n",
    "\n",
    "**This text will be bold**\n",
    "\n",
    "__This will also be bold__\n",
    "\n",
    "*You **can** combine them*"
   ]
  },
  {
   "cell_type": "markdown",
   "metadata": {},
   "source": [
    "# BLOCKQUOTES\n",
    "\n",
    "As Grace Hopper said:\n",
    "\n",
    "> I’ve always been more interested \n",
    "\n",
    "> in the future than in the past."
   ]
  },
  {
   "cell_type": "markdown",
   "metadata": {},
   "source": [
    "# LISTS\n",
    "\n",
    "Unordered\n",
    "\n",
    "* Item 1\n",
    "* Item 2\n",
    " * Item 2a\n",
    " * Item 2b\n",
    " \n",
    "Ordered\n",
    "\n",
    "1. Item 1\n",
    "2. Item 2\n",
    "3. Item 3\n",
    " * Item 3a\n",
    " * Item 3b"
   ]
  },
  {
   "cell_type": "markdown",
   "metadata": {},
   "source": [
    "# BACKSLASH ESCAPES\n",
    "\n",
    "Markdown allows you to use backslash escapes to generate literal characters which\n",
    "would otherwise have special meaning in Markdown’s formating syntax.\n",
    "\n",
    "\\*literal asterisks\\*"
   ]
  },
  {
   "cell_type": "markdown",
   "metadata": {},
   "source": [
    "Markdown provides backslash escapes for\n",
    "the following characters: <br />\n",
    "\n",
    "\\ backslash  <br />\n",
    "` backtick  <br />\n",
    "* asterisk <br />\n",
    "_ underscore  <br />\n",
    "{} curly braces  <br />\n",
    "[] square brackets  <br />\n",
    "() parentheses <br />\n",
    "\n",
    "# hash mark\n",
    "+ plus sign  <br />\n",
    "- minus sign (hyphen) \n",
    ". dot\n",
    "! exclamation mark"
   ]
  },
  {
   "cell_type": "markdown",
   "metadata": {},
   "source": [
    "Tables\n",
    "\n",
    "First Header | Second Header\n",
    "------------ | -------------\n",
    "Content from cell 1 | Content from cell 2\n",
    "Content in the first column | Content in the second column"
   ]
  },
  {
   "cell_type": "markdown",
   "metadata": {},
   "source": [
    "Issue references within a repository\n",
    "\n",
    "Any number that refers to an Issue or Pull Request will be automatically converted into a link."
   ]
  },
  {
   "cell_type": "markdown",
   "metadata": {},
   "source": [
    "#1\n",
    "mojombo#1\n",
    "mojombo/github-flavored-markdown#1"
   ]
  }
 ],
 "metadata": {
  "kernelspec": {
   "display_name": "Python 3",
   "language": "python",
   "name": "python3"
  },
  "language_info": {
   "codemirror_mode": {
    "name": "ipython",
    "version": 3
   },
   "file_extension": ".py",
   "mimetype": "text/x-python",
   "name": "python",
   "nbconvert_exporter": "python",
   "pygments_lexer": "ipython3",
   "version": "3.7.4"
  }
 },
 "nbformat": 4,
 "nbformat_minor": 2
}
