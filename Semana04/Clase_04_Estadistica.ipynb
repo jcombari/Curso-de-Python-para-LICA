{
 "cells": [
  {
   "cell_type": "markdown",
   "metadata": {},
   "source": [
    "# Clase 04 sábado 20 de marzo de 2021\n",
    "\n",
    "# Estadística\n",
    "\n",
    "El objetivo del siguiente notebook es, además de aprender conceptos de estadística, que presten atención a cómo se calculan algunas cosas con Numpy y se hacen gráficos con Matplotlib (¿qué?¿qué es eso? Lo veremos más adelante). Por ahora, solamente tienen que instalar la librería Matplotlib y correr las celdas).\n"
   ]
  },
  {
   "cell_type": "markdown",
   "metadata": {},
   "source": [
    "## Distribuciones de probabilidad\n",
    "\n",
    "El concepto de distribución de probabilidad es un concepto central en probabilidad y estadística y, por lo tanto, hay mucho para decir. Nos limitamos acá a los puntos más importantes.\n",
    "\n",
    "Comencemos por un ejemplo: un dado de seis caras. La probabilidad de que al tirar el dado *salga* una cara es $1/6$. Si graficamos la probabilidad para cada resultado posible de tirar un dado, obtendríamos un gráfico como el siguiente:"
   ]
  },
  {
   "cell_type": "code",
   "execution_count": 1,
   "metadata": {},
   "outputs": [],
   "source": [
    "import numpy as np\n",
    "import matplotlib.pyplot as plt"
   ]
  },
  {
   "cell_type": "code",
   "execution_count": 2,
   "metadata": {},
   "outputs": [
    {
     "name": "stdout",
     "output_type": "stream",
     "text": [
      "[1 2 3 4 5 6]\n"
     ]
    }
   ],
   "source": [
    "valores = np.arange(1,7)\n",
    "print(valores)"
   ]
  },
  {
   "cell_type": "code",
   "execution_count": 3,
   "metadata": {},
   "outputs": [
    {
     "name": "stdout",
     "output_type": "stream",
     "text": [
      "[0.16666667 0.16666667 0.16666667 0.16666667 0.16666667 0.16666667]\n"
     ]
    }
   ],
   "source": [
    "probas = np.zeros(6) + 1/6\n",
    "print(probas)"
   ]
  },
  {
   "cell_type": "code",
   "execution_count": 4,
   "metadata": {},
   "outputs": [],
   "source": [
    "??plt.savefig"
   ]
  },
  {
   "cell_type": "code",
   "execution_count": 5,
   "metadata": {},
   "outputs": [
    {
     "data": {
      "image/png": "[encoded data removed]",
      "text/plain": [
       "<Figure size 432x288 with 1 Axes>"
      ]
     },
     "metadata": {
      "needs_background": "light"
     },
     "output_type": "display_data"
    }
   ],
   "source": [
    "plt.bar(valores, probas)\n",
    "plt.title('Distribución de probabilidad uniforme: lanzamiento de un dado')\n",
    "plt.savefig('distribucion_dado.png', dpi = 400)\n",
    "plt.show()"
   ]
  },
  {
   "cell_type": "markdown",
   "metadata": {},
   "source": [
    "En este caso, decimos que la distribución de probabilidad es *uniforme discreta*, ya que le asigna la misma probabilidad a los seis valores que pueden salir al tirar el dado. Si el dado estuviera cargado, ya no sería uniforme.\n",
    "\n",
    "**Algunos detalles**:\n",
    "1. El resultado de tirar un dado es un ejemplo de una *variable aleatoria*.\n",
    "2. En el caso del dado, la variable aleatoria puede tomar valores *discretos* y *acotados* (limitados): 1, 2, 3, 4, 5 y 6\n",
    "3. Existen variables aleatorias donde los posibles valores que puede tomar son continuos y no acotados. Veremos la distribución más famosa de ellas a continuación."
   ]
  },
  {
   "cell_type": "markdown",
   "metadata": {},
   "source": [
    "### Distribución Normal o Gaussiana\n",
    "\n",
    "La distribución normal o gaussiana debe ser la distribución más famosa dentro de las distribuciones. Es una distribución de variable continua y aparece en una infinidad de ámbitos de la ciencia. Muchas variables asociadas a fenómenos naturales siguen una distribución gaussiana; un ejemplo típico es la estatura de las personas. Recomendamos entrar en la página de Wikipedia y prestar atención a la sección \"Propiedades\":\n",
    "https://es.wikipedia.org/wiki/Distribuci%C3%B3n_normal\n",
    "\n",
    "Los dos parámetros de una distribución Gaussiana son: su valor medio $\\mu$ y su desviacíon estándar $\\sigma$. Estos valores son *teóricos*, es decir, son propios de la distribución de probabilidad. Numpy nos provee de herramientas para generar valores aleatorios de distribuciones normales. A continuación generamos, usando `np.random.normal()`, muestras de dos distribuciones normales, con el mismo valor medio pero distinta desviación estándar. **Consultar** la ayuda de la función para entender bien qué hace."
   ]
  },
  {
   "cell_type": "code",
   "execution_count": 6,
   "metadata": {
    "scrolled": true
   },
   "outputs": [
    {
     "name": "stdout",
     "output_type": "stream",
     "text": [
      "[ 1.89984649  3.12742174 -5.13891486 ...  0.86243576 -3.48797942\n",
      " -0.27416889] [3.15860227 3.30137699 2.18893735 ... 0.11546965 2.20172648 2.15898672]\n"
     ]
    }
   ],
   "source": [
    "mu = 2.0\n",
    "sigma_1 = 5.0\n",
    "sigma_2 = 2.0\n",
    "muestras_1 = np.random.normal(loc = mu, scale = sigma_1, size = 10000)\n",
    "muestras_2 = np.random.normal(loc = mu, scale = sigma_2, size = 10000)\n",
    "print(muestras_1, muestras_2)"
   ]
  },
  {
   "cell_type": "markdown",
   "metadata": {},
   "source": [
    "Notar que son dos \"tiras\" de números, bastante largas y que a simple vista no nos dicen mucho. Mejor, podemos graficar su histograma (¿Qué es eso? Nuevamente, lo veremos durante las próximas clases, pero se pueden ir familiarizando)."
   ]
  },
  {
   "cell_type": "code",
   "execution_count": 7,
   "metadata": {},
   "outputs": [
    {
     "data": {
      "image/png": "[encoded data removed]",
      "text/plain": [
       "<Figure size 720x576 with 1 Axes>"
      ]
     },
     "metadata": {
      "needs_background": "light"
     },
     "output_type": "display_data"
    }
   ],
   "source": [
    "plt.figure(figsize = (10,8))\n",
    "plt.hist(muestras_1, bins = 30, alpha = 0.5, label = 'Histrograma Muestra 1')\n",
    "plt.hist(muestras_2, bins = 30, alpha = 0.5, label = 'Histrograma Muestra 2')\n",
    "plt.legend()\n",
    "plt.grid()\n",
    "plt.show()"
   ]
  },
  {
   "cell_type": "markdown",
   "metadata": {},
   "source": [
    "Volver a \"generar\" las muestas y hacer sus histogramas. ¿Cambió?¿Por qué?"
   ]
  },
  {
   "cell_type": "markdown",
   "metadata": {
    "slideshow": {
     "slide_type": "slide"
    }
   },
   "source": [
    "### Promedio\n",
    "\n",
    "Dados $n$ números $x_1,x_2,...,x_n$, el promedio o media es \n",
    "\n",
    "$$\\overline{x} = \\frac{1}{n}\\sum_{i=1}^{n} x_i = \\frac{x_1 + x_2 + ... + x_n}{n}$$"
   ]
  },
  {
   "cell_type": "markdown",
   "metadata": {},
   "source": [
    "y lo podemos calcular *a mano* con Python"
   ]
  },
  {
   "cell_type": "code",
   "execution_count": 8,
   "metadata": {},
   "outputs": [
    {
     "name": "stdout",
     "output_type": "stream",
     "text": [
      "2.3333333333333335\n"
     ]
    }
   ],
   "source": [
    "x_s = np.array([1,2,3,1,2,2,3,4,1,2,3,4,1,2,4])\n",
    "n = len(x_s)\n",
    "\n",
    "#forma lenta\n",
    "x_mean = 0\n",
    "for x in x_s:\n",
    "    x_mean +=x\n",
    "x_mean/=n\n",
    "print(x_mean)"
   ]
  },
  {
   "cell_type": "markdown",
   "metadata": {},
   "source": [
    "o, mejor, usando Numpy"
   ]
  },
  {
   "cell_type": "code",
   "execution_count": 9,
   "metadata": {},
   "outputs": [
    {
     "name": "stdout",
     "output_type": "stream",
     "text": [
      "2.3333333333333335\n"
     ]
    }
   ],
   "source": [
    "x_mean = np.mean(x_s)\n",
    "print(x_mean)"
   ]
  },
  {
   "cell_type": "markdown",
   "metadata": {},
   "source": [
    "**Comentarios**:\n",
    "1. Dado un conjunto de números, el promedio suele ser considerado el número más representativo de ese conjunto. Esto no siempre es así. Pensar por qué.\n",
    "2. Al conjunto de números $x_1,...,x_n$ los pueden encontrar por el nombre de *población* o *muestra* (¡Ojo que no estamos diciendo que *población* y *muestra* sean lo mismo!).\n"
   ]
  },
  {
   "cell_type": "markdown",
   "metadata": {},
   "source": [
    "### Desviación Estándar\n",
    "\n",
    "La desviación estándar nos da una idea de cuán \"dispersos\" están los valores con respecto a su promedio. En general se usa la letra griega $\\sigma$ para representarla (igual que el parámetro $\\sigma$ de la distribución normal, ¡pero refieren a cosas distintas - aunque relacionadas!) o las siglas $SD$. Como no queremos que se confundan, preferimos la segunda opción.\n",
    "\n",
    "$$ SD = \\sqrt{\\frac{\\sum_{i=1}^{n} (x_i -\\overline{x})^2}{n - 1}}$$\n",
    "\n",
    "Numpy, nuevamente, tiene funciones ya incorporadas que calculan la desviación estándar de un arreglo:"
   ]
  },
  {
   "cell_type": "code",
   "execution_count": 10,
   "metadata": {},
   "outputs": [
    {
     "name": "stdout",
     "output_type": "stream",
     "text": [
      "1.0749676997731399\n"
     ]
    }
   ],
   "source": [
    "x_std = np.std(x_s)\n",
    "print(x_std)"
   ]
  },
  {
   "cell_type": "markdown",
   "metadata": {},
   "source": [
    "**Para investigar**: ¿qué es el parámetro `ddof` de esa función?"
   ]
  },
  {
   "cell_type": "markdown",
   "metadata": {},
   "source": [
    "### Promedio y desviación estándar en una distribución Normal\n",
    "\n",
    "En una distribución normal, el promedio de las muestras obtenidas *tiende* al valor medio $\\mu$ de la distribución, y la desviación estándar *tiende* a la desviacíon estándar $\\sigma$ de la distribución. Notar, entonces, que existen valores calculados (promedio, desviación estándar) y valores teóricos ($\\mu$ y $\\sigma$). Confundirlos entre sí es un error común."
   ]
  },
  {
   "cell_type": "code",
   "execution_count": 11,
   "metadata": {},
   "outputs": [],
   "source": [
    "mu = 8.5\n",
    "sigma = 3.0\n",
    "muestras = np.random.normal(loc = mu, scale = sigma, size = 1000)"
   ]
  },
  {
   "cell_type": "code",
   "execution_count": 12,
   "metadata": {},
   "outputs": [
    {
     "name": "stdout",
     "output_type": "stream",
     "text": [
      "Valor medio teorico: 8.5 . Valor medio calculado: 8.632559533610777\n",
      "Desviacion estandar teorica: 3.0 . Desviacion estandar calculada: 3.0564546507851915\n"
     ]
    }
   ],
   "source": [
    "print('Valor medio teorico:', mu, '. Valor medio calculado:', muestras.mean())\n",
    "print('Desviacion estandar teorica:', sigma, '. Desviacion estandar calculada:', muestras.std())"
   ]
  },
  {
   "cell_type": "markdown",
   "metadata": {},
   "source": [
    "¿Por qué no coinciden?¿Qué podemos hacer para que se parezcan cada vez más?"
   ]
  },
  {
   "cell_type": "markdown",
   "metadata": {},
   "source": [
    "## Repaso: Estadística con Python/Numpy\n",
    "\n",
    "Como vimos, en la librería Numpy ya hay funciones que calculan varios *estadísticos* dada una muestra\n"
   ]
  },
  {
   "cell_type": "code",
   "execution_count": 13,
   "metadata": {},
   "outputs": [
    {
     "name": "stdout",
     "output_type": "stream",
     "text": [
      "2.3333333333333335 1.0749676997731399\n"
     ]
    }
   ],
   "source": [
    "x_s = np.array([1,2,3,1,2,2,3,4,1,2,3,4,1,2,4])\n",
    "x_mean = np.mean(x_s) #alternativamente, x_s.mean()\n",
    "std = np.std(x_s) #alternativamente, x_s.std()\n",
    "print(x_mean, std)"
   ]
  },
  {
   "cell_type": "markdown",
   "metadata": {},
   "source": [
    "También hay funciones que generan muestras al azar de una distribución"
   ]
  },
  {
   "cell_type": "code",
   "execution_count": 14,
   "metadata": {},
   "outputs": [
    {
     "name": "stdout",
     "output_type": "stream",
     "text": [
      "[10.25738278 19.98774003  4.20447839 -3.24478925  6.95031663  2.05859526\n",
      "  4.83900148  0.61948936  3.10056133  1.09731397]\n"
     ]
    }
   ],
   "source": [
    "promedio = 2.0\n",
    "std = 5.0\n",
    "muestras_normal = np.random.normal(loc = promedio, scale = std, size = 400)\n",
    "print(muestras_normal[:10])"
   ]
  },
  {
   "cell_type": "markdown",
   "metadata": {},
   "source": [
    "Y con Matplotlib podemos hacer histogramas"
   ]
  },
  {
   "cell_type": "code",
   "execution_count": 15,
   "metadata": {},
   "outputs": [
    {
     "data": {
      "image/png": "[encoded data removed]",
      "text/plain": [
       "<Figure size 432x288 with 1 Axes>"
      ]
     },
     "metadata": {
      "needs_background": "light"
     },
     "output_type": "display_data"
    }
   ],
   "source": [
    "plt.hist(muestras_normal, bins = 20)\n",
    "plt.grid()\n",
    "plt.show()"
   ]
  },
  {
   "cell_type": "markdown",
   "metadata": {},
   "source": [
    "## Ejercicio\n",
    "\n",
    "¿Cuál será el promedio de los valores obtenidos de tirar muchas veces un dado? Vamos a tratar de responder esta pregunta *simulando* un dado y luego comparar con el valor teórico.\n",
    "\n",
    "1. Obtener 30 muestras al azar de un dado. No hay una única forma de hacerlo. Pueden googlear o mirar la documentación del módulo *random* de Numpy (https://docs.scipy.org/doc/numpy-1.15.1/reference/routines.random.html). Pista: choice o randint."
   ]
  },
  {
   "cell_type": "code",
   "execution_count": 16,
   "metadata": {
    "scrolled": true
   },
   "outputs": [
    {
     "name": "stdout",
     "output_type": "stream",
     "text": [
      "[3 6 1 4 1 3 2 5 3 4 6 3 1 2 2 5 1 1 2 1 2 4 4 2 6 1 4 2 4 3 2 6 4 3 6 3 6\n",
      " 2 6 6 1 2 4 1 1 4 2 6 2 5 1 1 6 2 4 6 1 3 3 6 3 4 6 4 1 6 1 6 5 3 2 5 6 1\n",
      " 4 1 6 2 4 5 3 5 4 6 4 5 3 5 6 1 1 6 1 1 3 2 5 4 4 3 1 4 2 5 4 5 1 1 6 3 5\n",
      " 3 3 2 1 1 2 5 1 6 1 2 6 5 6 2 3 3 1 2 3 1 6 3 3 5 4 6 1 2 3 2 4 5 3 5 1 3\n",
      " 6 4 2 3 6 4 4 3 2 6 6 1 2 1 1 6 4 6 5 3 6 6 4 1 4 6 2 1 6 1 3 4 1 5 4 2 5\n",
      " 5 5 4 4 5 2 4 2 1 5 3 4 4 4 6 4 5 4 2 2 1 5 2 5 5 3 1 2 1 6 2 3 5 4 3 5 1\n",
      " 6 1 4 1 3 2 3 6 6 6 3 2 1 3 5 6 5 4 3 5 3 5 4 3 6 2 5 3 3 4 1 6 1 3 2 2 6\n",
      " 6 3 6 3 1 5 6 2 1 4 2 3 6 2 2 5 3 3 6 2 3 4 4 2 2 4 4 3 4 6 2 3 1 5 5 5 2\n",
      " 4 1 6 6 2 1 3 4 1 1 4 2 5 2 1 1 1 1 2 5 4 6 6 1 4 1 6 5 1 2 1 6 2 6 6 3 1\n",
      " 3 3 1 6 6 1 6 2 2 6 1 4 1 1 6 1 1 1 1 1 3 6 2 5 4 6 2 5 4 4 6 1 5 2 2 3 6\n",
      " 6 5 2 1 2 5 6 4 1 4 5 1 2 4 5 3 5 1 5 4 6 6 6 5 3 6 4 2 1 4 6 3 2 5 1 4 1\n",
      " 5 6 4 6 4 4 1 1 5 4 6 4 4 2 2 4 2 1 5 2 6 4 4 6 2 4 4 2 3 2 6 3 6 5 1 4 2\n",
      " 2 5 2 5 6 6 4 5 1 4 2 2 3 1 1 1 3 3 4 3 6 5 4 6 2 4 6 2 3 4 6 5 6 2 4 3 3\n",
      " 3 1 1 5 6 2 6 2 5 2 1 1 3 2 1 3 2 3 1 3 4 6 4 5 6 1 3 5 3 5 5 4 3 4 1 5 5\n",
      " 1 3 3 3 5 3 6 6 5 5 2 5 1 6 4 2 5 2 4 3 1 6 5 5 4 3 2 6 2 3 3 3 4 4 4 1 6\n",
      " 3 2 1 1 3 3 5 3 1 4 6 5 6 1 5 6 1 2 6 1 3 5 5 1 5 5 6 3 6 1 3 3 2 2 5 1 6\n",
      " 2 3 4 2 3 1 2 3 2 3 4 1 5 1 4 6 2 6 3 4 2 4 6 1 3 4 6 4 6 6 3 1 1 1 5 3 3\n",
      " 2 6 5 3 5 1 2 3 4 4 2 1 2 1 1 2 3 2 6 3 6 3 1 3 5 3 1 2 2 5 1 6 3 1 6 5 3\n",
      " 4 1 3 3 5 5 5 2 5 1 3 4 2 6 3 3 1 6 6 2 6 5 4 4 3 5 3 6 1 6 5 3 1 5 6 1 4\n",
      " 6 4 6 5 5 6 1 4 6 1 3 2 4 3 2 1 4 3 3 2 2 1 4 2 5 4 1 2 2 2 3 6 5 3 2 4 5\n",
      " 5 5 5 4 2 3 1 3 3 2 2 1 6 2 3 1 3 2 2 3 5 1 4 4 4 1 5 6 6 2 1 1 6 1 1 5 2\n",
      " 2 6 3 3 2 6 5 6 2 4 5 1 3 4 4 2 3 2 5 6 3 1 3 1 2 2 1 2 2 4 4 4 6 4 6 3 5\n",
      " 2 6 1 3 4 5 2 3 2 5 3 6 1 2 6 3 1 1 1 4 3 4 2 5 3 1 5 6 2 6 2 5 6 2 2 2 4\n",
      " 3 1 6 3 3 2 6 5 4 1 3 4 2 1 5 3 1 6 5 2 3 3 2 3 3 4 3 4 2 6 6 4 4 3 1 4 2\n",
      " 6 1 1 1 3 5 6 4 2 2 5 3 4 5 1 2 1 3 3 4 5 1 1 3 1 3 3 3 6 6 4 6 1 5 5 1 2\n",
      " 4 3 1 3 5 2 6 3 1 4 1 5 2 4 2 1 2 6 6 3 1 2 1 3 6 6 4 4 3 5 1 6 3 2 6 6 2\n",
      " 4 1 5 6 1 3 4 4 2 6 4 2 4 5 4 3 4 5 1 1 4 1 6 6 2 1 2 1 4 2 1 6 5 2 2 2 1\n",
      " 4]\n"
     ]
    }
   ],
   "source": [
    "muestras_dado = np.random.randint(1,7, size = 1000)\n",
    "print(muestras_dado)"
   ]
  },
  {
   "cell_type": "markdown",
   "metadata": {},
   "source": [
    "2. Hacer el histograma. ¿Se parece a lo que esperaban? Volver esta celda y la anterior, pero obteniendo 1000 muestras."
   ]
  },
  {
   "cell_type": "code",
   "execution_count": 17,
   "metadata": {},
   "outputs": [
    {
     "data": {
      "image/png": "[encoded data removed]",
      "text/plain": [
       "<Figure size 432x288 with 1 Axes>"
      ]
     },
     "metadata": {
      "needs_background": "light"
     },
     "output_type": "display_data"
    }
   ],
   "source": [
    "plt.hist(muestras_dado, bins = 6)\n",
    "plt.grid()\n",
    "plt.show()"
   ]
  },
  {
   "cell_type": "markdown",
   "metadata": {},
   "source": [
    "3. Obtener el valor medio y la desviación estándar de la distribución."
   ]
  },
  {
   "cell_type": "code",
   "execution_count": 18,
   "metadata": {},
   "outputs": [
    {
     "name": "stdout",
     "output_type": "stream",
     "text": [
      "3.39 1.7331762749357031\n"
     ]
    }
   ],
   "source": [
    "print(muestras_dado.mean(), muestras_dado.std())"
   ]
  },
  {
   "cell_type": "markdown",
   "metadata": {},
   "source": [
    "4. Averiguar cuales son los valores *esperados*. ¿Están cerca de los valores que obtuvieron ustedes? Pista: mirar en Wikipedia (en inglés) las propiedades de la distribución uniforme discreta."
   ]
  },
  {
   "cell_type": "markdown",
   "metadata": {},
   "source": [
    "5. ¿Cómo se modifica si el dado está *cargado*?. Simular un dado cargado (pueden *cargar* el número que quieran). Pista: choice"
   ]
  },
  {
   "cell_type": "code",
   "execution_count": 19,
   "metadata": {},
   "outputs": [],
   "source": [
    "# a. Crear un arreglo que asigne probabilidades a cada valor del dado. Recordar que las probabilidades deben sumar 1\n",
    "probabilidades = np.array([1,1,1,1,1,6])\n",
    "probabilidades = probabilidades/probabilidades.sum()"
   ]
  },
  {
   "cell_type": "code",
   "execution_count": 20,
   "metadata": {},
   "outputs": [],
   "source": [
    "# b. Generar las muestras\n",
    "muestras_dado_cargado = np.random.choice([1,2,3,4,5,6],p=probabilidades, size = 1000)"
   ]
  },
  {
   "cell_type": "code",
   "execution_count": 21,
   "metadata": {},
   "outputs": [
    {
     "name": "stdout",
     "output_type": "stream",
     "text": [
      "4.611 1.7887646575220566\n"
     ]
    }
   ],
   "source": [
    "print(muestras_dado_cargado.mean(), muestras_dado_cargado.std())"
   ]
  }
 ],
 "metadata": {
  "kernelspec": {
   "display_name": "Python 3",
   "language": "python",
   "name": "python3"
  },
  "language_info": {
   "codemirror_mode": {
    "name": "ipython",
    "version": 3
   },
   "file_extension": ".py",
   "mimetype": "text/x-python",
   "name": "python",
   "nbconvert_exporter": "python",
   "pygments_lexer": "ipython3",
   "version": "3.8.5"
  }
 },
 "nbformat": 4,
 "nbformat_minor": 4
}
