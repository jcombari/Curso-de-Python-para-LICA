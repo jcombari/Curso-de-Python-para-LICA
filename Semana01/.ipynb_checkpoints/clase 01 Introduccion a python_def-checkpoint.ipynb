{
 "cells": [
  {
   "attachments": {
    "image.png": {
     "image/png": "[encoded data removed]"
    }
   },
   "cell_type": "markdown",
   "metadata": {
    "colab_type": "text",
    "id": "aDaMLDnAPBMf"
   },
   "source": [
    "# Clase 01 sábado 27 de febrero de 2021\n",
    "![image.png](attachment:image.png)\n",
    "# Introducción a Python\n",
    "En este notebook vamos a recorrer algunos de los conceptos básicos de programación en general y Python en particular. Recomendamos ir haciéndolo con el buscador de Google como su mejor amigo. Existen muchísimos recursos de libre acceso disponibles para ayudarnos, recomendamos https://learnxinyminutes.com/docs/python3/ ."
   ]
  },
  {
   "cell_type": "markdown",
   "metadata": {},
   "source": [
    "## Completado mediantes Tabs\n",
    "\n",
    "Cuando se escriben programas es necesario recordar ciertas palabras claves, opciones, nombres de archivos, etc. Aún con práctica uno puede olvidarse del nombre de algún comando o es posible que estemos intentando usar una librería nueva y no sepamos las opciones que ofrece. Una forma en la que Jupyter nos ayuda en estos casos es brindándonos sugerencias. El funcionamiento es simple, el usuario escribe uno o más caracteres seguidos de un tab (tabulación). Jupyter intentará autocompletar el comando u ofrecer un listado de posibles opciones."
   ]
  },
  {
   "cell_type": "code",
   "execution_count": null,
   "metadata": {},
   "outputs": [],
   "source": []
  },
  {
   "cell_type": "markdown",
   "metadata": {},
   "source": [
    "## Buscando ayuda\n",
    "En caso de necesitar ayuda sobre cualquier comando Python ofrece una función llamada help. Esta función es muy útil en el trabajo día a día ya que es dificil que recordemos siempre todas las opciones disponibles de todos los comandos que usamos y además estás opciones pueden cambiar con el tiempo o puede que estemos explorando un comando o libreria nueva por lo que no hay forma que conozcamos todas las opciones. En resumen suele ser más importante saber como buscar información que memorizarla! Por todo esto Jupyter ofrece ayuda sobre cualquier comando agregando un signo de interrogación ? luego del nombre del comando (y luego ejecutando la celda presionando la tecla shift y la tecla enter al mismo tiempo). Por ejemplo existe un comando en Python que se llama range, que seguramente será desconocido para ustedes, no hay problema Jupyter nos brinda información"
   ]
  },
  {
   "cell_type": "code",
   "execution_count": 1,
   "metadata": {},
   "outputs": [],
   "source": [
    "range?"
   ]
  },
  {
   "cell_type": "markdown",
   "metadata": {},
   "source": [
    "Si quisieramos saber más sobre Jupyter podemos hacer simplemente:"
   ]
  },
  {
   "cell_type": "code",
   "execution_count": 2,
   "metadata": {},
   "outputs": [],
   "source": [
    "?"
   ]
  },
  {
   "cell_type": "markdown",
   "metadata": {},
   "source": [
    "Con Jupyter también es posible usar el signo * como comodín. Imaginen que sabemos que hay un comando que empieza con \"in\" pero no recordamos como sigue. En ese caso podemos hacer."
   ]
  },
  {
   "cell_type": "code",
   "execution_count": 3,
   "metadata": {},
   "outputs": [],
   "source": [
    "in*?"
   ]
  },
  {
   "cell_type": "markdown",
   "metadata": {},
   "source": [
    "Pero luego recordamos que no es que empezara en \"in\" si no que terminaba en \"in\", entonces podemos hacer:"
   ]
  },
  {
   "cell_type": "code",
   "execution_count": 4,
   "metadata": {},
   "outputs": [],
   "source": [
    "*in?"
   ]
  },
  {
   "cell_type": "markdown",
   "metadata": {},
   "source": [
    "y si quisieramos todos los comando que tiene la particula \"in\" en aǵun sitio?"
   ]
  },
  {
   "cell_type": "code",
   "execution_count": 5,
   "metadata": {},
   "outputs": [],
   "source": [
    "*in*?"
   ]
  },
  {
   "cell_type": "markdown",
   "metadata": {},
   "source": [
    "## Funciones magics por línea y por celda\n",
    "\n",
    "Jupyter posee varias funciones mágicas predefinidas, que sirven para simplificar tareas comunes.\n",
    "\n",
    "Hay dos tipos de magias:\n",
    "\n",
    "* Magias por linea (line magics): Son comandos que empiezan con el caracter % y que toman como argumentos valores escritos en la misma linea\n",
    "* Magias por celda (cell magics): Son comandos que empiezan con los caracteres %%, y que reciben argumentos en la misma linea y en toda la celda. En general solo se puede usar una sola mágias por celda en cada celda y debe ser escrita en la primer linea de la celda\n",
    "Un buen ejemplo de mágia es %lsmagic que lista todas las magias disponibles"
   ]
  },
  {
   "cell_type": "code",
   "execution_count": 6,
   "metadata": {},
   "outputs": [
    {
     "data": {
      "application/json": {
       "cell": {
        "!": "OSMagics",
        "HTML": "Other",
        "SVG": "Other",
        "bash": "Other",
        "capture": "ExecutionMagics",
        "cmd": "Other",
        "debug": "ExecutionMagics",
        "file": "Other",
        "html": "DisplayMagics",
        "javascript": "DisplayMagics",
        "js": "DisplayMagics",
        "latex": "DisplayMagics",
        "markdown": "DisplayMagics",
        "perl": "Other",
        "prun": "ExecutionMagics",
        "pypy": "Other",
        "python": "Other",
        "python2": "Other",
        "python3": "Other",
        "ruby": "Other",
        "script": "ScriptMagics",
        "sh": "Other",
        "svg": "DisplayMagics",
        "sx": "OSMagics",
        "system": "OSMagics",
        "time": "ExecutionMagics",
        "timeit": "ExecutionMagics",
        "writefile": "OSMagics"
       },
       "line": {
        "alias": "OSMagics",
        "alias_magic": "BasicMagics",
        "autoawait": "AsyncMagics",
        "autocall": "AutoMagics",
        "automagic": "AutoMagics",
        "autosave": "KernelMagics",
        "bookmark": "OSMagics",
        "cd": "OSMagics",
        "clear": "KernelMagics",
        "cls": "KernelMagics",
        "colors": "BasicMagics",
        "conda": "PackagingMagics",
        "config": "ConfigMagics",
        "connect_info": "KernelMagics",
        "copy": "Other",
        "ddir": "Other",
        "debug": "ExecutionMagics",
        "dhist": "OSMagics",
        "dirs": "OSMagics",
        "doctest_mode": "BasicMagics",
        "echo": "Other",
        "ed": "Other",
        "edit": "KernelMagics",
        "env": "OSMagics",
        "gui": "BasicMagics",
        "hist": "Other",
        "history": "HistoryMagics",
        "killbgscripts": "ScriptMagics",
        "ldir": "Other",
        "less": "KernelMagics",
        "load": "CodeMagics",
        "load_ext": "ExtensionMagics",
        "loadpy": "CodeMagics",
        "logoff": "LoggingMagics",
        "logon": "LoggingMagics",
        "logstart": "LoggingMagics",
        "logstate": "LoggingMagics",
        "logstop": "LoggingMagics",
        "ls": "Other",
        "lsmagic": "BasicMagics",
        "macro": "ExecutionMagics",
        "magic": "BasicMagics",
        "matplotlib": "PylabMagics",
        "mkdir": "Other",
        "more": "KernelMagics",
        "notebook": "BasicMagics",
        "page": "BasicMagics",
        "pastebin": "CodeMagics",
        "pdb": "ExecutionMagics",
        "pdef": "NamespaceMagics",
        "pdoc": "NamespaceMagics",
        "pfile": "NamespaceMagics",
        "pinfo": "NamespaceMagics",
        "pinfo2": "NamespaceMagics",
        "pip": "PackagingMagics",
        "popd": "OSMagics",
        "pprint": "BasicMagics",
        "precision": "BasicMagics",
        "prun": "ExecutionMagics",
        "psearch": "NamespaceMagics",
        "psource": "NamespaceMagics",
        "pushd": "OSMagics",
        "pwd": "OSMagics",
        "pycat": "OSMagics",
        "pylab": "PylabMagics",
        "qtconsole": "KernelMagics",
        "quickref": "BasicMagics",
        "recall": "HistoryMagics",
        "rehashx": "OSMagics",
        "reload_ext": "ExtensionMagics",
        "ren": "Other",
        "rep": "Other",
        "rerun": "HistoryMagics",
        "reset": "NamespaceMagics",
        "reset_selective": "NamespaceMagics",
        "rmdir": "Other",
        "run": "ExecutionMagics",
        "save": "CodeMagics",
        "sc": "OSMagics",
        "set_env": "OSMagics",
        "store": "StoreMagics",
        "sx": "OSMagics",
        "system": "OSMagics",
        "tb": "ExecutionMagics",
        "time": "ExecutionMagics",
        "timeit": "ExecutionMagics",
        "unalias": "OSMagics",
        "unload_ext": "ExtensionMagics",
        "who": "NamespaceMagics",
        "who_ls": "NamespaceMagics",
        "whos": "NamespaceMagics",
        "xdel": "NamespaceMagics",
        "xmode": "BasicMagics"
       }
      },
      "text/plain": [
       "Available line magics:\n",
       "%alias  %alias_magic  %autoawait  %autocall  %automagic  %autosave  %bookmark  %cd  %clear  %cls  %colors  %conda  %config  %connect_info  %copy  %ddir  %debug  %dhist  %dirs  %doctest_mode  %echo  %ed  %edit  %env  %gui  %hist  %history  %killbgscripts  %ldir  %less  %load  %load_ext  %loadpy  %logoff  %logon  %logstart  %logstate  %logstop  %ls  %lsmagic  %macro  %magic  %matplotlib  %mkdir  %more  %notebook  %page  %pastebin  %pdb  %pdef  %pdoc  %pfile  %pinfo  %pinfo2  %pip  %popd  %pprint  %precision  %prun  %psearch  %psource  %pushd  %pwd  %pycat  %pylab  %qtconsole  %quickref  %recall  %rehashx  %reload_ext  %ren  %rep  %rerun  %reset  %reset_selective  %rmdir  %run  %save  %sc  %set_env  %store  %sx  %system  %tb  %time  %timeit  %unalias  %unload_ext  %who  %who_ls  %whos  %xdel  %xmode\n",
       "\n",
       "Available cell magics:\n",
       "%%!  %%HTML  %%SVG  %%bash  %%capture  %%cmd  %%debug  %%file  %%html  %%javascript  %%js  %%latex  %%markdown  %%perl  %%prun  %%pypy  %%python  %%python2  %%python3  %%ruby  %%script  %%sh  %%svg  %%sx  %%system  %%time  %%timeit  %%writefile\n",
       "\n",
       "Automagic is ON, % prefix IS NOT needed for line magics."
      ]
     },
     "execution_count": 6,
     "metadata": {},
     "output_type": "execute_result"
    }
   ],
   "source": [
    "%lsmagic"
   ]
  },
  {
   "cell_type": "markdown",
   "metadata": {},
   "source": [
    "En varias situaciones resulta necesario medir el tiempo de ejecución de una porción de código. Para ello se puede usar la magia timeit. Esta mágia está disponible tanto para línea como para celda"
   ]
  },
  {
   "cell_type": "code",
   "execution_count": 7,
   "metadata": {},
   "outputs": [
    {
     "name": "stdout",
     "output_type": "stream",
     "text": [
      "36.4 ns ± 3.16 ns per loop (mean ± std. dev. of 7 runs, 10000000 loops each)\n"
     ]
    }
   ],
   "source": [
    "%timeit 1+1 # timeit repite (adaptativamente) la medición a fin de reducir el error"
   ]
  },
  {
   "cell_type": "markdown",
   "metadata": {},
   "source": [
    "Jupyter permite mezclar varios lenguajes de programacion en una misma notebook. Por ejemplo, podríamos escribir en [bash](https://es.wikipedia.org/wiki/Bash) lo siguiente."
   ]
  },
  {
   "cell_type": "markdown",
   "metadata": {},
   "source": [
    "``` python\n",
    "%%bash\n",
    "for i in {3..1}; do\n",
    "    echo $i\n",
    "done\n",
    "echo \"Hola desde $BASH\"\n",
    "```"
   ]
  },
  {
   "cell_type": "code",
   "execution_count": 9,
   "metadata": {},
   "outputs": [],
   "source": [
    "# Provee una ayuda rápida sobre Jupyter\n",
    "%quickref"
   ]
  },
  {
   "cell_type": "markdown",
   "metadata": {},
   "source": [
    "# Entornos de Desarrollo Integrados (IDEs, por sus siglas en inglés)¶\n",
    "Un IDE es una herramienta de software que proporciona facilidades a los programadores para el desarrollo de software. Si bien existe una amplia gama de herramientas que podrían caer dentro de esta caracterización, normalmente un IDE está compuesto de un editor de código fuente, herramientas de automatización de compilación y depuración, características de refactorización de código y testing, características de navegación y exploración de código fuente, entre otras. Actualmente, el límite entre un IDE y ciertas herramientas externas que sirven de soporte al mismo no está bien definido. En los últimos años, los entornos integrados han incorporado la posibilidad de agregar/desarrollar módulos o herramientas (denominados plugins) que se acoplan a los mismos para mejorar o expandir las funcionalidades básicas provistas . Por ejemplo, dentro del contexto de desarrollo orientado a objetos, muchos IDEs proveen un navegador de clases, un navegador de objetos, un diagrama de jerarquía de clases, etc.\n",
    "\n",
    "Existen muchos IDEs para Python, ya sea porque se desarrollaron para trabajar de manera exclusiva con dicho lenguaje o porque fueron desarrollados para trabajar con otros lenguajes y luego se les incorporó Python. A continuación se menciona algunos de los más conocidos dentro de la \"comunidad\":\n",
    "\n",
    "* [PyCharm](https://www.jetbrains.com/pycharm/)\n",
    "\n",
    "PyCharm es un entorno de desarrollo integrado (IDE) utilizado en para el lenguaje Python. Está desarrollado por la empresa checa JetBrains. Proporciona análisis de código, un depurador gráfico, un probador de unidades integrado, integración con sistemas de control de versiones y admite el desarrollo web con Django, así como la ciencia de datos con Anaconda. \n",
    "[Wikipedia](https://en.wikipedia.org/wiki/PyCharm)\n",
    "\n",
    "* [VS Code](https://code.visualstudio.com/)\n",
    "\n",
    "Visual Studio Code es un editor de código fuente desarrollado por Microsoft para Windows , Linux y macOS. Incluye soporte para la depuración, control integrado de Git, resaltado de sintaxis, finalización inteligente de código, fragmentos y refactorización de código. También es personalizable, por lo que los usuarios pueden cambiar el tema del editor, los atajos de teclado y las preferencias. Es gratuito y de código abierto aunque la descarga oficial está bajo software privativo e incluye características personalizadas por Microsoft. [Wikipedia](https://es.wikipedia.org/wiki/Visual_Studio_Code)\n",
    "* [Sublime](https://www.sublimetext.com/)\n",
    "\n",
    "Sublime Text es un editor de texto y editor de código fuente. Está escrito en C++ y Python para los plugins. Desarrollado originalmente como una extensión de Vim, con el tiempo fue creando una identidad propia. Aún conserva un modo de edición tipo vi llamado Vintage mode. [Wikipedia](https://es.wikipedia.org/wiki/Sublime_Text)\n",
    "\n",
    "* [JupyterLab](https://jupyterlab.readthedocs.io/en/stable/)\n",
    "\n",
    "El Proyecto Jupyter es una organización sin ánimo de lucro creada para \"desarrollar software de código abierto, estándares abiertos y servicios para computación interactiva en docenas de lenguajes de programación\". Creado a partir de IPython en 2014 por Fernando Pérez, el proyecto Jupyter soporta entornos de ejecución en varias docenas de lenguajes de programación. El nombre del proyecto Jupyter es una referencia a los tres lenguajes de programación principales soportados por Jupyter, que son Julia, Python y R, y también un homenaje a los cuadernos de Galileo que registran el decubrimiento de los satélites de Júpiter. El proyecto Jupyter ha desarrollado y respaldado los productos de computación interactiva Jupyter Notebook, JupyterHub y JupyterLab, la versión de próxima generación de Jupyter Notebook. [Wikipedia](https://es.wikipedia.org/wiki/Proyecto_Jupyter)\n",
    "\n",
    "\n",
    "* [Spyder](https://www.spyder-ide.org/)\n",
    "\n",
    "Spyder es un entorno de desarrollo integrado (IDE) multiplataforma de código abierto para programación científica en el lenguaje Python. Spyder se integra con varios paquetes destacados en la pila científica de Python, incluidos NumPy, SciPy, Matplotlib, pandas, IPython, SymPy y Cython, así como otro software de código abierto. Se publica bajo la licencia del MIT. \n",
    "[Wikipedia](https://en.wikipedia.org/wiki/Spyder_%28software%29)"
   ]
  },
  {
   "cell_type": "markdown",
   "metadata": {},
   "source": [
    "# Instalación de Herramientas\n",
    "\n",
    "Instalación de Anaconda para windows\n",
    "\n",
    "https://docs.anaconda.com/anaconda/install/windows/\n",
    "\n",
    "https://www.anaconda.com/products/individual\n",
    "\n",
    "![<caption>](img/instalacion.png)\n"
   ]
  },
  {
   "cell_type": "markdown",
   "metadata": {},
   "source": [
    "\n",
    "## Keyboard shortcuts\n",
    "\n",
    "### Command Mode (press `Esc` to enable)\n",
    "\n",
    "- ↩  : enter edit mode\n",
    "\n",
    "- ⇧↩  : run cell, select below\n",
    "\n",
    "- ⌃↩  : run cell\n",
    "\n",
    "- ⌥↩  : run cell, insert below\n",
    "\n",
    "- Y  : to code\n",
    "\n",
    "- M  : to markdown\n",
    "\n",
    "- R  : to raw\n",
    "\n",
    "- 1  : to heading 1\n",
    "\n",
    "- 2  : to heading 2\n",
    "\n",
    "- 3  : to heading 3\n",
    "\n",
    "- 4  : to heading 4\n",
    "\n",
    "- 5  : to heading 5\n",
    "\n",
    "- 6  : to heading 6\n",
    "\n",
    "- ↑  : select cell above\n",
    "\n",
    "- K  : select cell above\n",
    "\n",
    "- ↓  : select cell below\n",
    "\n",
    "- J  : select cell below\n",
    "\n",
    "- A  : insert cell above\n",
    "\n",
    "- B  : insert cell below\n",
    "\n",
    "- X  : cut selected cell\n",
    "\n",
    "- C  : copy selected cell\n",
    "\n",
    "- ⇧V  : paste cell above\n",
    "\n",
    "- V  : paste cell below\n",
    "\n",
    "- Z  : undo last cell deletion\n",
    "\n",
    "- D,D  : delete selected cell\n",
    "\n",
    "- ⇧M  : merge cell below\n",
    "\n",
    "- S  : Save and Checkpoint\n",
    "\n",
    "- ⌘S  : Save and Checkpoint\n",
    "\n",
    "- L  : toggle line numbers\n",
    "\n",
    "- O  : toggle output\n",
    "\n",
    "- ⇧O  : toggle output scrolling\n",
    "\n",
    "- Esc  : close pager\n",
    "\n",
    "- Q  : close pager\n",
    "\n",
    "- H  : show keyboard shortcut help dialog\n",
    "\n",
    "- I,I  : interrupt kernel\n",
    "\n",
    "- 0,0  : restart kernel\n",
    "\n",
    "- ␣  : scroll down\n",
    "\n",
    "- ⇧␣  : scroll up\n",
    "\n",
    "- ⇧  : ignore\n",
    "\n",
    "### Edit Mode (press `Enter` to enable)\n",
    "\n",
    "- ⇥  : code completion or indent\n",
    "\n",
    "- Esc  : command mode\n",
    "\n",
    "\n"
   ]
  },
  {
   "cell_type": "markdown",
   "metadata": {
    "colab_type": "text",
    "id": "aDaMLDnAPBMf"
   },
   "source": [
    "## Recomendación:\n",
    "Además de realizar los ejercicios, les sugerimos fuertemente que vayan probando y modificando el código presente en este notebook. La mejor manera de aprender es meter mano, 'romper' el código e intentar entender porque dejó de funcionar. ¡No hay nada irreversible, no tengan miedo!\n",
    "\n",
    "## 1. Variables, Tipos de Datos y Operaciones\n",
    "\n",
    "### 1.1 Variables\n",
    "Son los datos u objetos que definimos para trabajar en nuestro programa. Cada variable debe llevar un nombre a través del cual nos referimos a ella, los nombres deben ser únicos y, en lo posible, ser lo mas explícitos posibles para evitar confusiones.\n",
    "\n",
    "Usando el `=` se asigna un valor a una variable. No es un igual matemático/lógico, pueden pensarlo como una flecha (<--) que asigna lo que hay del lado derecho a lo que hay del lado izquierdo."
   ]
  },
  {
   "cell_type": "code",
   "execution_count": 10,
   "metadata": {
    "colab": {},
    "colab_type": "code",
    "id": "Ejj7jqb9PBMk"
   },
   "outputs": [
    {
     "name": "stdout",
     "output_type": "stream",
     "text": [
      "8\n"
     ]
    }
   ],
   "source": [
    "# Asignamos el valor 3 a una variable que creamos, de nombre x\n",
    "x = 8\n",
    "\n",
    "# Evaluamos e imprimimos en pantalla el resultado\n",
    "print(x)"
   ]
  },
  {
   "cell_type": "code",
   "execution_count": 11,
   "metadata": {},
   "outputs": [
    {
     "data": {
      "text/plain": [
       "8"
      ]
     },
     "execution_count": 11,
     "metadata": {},
     "output_type": "execute_result"
    }
   ],
   "source": [
    "x"
   ]
  },
  {
   "cell_type": "markdown",
   "metadata": {},
   "source": [
    "Recuerda que python es sensible a mayúscula por lo tanto la ejecución de la siguiente línea  debe dar error \"NameError: name 'X' is not defined\""
   ]
  },
  {
   "cell_type": "code",
   "execution_count": 13,
   "metadata": {},
   "outputs": [
    {
     "ename": "NameError",
     "evalue": "name 'X' is not defined",
     "output_type": "error",
     "traceback": [
      "\u001b[1;31m---------------------------------------------------------------------------\u001b[0m",
      "\u001b[1;31mNameError\u001b[0m                                 Traceback (most recent call last)",
      "\u001b[1;32m<ipython-input-13-b5fec669aca1>\u001b[0m in \u001b[0;36m<module>\u001b[1;34m\u001b[0m\n\u001b[1;32m----> 1\u001b[1;33m \u001b[0mX\u001b[0m\u001b[1;33m\u001b[0m\u001b[1;33m\u001b[0m\u001b[0m\n\u001b[0m",
      "\u001b[1;31mNameError\u001b[0m: name 'X' is not defined"
     ]
    }
   ],
   "source": [
    "X"
   ]
  },
  {
   "cell_type": "code",
   "execution_count": 14,
   "metadata": {
    "colab": {},
    "colab_type": "code",
    "id": "G0_JnDgrPBMu"
   },
   "outputs": [
    {
     "name": "stdout",
     "output_type": "stream",
     "text": [
      "3.14159\n"
     ]
    }
   ],
   "source": [
    "# Asignamos el valor 15.7 a una nueva variable, de nombre y\n",
    "y = 3.14159\n",
    "\n",
    "print(y)"
   ]
  },
  {
   "cell_type": "code",
   "execution_count": 15,
   "metadata": {
    "colab": {},
    "colab_type": "code",
    "id": "1sVjKnS8PBM0"
   },
   "outputs": [
    {
     "name": "stdout",
     "output_type": "stream",
     "text": [
      "11.14159\n"
     ]
    }
   ],
   "source": [
    "# Podemos definir una nueva variable como la suma de dos anteriores\n",
    "z = x + y\n",
    "\n",
    "print(z)"
   ]
  },
  {
   "cell_type": "code",
   "execution_count": 16,
   "metadata": {
    "colab": {},
    "colab_type": "code",
    "id": "n-OyQw00PBM6",
    "outputId": "79ee50f4-25aa-4590-9caf-e5ee1cd42128"
   },
   "outputs": [
    {
     "name": "stdout",
     "output_type": "stream",
     "text": [
      "HOLA MUNDO!\n"
     ]
    }
   ],
   "source": [
    "# Se peude tambier asignar un valor de texto otra variable\n",
    "un_texto = 'HOLA MUNDO!'\n",
    "\n",
    "print(un_texto)"
   ]
  },
  {
   "cell_type": "code",
   "execution_count": 17,
   "metadata": {
    "colab": {},
    "colab_type": "code",
    "id": "Dj_DJGDOPBNB",
    "outputId": "5cf4bb95-ab77-458f-cc66-b52a655187a4"
   },
   "outputs": [
    {
     "ename": "NameError",
     "evalue": "name 'un_texto' is not defined",
     "output_type": "error",
     "traceback": [
      "\u001b[1;31m---------------------------------------------------------------------------\u001b[0m",
      "\u001b[1;31mNameError\u001b[0m                                 Traceback (most recent call last)",
      "\u001b[1;32m<ipython-input-17-932d1e268a88>\u001b[0m in \u001b[0;36m<module>\u001b[1;34m\u001b[0m\n\u001b[0;32m      2\u001b[0m \u001b[1;33m\u001b[0m\u001b[0m\n\u001b[0;32m      3\u001b[0m \u001b[1;32mdel\u001b[0m\u001b[1;33m(\u001b[0m\u001b[0mun_texto\u001b[0m\u001b[1;33m)\u001b[0m\u001b[1;33m\u001b[0m\u001b[1;33m\u001b[0m\u001b[0m\n\u001b[1;32m----> 4\u001b[1;33m \u001b[0mprint\u001b[0m\u001b[1;33m(\u001b[0m\u001b[0mun_texto\u001b[0m\u001b[1;33m)\u001b[0m\u001b[1;33m\u001b[0m\u001b[1;33m\u001b[0m\u001b[0m\n\u001b[0m",
      "\u001b[1;31mNameError\u001b[0m: name 'un_texto' is not defined"
     ]
    }
   ],
   "source": [
    "# Si queremos, podemos borrar alguna variable que ya no la utilizaremos mas\n",
    "\n",
    "del(un_texto)\n",
    "print(un_texto)"
   ]
  },
  {
   "cell_type": "markdown",
   "metadata": {
    "colab_type": "text",
    "id": "x3UOib9UPBNG"
   },
   "source": [
    "### Nota importante:\n",
    "Al correr esta íltima linea, deben ver un mensaje de error. Los mensajes de error son MUY IMPORTANTES. Nos brindan información muy valiosa cuando nuestro código no funciona. En este caso, nos está avisando que no puede imprimir la variable `un_texto`, ya que la eliminamos y no está definida."
   ]
  },
  {
   "cell_type": "markdown",
   "metadata": {
    "colab_type": "text",
    "id": "520n2L18PBNH"
   },
   "source": [
    "### 1.2 Tipos de Datos\n",
    "Cuando definimos una variable, dependiendo el contenido que le asignamos, la misma será de un determinado tipo. Los tipos de datos más comunes de variables son: `int`,`float`,`string` y `boolean`. Veamos algunos ejemplos de cada tipo."
   ]
  },
  {
   "cell_type": "code",
   "execution_count": 18,
   "metadata": {
    "colab": {},
    "colab_type": "code",
    "id": "5MQYEBApPBNK",
    "outputId": "51c47596-49eb-4e6a-f54a-98cdac24fe04"
   },
   "outputs": [
    {
     "name": "stdout",
     "output_type": "stream",
     "text": [
      "<class 'int'>\n"
     ]
    }
   ],
   "source": [
    "a = 35\n",
    "print(type(a))"
   ]
  },
  {
   "cell_type": "code",
   "execution_count": 19,
   "metadata": {
    "colab": {},
    "colab_type": "code",
    "id": "E0g87gVfPBNP",
    "outputId": "6a52d178-222f-49db-c5d6-b4498bbfe495"
   },
   "outputs": [
    {
     "name": "stdout",
     "output_type": "stream",
     "text": [
      "<class 'float'>\n"
     ]
    }
   ],
   "source": [
    "b = 19.7\n",
    "print(type(b))"
   ]
  },
  {
   "cell_type": "code",
   "execution_count": 20,
   "metadata": {
    "colab": {},
    "colab_type": "code",
    "id": "6SFdLEFIPBNW",
    "outputId": "15bb6e93-217a-4b77-afe9-e26f0db04b20"
   },
   "outputs": [
    {
     "name": "stdout",
     "output_type": "stream",
     "text": [
      "<class 'bool'>\n"
     ]
    }
   ],
   "source": [
    "c = True\n",
    "print(type(c))"
   ]
  },
  {
   "cell_type": "code",
   "execution_count": 21,
   "metadata": {
    "colab": {},
    "colab_type": "code",
    "id": "i_cCG-iYPBNb",
    "outputId": "4c3e98d4-d323-41c9-9e77-801841200434"
   },
   "outputs": [
    {
     "name": "stdout",
     "output_type": "stream",
     "text": [
      "<class 'str'>\n"
     ]
    }
   ],
   "source": [
    "t1 = 'hola'\n",
    "print(type(\"hola\"))"
   ]
  },
  {
   "cell_type": "code",
   "execution_count": 22,
   "metadata": {
    "colab": {},
    "colab_type": "code",
    "id": "i_cCG-iYPBNb",
    "outputId": "4c3e98d4-d323-41c9-9e77-801841200434"
   },
   "outputs": [
    {
     "name": "stdout",
     "output_type": "stream",
     "text": [
      "<class 'str'>\n"
     ]
    }
   ],
   "source": [
    "t2 = '523'\n",
    "print(type('t2'))"
   ]
  },
  {
   "cell_type": "code",
   "execution_count": 23,
   "metadata": {},
   "outputs": [
    {
     "name": "stdout",
     "output_type": "stream",
     "text": [
      "<class 'int'>\n"
     ]
    }
   ],
   "source": [
    "t3 = 523\n",
    "print(type(t3))"
   ]
  },
  {
   "cell_type": "markdown",
   "metadata": {
    "colab_type": "text",
    "id": "fAiC3ranPBNh"
   },
   "source": [
    "**Nota**: a pesar de ser un número, la variable `t2` es de tipo `string`. Esto se debe a que lo pusimos entre comillas."
   ]
  },
  {
   "cell_type": "code",
   "execution_count": 24,
   "metadata": {
    "colab": {},
    "colab_type": "code",
    "id": "erSdYVqhPBNj",
    "outputId": "e82b746f-0c99-4343-8a3d-8b054a4d9f7a"
   },
   "outputs": [
    {
     "name": "stdout",
     "output_type": "stream",
     "text": [
      "<class 'NoneType'>\n"
     ]
    }
   ],
   "source": [
    "# Este es un tipo especial de variable, que se utiliza para simbolizar algo 'vacio'\n",
    "d = None\n",
    "print(type(d))"
   ]
  },
  {
   "cell_type": "markdown",
   "metadata": {
    "colab_type": "text",
    "id": "WhJ_nLaCPBNo"
   },
   "source": [
    "Si por algun motivo (ya veremos que esto es algo que suele suceder), uno desea explicitar el tipo de variable y no dejar que python lo asuma por si solo, esto también es posible."
   ]
  },
  {
   "cell_type": "code",
   "execution_count": 25,
   "metadata": {
    "colab": {},
    "colab_type": "code",
    "id": "AvUDAvtpPBNp",
    "outputId": "42624ea9-4420-4f64-fd9e-7ab26c1845d5"
   },
   "outputs": [
    {
     "name": "stdout",
     "output_type": "stream",
     "text": [
      "<class 'int'>\n"
     ]
    }
   ],
   "source": [
    "numero = 45\n",
    "print(type(numero))"
   ]
  },
  {
   "cell_type": "code",
   "execution_count": 26,
   "metadata": {
    "colab": {},
    "colab_type": "code",
    "id": "AvUDAvtpPBNp",
    "outputId": "42624ea9-4420-4f64-fd9e-7ab26c1845d5"
   },
   "outputs": [
    {
     "name": "stdout",
     "output_type": "stream",
     "text": [
      "<class 'str'>\n"
     ]
    }
   ],
   "source": [
    "# Quiero que sea un 'string' y no un int\n",
    "numero = str(45)\n",
    "print(type(numero))"
   ]
  },
  {
   "cell_type": "code",
   "execution_count": 27,
   "metadata": {
    "colab": {},
    "colab_type": "code",
    "id": "r6B6f_oOPBNv",
    "outputId": "83866742-e621-4fc8-e016-0ead17e13c07"
   },
   "outputs": [
    {
     "name": "stdout",
     "output_type": "stream",
     "text": [
      "<class 'float'>\n"
     ]
    }
   ],
   "source": [
    "otro_numero = 45.0\n",
    "print(type(otro_numero))"
   ]
  },
  {
   "cell_type": "code",
   "execution_count": 28,
   "metadata": {
    "colab": {},
    "colab_type": "code",
    "id": "r6B6f_oOPBNv",
    "outputId": "83866742-e621-4fc8-e016-0ead17e13c07"
   },
   "outputs": [
    {
     "name": "stdout",
     "output_type": "stream",
     "text": [
      "<class 'int'>\n"
     ]
    }
   ],
   "source": [
    "# Quiero que sea un 'int' y no un 'float'\n",
    "otro_numero = int(45.0)\n",
    "print(type(otro_numero))"
   ]
  },
  {
   "cell_type": "markdown",
   "metadata": {
    "colab_type": "text",
    "id": "4EMswXwbPjLD"
   },
   "source": [
    "**Ejercicio**: Cambiar el tipo de la variable 'numero' a float."
   ]
  },
  {
   "cell_type": "code",
   "execution_count": 29,
   "metadata": {
    "colab": {
     "base_uri": "https://localhost:8080/",
     "height": 34
    },
    "colab_type": "code",
    "executionInfo": {
     "elapsed": 2247,
     "status": "ok",
     "timestamp": 1568039700066,
     "user": {
      "displayName": "Gonzalo Uribarri",
      "photoUrl": "https://lh3.googleusercontent.com/a-/AAuE7mDQw9cg7217pGPu2svh3_rPZlIF6LtgpmR-NfO0Dw=s64",
      "userId": "17825563747069699654"
     },
     "user_tz": 180
    },
    "id": "g6o0UHSbPuZu",
    "outputId": "817050b9-41be-4d84-debc-497d357ff933"
   },
   "outputs": [
    {
     "data": {
      "text/plain": [
       "str"
      ]
     },
     "execution_count": 29,
     "metadata": {},
     "output_type": "execute_result"
    }
   ],
   "source": [
    "numero = '5'\n",
    "type(numero)"
   ]
  },
  {
   "cell_type": "code",
   "execution_count": 30,
   "metadata": {
    "colab": {
     "base_uri": "https://localhost:8080/",
     "height": 34
    },
    "colab_type": "code",
    "executionInfo": {
     "elapsed": 2247,
     "status": "ok",
     "timestamp": 1568039700066,
     "user": {
      "displayName": "Gonzalo Uribarri",
      "photoUrl": "https://lh3.googleusercontent.com/a-/AAuE7mDQw9cg7217pGPu2svh3_rPZlIF6LtgpmR-NfO0Dw=s64",
      "userId": "17825563747069699654"
     },
     "user_tz": 180
    },
    "id": "g6o0UHSbPuZu",
    "outputId": "817050b9-41be-4d84-debc-497d357ff933"
   },
   "outputs": [],
   "source": [
    "#numero = COMPLETAR\n",
    "numero = float(numero)"
   ]
  },
  {
   "cell_type": "code",
   "execution_count": 31,
   "metadata": {},
   "outputs": [
    {
     "data": {
      "text/plain": [
       "float"
      ]
     },
     "execution_count": 31,
     "metadata": {},
     "output_type": "execute_result"
    }
   ],
   "source": [
    "type(numero)"
   ]
  },
  {
   "cell_type": "code",
   "execution_count": 32,
   "metadata": {
    "colab": {
     "base_uri": "https://localhost:8080/",
     "height": 34
    },
    "colab_type": "code",
    "executionInfo": {
     "elapsed": 2247,
     "status": "ok",
     "timestamp": 1568039700066,
     "user": {
      "displayName": "Gonzalo Uribarri",
      "photoUrl": "https://lh3.googleusercontent.com/a-/AAuE7mDQw9cg7217pGPu2svh3_rPZlIF6LtgpmR-NfO0Dw=s64",
      "userId": "17825563747069699654"
     },
     "user_tz": 180
    },
    "id": "g6o0UHSbPuZu",
    "outputId": "817050b9-41be-4d84-debc-497d357ff933"
   },
   "outputs": [
    {
     "name": "stdout",
     "output_type": "stream",
     "text": [
      "Correcto!\n"
     ]
    }
   ],
   "source": [
    "if type(numero) is float:\n",
    "    print('Correcto!')\n",
    "else:\n",
    "    print('Convierta la variable a tipo float')"
   ]
  },
  {
   "cell_type": "markdown",
   "metadata": {
    "colab_type": "text",
    "id": "Zip2yREWPBN0"
   },
   "source": [
    "### 1.3 Operaciones\n",
    "Con las variables que definimos, podemos realizar distintas operaciones. Dependiendo el tipo de variable, hay diferentes operaciones diponibles.\n",
    "\n",
    "#### 1.3.1 Operaciones con números"
   ]
  },
  {
   "cell_type": "code",
   "execution_count": 33,
   "metadata": {
    "colab": {},
    "colab_type": "code",
    "id": "QbeN4rjGPBN2",
    "outputId": "11936930-62d9-478f-8412-a76bd1c42a44"
   },
   "outputs": [
    {
     "name": "stdout",
     "output_type": "stream",
     "text": [
      "24\n",
      "16\n"
     ]
    }
   ],
   "source": [
    "# Se pueden realizar las operaciones basicas entre numeros\n",
    "a = 20\n",
    "b = 4\n",
    "print(a+b)\n",
    "print(a-b)"
   ]
  },
  {
   "cell_type": "code",
   "execution_count": 34,
   "metadata": {
    "colab": {},
    "colab_type": "code",
    "id": "x7NDD_tJPBN6",
    "outputId": "0ed7e62c-8b1c-4076-802b-db325aea7560"
   },
   "outputs": [
    {
     "name": "stdout",
     "output_type": "stream",
     "text": [
      "24.5\n",
      "15.5\n"
     ]
    }
   ],
   "source": [
    "# Se pueden realizar las operaciones incluso entre distintos tipos de variables\n",
    "a = 20\n",
    "b = 4.5\n",
    "\n",
    "c = a+b\n",
    "d = a-b\n",
    "\n",
    "print(c)\n",
    "print(d)"
   ]
  },
  {
   "cell_type": "code",
   "execution_count": 35,
   "metadata": {
    "colab": {},
    "colab_type": "code",
    "id": "yZLqW2ZYPBN_",
    "outputId": "08ecb592-1c6a-4d66-e701-62ed6414c036"
   },
   "outputs": [
    {
     "name": "stdout",
     "output_type": "stream",
     "text": [
      "<class 'float'>\n",
      "<class 'float'>\n"
     ]
    }
   ],
   "source": [
    "# Notemos que estos resultados son de tipo float\n",
    "print(type(c))\n",
    "print(type(d))"
   ]
  },
  {
   "cell_type": "code",
   "execution_count": 36,
   "metadata": {
    "colab": {},
    "colab_type": "code",
    "id": "z9kq2lEVPBOF",
    "outputId": "cd3c46b6-789f-496e-993b-b9377291cef1"
   },
   "outputs": [
    {
     "name": "stdout",
     "output_type": "stream",
     "text": [
      "3.3333333333333335\n"
     ]
    }
   ],
   "source": [
    "# Podemos dividir dos numeros\n",
    "x = 10\n",
    "y = 3\n",
    "z = x/y\n",
    "print(z)"
   ]
  },
  {
   "cell_type": "code",
   "execution_count": 37,
   "metadata": {
    "colab": {},
    "colab_type": "code",
    "id": "IgJQDZ7MPBOI",
    "outputId": "c2928a3d-0ca3-4dd1-d91f-1cccba7c94fe"
   },
   "outputs": [
    {
     "name": "stdout",
     "output_type": "stream",
     "text": [
      "<class 'float'>\n"
     ]
    }
   ],
   "source": [
    "# Notemos que, a pesar de venir de una operación entre dos enteros,\n",
    "# z es de tipo float\n",
    "print(type(z))"
   ]
  },
  {
   "cell_type": "code",
   "execution_count": 38,
   "metadata": {
    "colab": {},
    "colab_type": "code",
    "id": "tZWn26P9PBON",
    "outputId": "21bc6ec8-8f64-42ac-cef3-8f14468189a8",
    "scrolled": true
   },
   "outputs": [
    {
     "name": "stdout",
     "output_type": "stream",
     "text": [
      "1\n",
      "<class 'int'>\n"
     ]
    }
   ],
   "source": [
    "# Esta operación es muy usada en computación, nos devuelve el resto de la división\n",
    "x = 10\n",
    "y = 3\n",
    "print(x%y)\n",
    "print(type(x%y))"
   ]
  },
  {
   "cell_type": "markdown",
   "metadata": {
    "colab_type": "text",
    "id": "-5X5DceISQ-O"
   },
   "source": [
    "**Ejercicio**: Calcular el porcentaje que representa el valor 23 sobre un total de 67 y guardarlo en una variable llamada 'porcentaje'."
   ]
  },
  {
   "cell_type": "code",
   "execution_count": 39,
   "metadata": {
    "colab_type": "text",
    "id": "qUnNrBQMTIMb"
   },
   "outputs": [
    {
     "name": "stdout",
     "output_type": "stream",
     "text": [
      "34.32835820895522\n"
     ]
    }
   ],
   "source": [
    "porcentaje = 23/67 *100\n",
    "print(porcentaje)"
   ]
  }
 ],
 "metadata": {
  "kernelspec": {
   "display_name": "Python 3",
   "language": "python",
   "name": "python3"
  },
  "language_info": {
   "codemirror_mode": {
    "name": "ipython",
    "version": 3
   },
   "file_extension": ".py",
   "mimetype": "text/x-python",
   "name": "python",
   "nbconvert_exporter": "python",
   "pygments_lexer": "ipython3",
   "version": "3.8.5"
  },
  "varInspector": {
   "cols": {
    "lenName": 16,
    "lenType": 16,
    "lenVar": 40
   },
   "kernels_config": {
    "python": {
     "delete_cmd_postfix": "",
     "delete_cmd_prefix": "del ",
     "library": "var_list.py",
     "varRefreshCmd": "print(var_dic_list())"
    },
    "r": {
     "delete_cmd_postfix": ") ",
     "delete_cmd_prefix": "rm(",
     "library": "var_list.r",
     "varRefreshCmd": "cat(var_dic_list()) "
    }
   },
   "types_to_exclude": [
    "module",
    "function",
    "builtin_function_or_method",
    "instance",
    "_Feature"
   ],
   "window_display": false
  }
 },
 "nbformat": 4,
 "nbformat_minor": 4
}
