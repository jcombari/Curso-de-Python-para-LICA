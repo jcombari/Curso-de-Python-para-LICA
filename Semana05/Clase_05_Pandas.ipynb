{
 "cells": [
  {
   "cell_type": "markdown",
   "metadata": {},
   "source": [
    "# Pandas y Valores Faltandes\n",
    "\n",
    "\n"
   ]
  },
  {
   "cell_type": "markdown",
   "metadata": {},
   "source": [
    "## Wine Reviews dataset\n",
    "\n",
    "Vamos a trabajar con un dataset de reviews de vinos:\n"
   ]
  },
  {
   "cell_type": "code",
   "execution_count": 1,
   "metadata": {},
   "outputs": [],
   "source": [
    "import numpy as np\n",
    "import pandas as pd"
   ]
  },
  {
   "cell_type": "code",
   "execution_count": 2,
   "metadata": {},
   "outputs": [],
   "source": [
    "wine_reviews = pd.read_csv('Clase_05_wine_reviews.txt', sep='\\t', encoding=\"ansi\")"
   ]
  },
  {
   "cell_type": "code",
   "execution_count": 3,
   "metadata": {},
   "outputs": [
    {
     "data": {
      "text/plain": [
       "Unnamed: 0                 int64\n",
       "country                   object\n",
       "description               object\n",
       "designation               object\n",
       "points                     int64\n",
       "price                    float64\n",
       "province                  object\n",
       "region_1                  object\n",
       "region_2                  object\n",
       "taster_name               object\n",
       "taster_twitter_handle     object\n",
       "title                     object\n",
       "variety                   object\n",
       "winery                    object\n",
       "dtype: object"
      ]
     },
     "execution_count": 3,
     "metadata": {},
     "output_type": "execute_result"
    }
   ],
   "source": [
    "wine_reviews.dtypes"
   ]
  },
  {
   "cell_type": "code",
   "execution_count": 4,
   "metadata": {},
   "outputs": [
    {
     "data": {
      "text/plain": [
       "Index(['Unnamed: 0', 'country', 'description', 'designation', 'points',\n",
       "       'price', 'province', 'region_1', 'region_2', 'taster_name',\n",
       "       'taster_twitter_handle', 'title', 'variety', 'winery'],\n",
       "      dtype='object')"
      ]
     },
     "execution_count": 4,
     "metadata": {},
     "output_type": "execute_result"
    }
   ],
   "source": [
    "wine_reviews.columns"
   ]
  },
  {
   "cell_type": "code",
   "execution_count": 5,
   "metadata": {},
   "outputs": [
    {
     "data": {
      "text/html": [
       "<div>\n",
       "<style scoped>\n",
       "    .dataframe tbody tr th:only-of-type {\n",
       "        vertical-align: middle;\n",
       "    }\n",
       "\n",
       "    .dataframe tbody tr th {\n",
       "        vertical-align: top;\n",
       "    }\n",
       "\n",
       "    .dataframe thead th {\n",
       "        text-align: right;\n",
       "    }\n",
       "</style>\n",
       "<table border=\"1\" class=\"dataframe\">\n",
       "  <thead>\n",
       "    <tr style=\"text-align: right;\">\n",
       "      <th></th>\n",
       "      <th>Unnamed: 0</th>\n",
       "      <th>points</th>\n",
       "      <th>price</th>\n",
       "    </tr>\n",
       "  </thead>\n",
       "  <tbody>\n",
       "    <tr>\n",
       "      <th>count</th>\n",
       "      <td>51000.000000</td>\n",
       "      <td>51000.000000</td>\n",
       "      <td>47417.000000</td>\n",
       "    </tr>\n",
       "    <tr>\n",
       "      <th>mean</th>\n",
       "      <td>25499.500000</td>\n",
       "      <td>88.447588</td>\n",
       "      <td>35.365966</td>\n",
       "    </tr>\n",
       "    <tr>\n",
       "      <th>std</th>\n",
       "      <td>14722.576201</td>\n",
       "      <td>3.051946</td>\n",
       "      <td>39.706123</td>\n",
       "    </tr>\n",
       "    <tr>\n",
       "      <th>min</th>\n",
       "      <td>0.000000</td>\n",
       "      <td>80.000000</td>\n",
       "      <td>4.000000</td>\n",
       "    </tr>\n",
       "    <tr>\n",
       "      <th>25%</th>\n",
       "      <td>12749.750000</td>\n",
       "      <td>86.000000</td>\n",
       "      <td>17.000000</td>\n",
       "    </tr>\n",
       "    <tr>\n",
       "      <th>50%</th>\n",
       "      <td>25499.500000</td>\n",
       "      <td>88.000000</td>\n",
       "      <td>25.000000</td>\n",
       "    </tr>\n",
       "    <tr>\n",
       "      <th>75%</th>\n",
       "      <td>38249.250000</td>\n",
       "      <td>91.000000</td>\n",
       "      <td>42.000000</td>\n",
       "    </tr>\n",
       "    <tr>\n",
       "      <th>max</th>\n",
       "      <td>50999.000000</td>\n",
       "      <td>100.000000</td>\n",
       "      <td>2500.000000</td>\n",
       "    </tr>\n",
       "  </tbody>\n",
       "</table>\n",
       "</div>"
      ],
      "text/plain": [
       "         Unnamed: 0        points         price\n",
       "count  51000.000000  51000.000000  47417.000000\n",
       "mean   25499.500000     88.447588     35.365966\n",
       "std    14722.576201      3.051946     39.706123\n",
       "min        0.000000     80.000000      4.000000\n",
       "25%    12749.750000     86.000000     17.000000\n",
       "50%    25499.500000     88.000000     25.000000\n",
       "75%    38249.250000     91.000000     42.000000\n",
       "max    50999.000000    100.000000   2500.000000"
      ]
     },
     "execution_count": 5,
     "metadata": {},
     "output_type": "execute_result"
    }
   ],
   "source": [
    "wine_reviews.describe()"
   ]
  },
  {
   "cell_type": "code",
   "execution_count": 6,
   "metadata": {},
   "outputs": [
    {
     "data": {
      "text/plain": [
       "Unnamed: 0                   0\n",
       "country                     28\n",
       "description                  0\n",
       "designation              14661\n",
       "points                       0\n",
       "price                     3583\n",
       "province                    28\n",
       "region_1                  8353\n",
       "region_2                 31396\n",
       "taster_name              10502\n",
       "taster_twitter_handle    12388\n",
       "title                        0\n",
       "variety                      0\n",
       "winery                       0\n",
       "dtype: int64"
      ]
     },
     "execution_count": 6,
     "metadata": {},
     "output_type": "execute_result"
    }
   ],
   "source": [
    "wine_reviews.isna().sum()"
   ]
  },
  {
   "cell_type": "code",
   "execution_count": 7,
   "metadata": {},
   "outputs": [
    {
     "name": "stdout",
     "output_type": "stream",
     "text": [
      "<class 'pandas.core.frame.DataFrame'>\n",
      "RangeIndex: 51000 entries, 0 to 50999\n",
      "Data columns (total 14 columns):\n",
      " #   Column                 Non-Null Count  Dtype  \n",
      "---  ------                 --------------  -----  \n",
      " 0   Unnamed: 0             51000 non-null  int64  \n",
      " 1   country                50972 non-null  object \n",
      " 2   description            51000 non-null  object \n",
      " 3   designation            36339 non-null  object \n",
      " 4   points                 51000 non-null  int64  \n",
      " 5   price                  47417 non-null  float64\n",
      " 6   province               50972 non-null  object \n",
      " 7   region_1               42647 non-null  object \n",
      " 8   region_2               19604 non-null  object \n",
      " 9   taster_name            40498 non-null  object \n",
      " 10  taster_twitter_handle  38612 non-null  object \n",
      " 11  title                  51000 non-null  object \n",
      " 12  variety                51000 non-null  object \n",
      " 13  winery                 51000 non-null  object \n",
      "dtypes: float64(1), int64(2), object(11)\n",
      "memory usage: 5.4+ MB\n"
     ]
    }
   ],
   "source": [
    "wine_reviews.info()"
   ]
  },
  {
   "cell_type": "code",
   "execution_count": 8,
   "metadata": {},
   "outputs": [
    {
     "data": {
      "text/html": [
       "<div>\n",
       "<style scoped>\n",
       "    .dataframe tbody tr th:only-of-type {\n",
       "        vertical-align: middle;\n",
       "    }\n",
       "\n",
       "    .dataframe tbody tr th {\n",
       "        vertical-align: top;\n",
       "    }\n",
       "\n",
       "    .dataframe thead th {\n",
       "        text-align: right;\n",
       "    }\n",
       "</style>\n",
       "<table border=\"1\" class=\"dataframe\">\n",
       "  <thead>\n",
       "    <tr style=\"text-align: right;\">\n",
       "      <th></th>\n",
       "      <th>Unnamed: 0</th>\n",
       "      <th>country</th>\n",
       "      <th>description</th>\n",
       "      <th>designation</th>\n",
       "      <th>points</th>\n",
       "      <th>price</th>\n",
       "      <th>province</th>\n",
       "      <th>region_1</th>\n",
       "      <th>region_2</th>\n",
       "      <th>taster_name</th>\n",
       "      <th>taster_twitter_handle</th>\n",
       "      <th>title</th>\n",
       "      <th>variety</th>\n",
       "      <th>winery</th>\n",
       "    </tr>\n",
       "  </thead>\n",
       "  <tbody>\n",
       "    <tr>\n",
       "      <th>0</th>\n",
       "      <td>0</td>\n",
       "      <td>Italy</td>\n",
       "      <td>Aromas include tropical fruit, broom, brimston...</td>\n",
       "      <td>VulkÃ  Bianco</td>\n",
       "      <td>87</td>\n",
       "      <td>NaN</td>\n",
       "      <td>Sicily &amp; Sardinia</td>\n",
       "      <td>Etna</td>\n",
       "      <td>NaN</td>\n",
       "      <td>Kerin Oâ€™Keefe</td>\n",
       "      <td>#¿NOMBRE?</td>\n",
       "      <td>Nicosia 2013 VulkÃ  Bianco  (Etna)</td>\n",
       "      <td>White Blend</td>\n",
       "      <td>Nicosia</td>\n",
       "    </tr>\n",
       "    <tr>\n",
       "      <th>1</th>\n",
       "      <td>1</td>\n",
       "      <td>Portugal</td>\n",
       "      <td>This is ripe and fruity, a wine that is smooth...</td>\n",
       "      <td>Avidagos</td>\n",
       "      <td>87</td>\n",
       "      <td>15.0</td>\n",
       "      <td>Douro</td>\n",
       "      <td>NaN</td>\n",
       "      <td>NaN</td>\n",
       "      <td>Roger Voss</td>\n",
       "      <td>#¿NOMBRE?</td>\n",
       "      <td>Quinta dos Avidagos 2011 Avidagos Red (Douro)</td>\n",
       "      <td>Portuguese Red</td>\n",
       "      <td>Quinta dos Avidagos</td>\n",
       "    </tr>\n",
       "    <tr>\n",
       "      <th>2</th>\n",
       "      <td>2</td>\n",
       "      <td>US</td>\n",
       "      <td>Tart and snappy, the flavors of lime flesh and...</td>\n",
       "      <td>NaN</td>\n",
       "      <td>87</td>\n",
       "      <td>14.0</td>\n",
       "      <td>Oregon</td>\n",
       "      <td>Willamette Valley</td>\n",
       "      <td>Willamette Valley</td>\n",
       "      <td>Paul Gregutt</td>\n",
       "      <td>@paulgwineÂ</td>\n",
       "      <td>Rainstorm 2013 Pinot Gris (Willamette Valley)</td>\n",
       "      <td>Pinot Gris</td>\n",
       "      <td>Rainstorm</td>\n",
       "    </tr>\n",
       "    <tr>\n",
       "      <th>3</th>\n",
       "      <td>3</td>\n",
       "      <td>US</td>\n",
       "      <td>Pineapple rind, lemon pith and orange blossom ...</td>\n",
       "      <td>Reserve Late Harvest</td>\n",
       "      <td>87</td>\n",
       "      <td>13.0</td>\n",
       "      <td>Michigan</td>\n",
       "      <td>Lake Michigan Shore</td>\n",
       "      <td>NaN</td>\n",
       "      <td>Alexander Peartree</td>\n",
       "      <td>NaN</td>\n",
       "      <td>St. Julian 2013 Reserve Late Harvest Riesling ...</td>\n",
       "      <td>Riesling</td>\n",
       "      <td>St. Julian</td>\n",
       "    </tr>\n",
       "    <tr>\n",
       "      <th>4</th>\n",
       "      <td>4</td>\n",
       "      <td>US</td>\n",
       "      <td>Much like the regular bottling from 2012, this...</td>\n",
       "      <td>Vintner's Reserve Wild Child Block</td>\n",
       "      <td>87</td>\n",
       "      <td>65.0</td>\n",
       "      <td>Oregon</td>\n",
       "      <td>Willamette Valley</td>\n",
       "      <td>Willamette Valley</td>\n",
       "      <td>Paul Gregutt</td>\n",
       "      <td>@paulgwineÂ</td>\n",
       "      <td>Sweet Cheeks 2012 Vintner's Reserve Wild Child...</td>\n",
       "      <td>Pinot Noir</td>\n",
       "      <td>Sweet Cheeks</td>\n",
       "    </tr>\n",
       "  </tbody>\n",
       "</table>\n",
       "</div>"
      ],
      "text/plain": [
       "   Unnamed: 0   country                                        description  \\\n",
       "0           0     Italy  Aromas include tropical fruit, broom, brimston...   \n",
       "1           1  Portugal  This is ripe and fruity, a wine that is smooth...   \n",
       "2           2        US  Tart and snappy, the flavors of lime flesh and...   \n",
       "3           3        US  Pineapple rind, lemon pith and orange blossom ...   \n",
       "4           4        US  Much like the regular bottling from 2012, this...   \n",
       "\n",
       "                          designation  points  price           province  \\\n",
       "0                       VulkÃ  Bianco      87    NaN  Sicily & Sardinia   \n",
       "1                            Avidagos      87   15.0              Douro   \n",
       "2                                 NaN      87   14.0             Oregon   \n",
       "3                Reserve Late Harvest      87   13.0           Michigan   \n",
       "4  Vintner's Reserve Wild Child Block      87   65.0             Oregon   \n",
       "\n",
       "              region_1           region_2         taster_name  \\\n",
       "0                 Etna                NaN     Kerin Oâ€™Keefe   \n",
       "1                  NaN                NaN          Roger Voss   \n",
       "2    Willamette Valley  Willamette Valley        Paul Gregutt   \n",
       "3  Lake Michigan Shore                NaN  Alexander Peartree   \n",
       "4    Willamette Valley  Willamette Valley        Paul Gregutt   \n",
       "\n",
       "  taster_twitter_handle                                              title  \\\n",
       "0             #¿NOMBRE?                 Nicosia 2013 VulkÃ  Bianco  (Etna)   \n",
       "1             #¿NOMBRE?      Quinta dos Avidagos 2011 Avidagos Red (Douro)   \n",
       "2          @paulgwineÂ       Rainstorm 2013 Pinot Gris (Willamette Valley)   \n",
       "3                   NaN  St. Julian 2013 Reserve Late Harvest Riesling ...   \n",
       "4          @paulgwineÂ   Sweet Cheeks 2012 Vintner's Reserve Wild Child...   \n",
       "\n",
       "          variety               winery  \n",
       "0     White Blend              Nicosia  \n",
       "1  Portuguese Red  Quinta dos Avidagos  \n",
       "2      Pinot Gris            Rainstorm  \n",
       "3        Riesling           St. Julian  \n",
       "4      Pinot Noir         Sweet Cheeks  "
      ]
     },
     "execution_count": 8,
     "metadata": {},
     "output_type": "execute_result"
    }
   ],
   "source": [
    "wine_reviews.head()"
   ]
  },
  {
   "cell_type": "code",
   "execution_count": 9,
   "metadata": {},
   "outputs": [
    {
     "data": {
      "text/plain": [
       "(51000, 14)"
      ]
     },
     "execution_count": 9,
     "metadata": {},
     "output_type": "execute_result"
    }
   ],
   "source": [
    "wine_reviews.shape"
   ]
  },
  {
   "cell_type": "code",
   "execution_count": 10,
   "metadata": {},
   "outputs": [
    {
     "name": "stdout",
     "output_type": "stream",
     "text": [
      "US                        21123\n",
      "France                     8683\n",
      "Italy                      7880\n",
      "Spain                      2619\n",
      "Portugal                   2266\n",
      "Chile                      1758\n",
      "Argentina                  1494\n",
      "Austria                    1316\n",
      "Australia                   920\n",
      "Germany                     820\n",
      "New Zealand                 600\n",
      "South Africa                536\n",
      "Israel                      197\n",
      "Greece                      184\n",
      "Canada                       89\n",
      "Bulgaria                     58\n",
      "Uruguay                      50\n",
      "Romania                      46\n",
      "Hungary                      46\n",
      "Croatia                      36\n",
      "Turkey                       34\n",
      "Georgia                      32\n",
      "NaN                          28\n",
      "Mexico                       27\n",
      "Moldova                      26\n",
      "Brazil                       24\n",
      "Slovenia                     22\n",
      "England                      19\n",
      "Lebanon                      16\n",
      "Peru                          6\n",
      "Morocco                       6\n",
      "Cyprus                        6\n",
      "Czech Republic                5\n",
      "Serbia                        5\n",
      "Ukraine                       5\n",
      "Switzerland                   4\n",
      "Luxembourg                    4\n",
      "Macedonia                     4\n",
      "India                         3\n",
      "Bosnia and Herzegovina        1\n",
      "Armenia                       1\n",
      "Slovakia                      1\n",
      "Name: country, dtype: int64\n",
      "Cigar box, cafÃ© au lait, and dried tobacco aromas are followed by coffee and cherry flavors, with barrel spices lingering on the finish. The wood gets a bit out front but it still delivers enjoyment.                                                                                                                                                                         3\n",
      "Stalky aromas suggest hay and green herbs, with raspberry in the backdrop. It's hot and short in terms of mouthfeel, with herbal flavors leading the way and berry fruit running behind. Dry red fruit and herbal notes dominate the finish.                                                                                                                                     3\n",
      "This is a big wine in structure, but mellow and complex in flavor as if it's been well aged. Blended from Grenache, Tempranillo and Monastrell, it smells lightly sweet and tastes dry and inviting like vanilla, milk chocolate and raspberries.                                                                                                                                2\n",
      "With attractive wood aging and lemon flavors, this is a delicious, rich wine. It needs a couple of years, while already developing well. Acidity enlivens green plum and red apple flavors.                                                                                                                                                                                      2\n",
      "This zesty Moldovan Feteasca Regala has aromas of pineapple, lemon zest and pear. In the mouth there are flavors of lemon juice, lime pith and a hint of cantaloupe.                                                                                                                                                                                                             2\n",
      "                                                                                                                                                                                                                                                                                                                                                                                ..\n",
      "There's a fun, spicy layer in the foreground of this wine that helps shape a modern, luscious and intense Chianti Classico with noticeable sophistication and dimension. It offers a lot of consistency and flavor and carries those elements forward over its long finish. Only 250 cases were made.                                                                            1\n",
      "An unusual Nuits-St.-Georges. Normally the wines are dark, dry and tannic. But this is fruity, light, fresh. With its vibrant red fruits, it seems very out of character, if pleasing.                                                                                                                                                                                           1\n",
      "Floral and inviting in vanilla and caramel, this wine tastes bigger and richer than it is, offering more in the way of ripeness and texture than acidity. It finishes full bodied.                                                                                                                                                                                               1\n",
      "This Brut Prosecco opens with bone-dry aromas of talc powder and white mineral followed by slight hints of peach and citrus. It closes with steely, sharp effervescence and a hint of bitter almond.                                                                                                                                                                             1\n",
      "Kevin Riley likes to toss in lots of little bits into his blends, and this one features 11 different grape varieties. Baked strawberries and red plums show on the nose, along with dewy herbs, crushed gravel, dried oregano, basil and smoke. Light red fruit is present on the palate, along with caramel and vanilla. It's a fresh and lively wine, if not super complex.    1\n",
      "Name: description, Length: 49537, dtype: int64\n",
      "NaN                           14661\n",
      "Reserve                         773\n",
      "Estate                          519\n",
      "Reserva                         479\n",
      "Riserva                         280\n",
      "                              ...  \n",
      "Noblesse d'Or Vintage Brut        1\n",
      "friends.white                     1\n",
      "Les PlatiÃ¨res Premier Cru        1\n",
      "Tufo Blu                          1\n",
      "(Steen)                           1\n",
      "Name: designation, Length: 20368, dtype: int64\n",
      "California          14038\n",
      "Washington           3369\n",
      "Tuscany              2385\n",
      "Bordeaux             2374\n",
      "Oregon               2125\n",
      "                    ...  \n",
      "Bulgaria                1\n",
      "Cyclades                1\n",
      "Cape South Coast        1\n",
      "Retsina                 1\n",
      "Sagrada Familia         1\n",
      "Name: province, Length: 366, dtype: int64\n",
      "NaN                     8353\n",
      "Napa Valley             1757\n",
      "Columbia Valley (WA)    1587\n",
      "Russian River Valley    1219\n",
      "California              1046\n",
      "                        ... \n",
      "ChÃ¢teau-Chalon            1\n",
      "Sable de Camargue          1\n",
      "Vin de Pays du Lot         1\n",
      "California Other           1\n",
      "British Columbia           1\n",
      "Name: region_1, Length: 1064, dtype: int64\n",
      "NaN                  31396\n",
      "Central Coast         4220\n",
      "Sonoma                3552\n",
      "Columbia Valley       3147\n",
      "Napa                  2652\n",
      "Willamette Valley     1341\n",
      "California Other      1058\n",
      "Finger Lakes           657\n",
      "Sierra Foothills       582\n",
      "Napa-Sonoma            463\n",
      "Central Valley         367\n",
      "Southern Oregon        340\n",
      "Oregon Other           314\n",
      "Long Island            281\n",
      "Washington Other       221\n",
      "North Coast            199\n",
      "South Coast            109\n",
      "New York Other         101\n",
      "Name: region_2, dtype: int64\n",
      "NaN                   10502\n",
      "Roger Voss            10112\n",
      "Michael Schachner      6025\n",
      "Kerin Oâ€™Keefe        4242\n",
      "Paul Gregutt           3802\n",
      "Virginie Boone         3671\n",
      "Matt Kettmann          2365\n",
      "Joe Czerwinski         2064\n",
      "Sean P. Sullivan       1841\n",
      "Anna Lee C. Iijima     1694\n",
      "Jim Gordon             1567\n",
      "Anne KrebiehlÂ MW      1397\n",
      "Lauren Buzzeo           703\n",
      "Susan Kostrzewa         461\n",
      "Jeff Jenssen            180\n",
      "Mike DeSimone           168\n",
      "Alexander Peartree      153\n",
      "Carrie Dykes             39\n",
      "Fiona Adams              11\n",
      "Christina Pickard         3\n",
      "Name: taster_name, dtype: int64\n",
      "#¿NOMBRE?       34810\n",
      "NaN             12388\n",
      "@paulgwineÂ      3802\n",
      "Name: taster_twitter_handle, dtype: int64\n",
      "Korbel NV Brut Sparkling (California)                        5\n",
      "Mailly Grand Cru NV DÃ©lice Demi-Sec  (Champagne)            4\n",
      "Ruinart NV Brut RosÃ©  (Champagne)                           4\n",
      "G. H. Mumm NV Brut RosÃ©  (Champagne)                        4\n",
      "ChÃ¢teau de Bligny NV Grande RÃ©serve Brut  (Champagne)      3\n",
      "                                                            ..\n",
      "Easton 2011 Cooper Ranch Barbera (Shenandoah Valley (CA))    1\n",
      "Eleven 2012 La Donella Sauvignon Blanc (Washington)          1\n",
      "Pieve Vecchia 2009 Albatrello  (Montecucco)                  1\n",
      "Kiona 2010 Cabernet Sauvignon (Washington)                   1\n",
      "Quinta do Vallado 2013 Reserva Field Blend Red (Douro)       1\n",
      "Name: title, Length: 49325, dtype: int64\n",
      "Pinot Noir                  5166\n",
      "Chardonnay                  4528\n",
      "Cabernet Sauvignon          3667\n",
      "Red Blend                   3570\n",
      "Bordeaux-style Red Blend    2665\n",
      "                            ... \n",
      "Terrantez                      1\n",
      "Cerceal                        1\n",
      "DoÃ±a Blanca                   1\n",
      "Sauvignon Blanc-Verdejo        1\n",
      "Barbera-Nebbiolo               1\n",
      "Name: variety, Length: 558, dtype: int64\n",
      "Georges Duboeuf          97\n",
      "Wines & Winemakers       93\n",
      "Williams Selyem          81\n",
      "Louis Latour             77\n",
      "Testarossa               77\n",
      "                         ..\n",
      "Arcudi                    1\n",
      "Riebeek Cellars           1\n",
      "Stefano Amerighi          1\n",
      "Monte Cicogna             1\n",
      "Domaine Franck Besson     1\n",
      "Name: winery, Length: 12376, dtype: int64\n"
     ]
    }
   ],
   "source": [
    "#wine_reviews.select_dtypes(include=np.number)\n",
    "cols=wine_reviews.select_dtypes(include=np.object).columns.tolist()\n",
    "\n",
    "for col in cols:\n",
    "    print(wine_reviews[col].value_counts(dropna=False))"
   ]
  },
  {
   "cell_type": "markdown",
   "metadata": {},
   "source": [
    "2. ¿Cuántas columnas (features) tiene?¿Cuáles son sus nombres?¿Y cuántas filas (instancias)? Luego, descartar la columna `'Unnamed: 0'`."
   ]
  },
  {
   "cell_type": "code",
   "execution_count": 11,
   "metadata": {},
   "outputs": [
    {
     "name": "stdout",
     "output_type": "stream",
     "text": [
      "(51000, 14)\n",
      "Index(['Unnamed: 0', 'country', 'description', 'designation', 'points',\n",
      "       'price', 'province', 'region_1', 'region_2', 'taster_name',\n",
      "       'taster_twitter_handle', 'title', 'variety', 'winery'],\n",
      "      dtype='object')\n"
     ]
    }
   ],
   "source": [
    "print(wine_reviews.shape)\n",
    "print(wine_reviews.columns)\n",
    "wine_reviews.drop(columns=['Unnamed: 0'], inplace = True)"
   ]
  },
  {
   "cell_type": "markdown",
   "metadata": {},
   "source": [
    "3. ¿Cuántos valores faltantes hay en cada columna?"
   ]
  },
  {
   "cell_type": "code",
   "execution_count": 12,
   "metadata": {},
   "outputs": [
    {
     "name": "stdout",
     "output_type": "stream",
     "text": [
      "<class 'pandas.core.frame.DataFrame'>\n",
      "RangeIndex: 51000 entries, 0 to 50999\n",
      "Data columns (total 13 columns):\n",
      " #   Column                 Non-Null Count  Dtype  \n",
      "---  ------                 --------------  -----  \n",
      " 0   country                50972 non-null  object \n",
      " 1   description            51000 non-null  object \n",
      " 2   designation            36339 non-null  object \n",
      " 3   points                 51000 non-null  int64  \n",
      " 4   price                  47417 non-null  float64\n",
      " 5   province               50972 non-null  object \n",
      " 6   region_1               42647 non-null  object \n",
      " 7   region_2               19604 non-null  object \n",
      " 8   taster_name            40498 non-null  object \n",
      " 9   taster_twitter_handle  38612 non-null  object \n",
      " 10  title                  51000 non-null  object \n",
      " 11  variety                51000 non-null  object \n",
      " 12  winery                 51000 non-null  object \n",
      "dtypes: float64(1), int64(1), object(11)\n",
      "memory usage: 5.1+ MB\n"
     ]
    }
   ],
   "source": [
    "wine_reviews.info()"
   ]
  },
  {
   "cell_type": "code",
   "execution_count": 13,
   "metadata": {},
   "outputs": [
    {
     "name": "stdout",
     "output_type": "stream",
     "text": [
      "country                     28\n",
      "description                  0\n",
      "designation              14661\n",
      "points                       0\n",
      "price                     3583\n",
      "province                    28\n",
      "region_1                  8353\n",
      "region_2                 31396\n",
      "taster_name              10502\n",
      "taster_twitter_handle    12388\n",
      "title                        0\n",
      "variety                      0\n",
      "winery                       0\n",
      "dtype: int64\n"
     ]
    }
   ],
   "source": [
    "print(wine_reviews.isna().sum())"
   ]
  },
  {
   "cell_type": "markdown",
   "metadata": {},
   "source": [
    "4. ¿Cuál o cuáles son los vinos con más valores faltantes?"
   ]
  },
  {
   "cell_type": "code",
   "execution_count": 14,
   "metadata": {},
   "outputs": [
    {
     "data": {
      "text/plain": [
       "194"
      ]
     },
     "execution_count": 14,
     "metadata": {},
     "output_type": "execute_result"
    }
   ],
   "source": [
    "wine_reviews.isna().sum(axis = 1).idxmax()"
   ]
  },
  {
   "cell_type": "code",
   "execution_count": 15,
   "metadata": {},
   "outputs": [
    {
     "data": {
      "text/html": [
       "<div>\n",
       "<style scoped>\n",
       "    .dataframe tbody tr th:only-of-type {\n",
       "        vertical-align: middle;\n",
       "    }\n",
       "\n",
       "    .dataframe tbody tr th {\n",
       "        vertical-align: top;\n",
       "    }\n",
       "\n",
       "    .dataframe thead th {\n",
       "        text-align: right;\n",
       "    }\n",
       "</style>\n",
       "<table border=\"1\" class=\"dataframe\">\n",
       "  <thead>\n",
       "    <tr style=\"text-align: right;\">\n",
       "      <th></th>\n",
       "      <th>country</th>\n",
       "      <th>description</th>\n",
       "      <th>designation</th>\n",
       "      <th>points</th>\n",
       "      <th>price</th>\n",
       "      <th>province</th>\n",
       "      <th>region_1</th>\n",
       "      <th>region_2</th>\n",
       "      <th>taster_name</th>\n",
       "      <th>taster_twitter_handle</th>\n",
       "      <th>title</th>\n",
       "      <th>variety</th>\n",
       "      <th>winery</th>\n",
       "    </tr>\n",
       "  </thead>\n",
       "  <tbody>\n",
       "    <tr>\n",
       "      <th>0</th>\n",
       "      <td>Italy</td>\n",
       "      <td>Aromas include tropical fruit, broom, brimston...</td>\n",
       "      <td>VulkÃ  Bianco</td>\n",
       "      <td>87</td>\n",
       "      <td>NaN</td>\n",
       "      <td>Sicily &amp; Sardinia</td>\n",
       "      <td>Etna</td>\n",
       "      <td>NaN</td>\n",
       "      <td>Kerin Oâ€™Keefe</td>\n",
       "      <td>#¿NOMBRE?</td>\n",
       "      <td>Nicosia 2013 VulkÃ  Bianco  (Etna)</td>\n",
       "      <td>White Blend</td>\n",
       "      <td>Nicosia</td>\n",
       "    </tr>\n",
       "    <tr>\n",
       "      <th>1</th>\n",
       "      <td>Portugal</td>\n",
       "      <td>This is ripe and fruity, a wine that is smooth...</td>\n",
       "      <td>Avidagos</td>\n",
       "      <td>87</td>\n",
       "      <td>15.0</td>\n",
       "      <td>Douro</td>\n",
       "      <td>NaN</td>\n",
       "      <td>NaN</td>\n",
       "      <td>Roger Voss</td>\n",
       "      <td>#¿NOMBRE?</td>\n",
       "      <td>Quinta dos Avidagos 2011 Avidagos Red (Douro)</td>\n",
       "      <td>Portuguese Red</td>\n",
       "      <td>Quinta dos Avidagos</td>\n",
       "    </tr>\n",
       "    <tr>\n",
       "      <th>2</th>\n",
       "      <td>US</td>\n",
       "      <td>Tart and snappy, the flavors of lime flesh and...</td>\n",
       "      <td>NaN</td>\n",
       "      <td>87</td>\n",
       "      <td>14.0</td>\n",
       "      <td>Oregon</td>\n",
       "      <td>Willamette Valley</td>\n",
       "      <td>Willamette Valley</td>\n",
       "      <td>Paul Gregutt</td>\n",
       "      <td>@paulgwineÂ</td>\n",
       "      <td>Rainstorm 2013 Pinot Gris (Willamette Valley)</td>\n",
       "      <td>Pinot Gris</td>\n",
       "      <td>Rainstorm</td>\n",
       "    </tr>\n",
       "    <tr>\n",
       "      <th>3</th>\n",
       "      <td>US</td>\n",
       "      <td>Pineapple rind, lemon pith and orange blossom ...</td>\n",
       "      <td>Reserve Late Harvest</td>\n",
       "      <td>87</td>\n",
       "      <td>13.0</td>\n",
       "      <td>Michigan</td>\n",
       "      <td>Lake Michigan Shore</td>\n",
       "      <td>NaN</td>\n",
       "      <td>Alexander Peartree</td>\n",
       "      <td>NaN</td>\n",
       "      <td>St. Julian 2013 Reserve Late Harvest Riesling ...</td>\n",
       "      <td>Riesling</td>\n",
       "      <td>St. Julian</td>\n",
       "    </tr>\n",
       "    <tr>\n",
       "      <th>4</th>\n",
       "      <td>US</td>\n",
       "      <td>Much like the regular bottling from 2012, this...</td>\n",
       "      <td>Vintner's Reserve Wild Child Block</td>\n",
       "      <td>87</td>\n",
       "      <td>65.0</td>\n",
       "      <td>Oregon</td>\n",
       "      <td>Willamette Valley</td>\n",
       "      <td>Willamette Valley</td>\n",
       "      <td>Paul Gregutt</td>\n",
       "      <td>@paulgwineÂ</td>\n",
       "      <td>Sweet Cheeks 2012 Vintner's Reserve Wild Child...</td>\n",
       "      <td>Pinot Noir</td>\n",
       "      <td>Sweet Cheeks</td>\n",
       "    </tr>\n",
       "  </tbody>\n",
       "</table>\n",
       "</div>"
      ],
      "text/plain": [
       "    country                                        description  \\\n",
       "0     Italy  Aromas include tropical fruit, broom, brimston...   \n",
       "1  Portugal  This is ripe and fruity, a wine that is smooth...   \n",
       "2        US  Tart and snappy, the flavors of lime flesh and...   \n",
       "3        US  Pineapple rind, lemon pith and orange blossom ...   \n",
       "4        US  Much like the regular bottling from 2012, this...   \n",
       "\n",
       "                          designation  points  price           province  \\\n",
       "0                       VulkÃ  Bianco      87    NaN  Sicily & Sardinia   \n",
       "1                            Avidagos      87   15.0              Douro   \n",
       "2                                 NaN      87   14.0             Oregon   \n",
       "3                Reserve Late Harvest      87   13.0           Michigan   \n",
       "4  Vintner's Reserve Wild Child Block      87   65.0             Oregon   \n",
       "\n",
       "              region_1           region_2         taster_name  \\\n",
       "0                 Etna                NaN     Kerin Oâ€™Keefe   \n",
       "1                  NaN                NaN          Roger Voss   \n",
       "2    Willamette Valley  Willamette Valley        Paul Gregutt   \n",
       "3  Lake Michigan Shore                NaN  Alexander Peartree   \n",
       "4    Willamette Valley  Willamette Valley        Paul Gregutt   \n",
       "\n",
       "  taster_twitter_handle                                              title  \\\n",
       "0             #¿NOMBRE?                 Nicosia 2013 VulkÃ  Bianco  (Etna)   \n",
       "1             #¿NOMBRE?      Quinta dos Avidagos 2011 Avidagos Red (Douro)   \n",
       "2          @paulgwineÂ       Rainstorm 2013 Pinot Gris (Willamette Valley)   \n",
       "3                   NaN  St. Julian 2013 Reserve Late Harvest Riesling ...   \n",
       "4          @paulgwineÂ   Sweet Cheeks 2012 Vintner's Reserve Wild Child...   \n",
       "\n",
       "          variety               winery  \n",
       "0     White Blend              Nicosia  \n",
       "1  Portuguese Red  Quinta dos Avidagos  \n",
       "2      Pinot Gris            Rainstorm  \n",
       "3        Riesling           St. Julian  \n",
       "4      Pinot Noir         Sweet Cheeks  "
      ]
     },
     "execution_count": 15,
     "metadata": {},
     "output_type": "execute_result"
    }
   ],
   "source": [
    "wine_reviews.head()"
   ]
  },
  {
   "cell_type": "code",
   "execution_count": 16,
   "metadata": {},
   "outputs": [
    {
     "data": {
      "text/plain": [
       "country                                                              Italy\n",
       "description              Here's a traditional Chianti Classico with pre...\n",
       "designation                                                            NaN\n",
       "points                                                                  87\n",
       "price                                                                  NaN\n",
       "province                                                           Tuscany\n",
       "region_1                                                  Chianti Classico\n",
       "region_2                                                               NaN\n",
       "taster_name                                                            NaN\n",
       "taster_twitter_handle                                                  NaN\n",
       "title                                   Campomaggio 2005  Chianti Classico\n",
       "variety                                                         Sangiovese\n",
       "winery                                                         Campomaggio\n",
       "Name: 194, dtype: object"
      ]
     },
     "execution_count": 16,
     "metadata": {},
     "output_type": "execute_result"
    }
   ],
   "source": [
    "wine_reviews.iloc[wine_reviews.isna().sum(axis = 1).idxmax()]"
   ]
  },
  {
   "cell_type": "markdown",
   "metadata": {},
   "source": [
    "5. Hacerse alguna pregunta acerca del dataset e intentar responderla. Por ejemplo, ¿cuáles son el peor y el mejor vino? Imprimir en pantalla sus características y su descripción. ¿Hay un solo vino que sea el mejor o el peor?"
   ]
  },
  {
   "cell_type": "code",
   "execution_count": 17,
   "metadata": {},
   "outputs": [
    {
     "data": {
      "text/plain": [
       "count    51000.000000\n",
       "mean        88.447588\n",
       "std          3.051946\n",
       "min         80.000000\n",
       "25%         86.000000\n",
       "50%         88.000000\n",
       "75%         91.000000\n",
       "max        100.000000\n",
       "Name: points, dtype: float64"
      ]
     },
     "execution_count": 17,
     "metadata": {},
     "output_type": "execute_result"
    }
   ],
   "source": [
    "wine_reviews.points.describe()"
   ]
  },
  {
   "cell_type": "code",
   "execution_count": 18,
   "metadata": {},
   "outputs": [
    {
     "data": {
      "text/plain": [
       "country                                                          Australia\n",
       "description              This wine contains some material over 100 year...\n",
       "designation                                                           Rare\n",
       "points                                                                 100\n",
       "price                                                                350.0\n",
       "province                                                          Victoria\n",
       "region_1                                                        Rutherglen\n",
       "region_2                                                               NaN\n",
       "taster_name                                                 Joe Czerwinski\n",
       "taster_twitter_handle                                            #¿NOMBRE?\n",
       "title                    Chambers Rosewood Vineyards NV Rare Muscat (Ru...\n",
       "variety                                                             Muscat\n",
       "winery                                         Chambers Rosewood Vineyards\n",
       "Name: 345, dtype: object"
      ]
     },
     "execution_count": 18,
     "metadata": {},
     "output_type": "execute_result"
    }
   ],
   "source": [
    "wine_reviews.loc[wine_reviews.points.idxmax()]"
   ]
  },
  {
   "cell_type": "code",
   "execution_count": 19,
   "metadata": {},
   "outputs": [
    {
     "data": {
      "text/html": [
       "<div>\n",
       "<style scoped>\n",
       "    .dataframe tbody tr th:only-of-type {\n",
       "        vertical-align: middle;\n",
       "    }\n",
       "\n",
       "    .dataframe tbody tr th {\n",
       "        vertical-align: top;\n",
       "    }\n",
       "\n",
       "    .dataframe thead th {\n",
       "        text-align: right;\n",
       "    }\n",
       "</style>\n",
       "<table border=\"1\" class=\"dataframe\">\n",
       "  <thead>\n",
       "    <tr style=\"text-align: right;\">\n",
       "      <th></th>\n",
       "      <th>country</th>\n",
       "      <th>description</th>\n",
       "      <th>designation</th>\n",
       "      <th>points</th>\n",
       "      <th>price</th>\n",
       "      <th>province</th>\n",
       "      <th>region_1</th>\n",
       "      <th>region_2</th>\n",
       "      <th>taster_name</th>\n",
       "      <th>taster_twitter_handle</th>\n",
       "      <th>title</th>\n",
       "      <th>variety</th>\n",
       "      <th>winery</th>\n",
       "    </tr>\n",
       "  </thead>\n",
       "  <tbody>\n",
       "    <tr>\n",
       "      <th>0</th>\n",
       "      <td>Italy</td>\n",
       "      <td>Aromas include tropical fruit, broom, brimston...</td>\n",
       "      <td>VulkÃ  Bianco</td>\n",
       "      <td>87</td>\n",
       "      <td>NaN</td>\n",
       "      <td>Sicily &amp; Sardinia</td>\n",
       "      <td>Etna</td>\n",
       "      <td>NaN</td>\n",
       "      <td>Kerin Oâ€™Keefe</td>\n",
       "      <td>#¿NOMBRE?</td>\n",
       "      <td>Nicosia 2013 VulkÃ  Bianco  (Etna)</td>\n",
       "      <td>White Blend</td>\n",
       "      <td>Nicosia</td>\n",
       "    </tr>\n",
       "    <tr>\n",
       "      <th>1</th>\n",
       "      <td>Portugal</td>\n",
       "      <td>This is ripe and fruity, a wine that is smooth...</td>\n",
       "      <td>Avidagos</td>\n",
       "      <td>87</td>\n",
       "      <td>15.0</td>\n",
       "      <td>Douro</td>\n",
       "      <td>NaN</td>\n",
       "      <td>NaN</td>\n",
       "      <td>Roger Voss</td>\n",
       "      <td>#¿NOMBRE?</td>\n",
       "      <td>Quinta dos Avidagos 2011 Avidagos Red (Douro)</td>\n",
       "      <td>Portuguese Red</td>\n",
       "      <td>Quinta dos Avidagos</td>\n",
       "    </tr>\n",
       "    <tr>\n",
       "      <th>2</th>\n",
       "      <td>US</td>\n",
       "      <td>Tart and snappy, the flavors of lime flesh and...</td>\n",
       "      <td>NaN</td>\n",
       "      <td>87</td>\n",
       "      <td>14.0</td>\n",
       "      <td>Oregon</td>\n",
       "      <td>Willamette Valley</td>\n",
       "      <td>Willamette Valley</td>\n",
       "      <td>Paul Gregutt</td>\n",
       "      <td>@paulgwineÂ</td>\n",
       "      <td>Rainstorm 2013 Pinot Gris (Willamette Valley)</td>\n",
       "      <td>Pinot Gris</td>\n",
       "      <td>Rainstorm</td>\n",
       "    </tr>\n",
       "    <tr>\n",
       "      <th>3</th>\n",
       "      <td>US</td>\n",
       "      <td>Pineapple rind, lemon pith and orange blossom ...</td>\n",
       "      <td>Reserve Late Harvest</td>\n",
       "      <td>87</td>\n",
       "      <td>13.0</td>\n",
       "      <td>Michigan</td>\n",
       "      <td>Lake Michigan Shore</td>\n",
       "      <td>NaN</td>\n",
       "      <td>Alexander Peartree</td>\n",
       "      <td>NaN</td>\n",
       "      <td>St. Julian 2013 Reserve Late Harvest Riesling ...</td>\n",
       "      <td>Riesling</td>\n",
       "      <td>St. Julian</td>\n",
       "    </tr>\n",
       "    <tr>\n",
       "      <th>4</th>\n",
       "      <td>US</td>\n",
       "      <td>Much like the regular bottling from 2012, this...</td>\n",
       "      <td>Vintner's Reserve Wild Child Block</td>\n",
       "      <td>87</td>\n",
       "      <td>65.0</td>\n",
       "      <td>Oregon</td>\n",
       "      <td>Willamette Valley</td>\n",
       "      <td>Willamette Valley</td>\n",
       "      <td>Paul Gregutt</td>\n",
       "      <td>@paulgwineÂ</td>\n",
       "      <td>Sweet Cheeks 2012 Vintner's Reserve Wild Child...</td>\n",
       "      <td>Pinot Noir</td>\n",
       "      <td>Sweet Cheeks</td>\n",
       "    </tr>\n",
       "  </tbody>\n",
       "</table>\n",
       "</div>"
      ],
      "text/plain": [
       "    country                                        description  \\\n",
       "0     Italy  Aromas include tropical fruit, broom, brimston...   \n",
       "1  Portugal  This is ripe and fruity, a wine that is smooth...   \n",
       "2        US  Tart and snappy, the flavors of lime flesh and...   \n",
       "3        US  Pineapple rind, lemon pith and orange blossom ...   \n",
       "4        US  Much like the regular bottling from 2012, this...   \n",
       "\n",
       "                          designation  points  price           province  \\\n",
       "0                       VulkÃ  Bianco      87    NaN  Sicily & Sardinia   \n",
       "1                            Avidagos      87   15.0              Douro   \n",
       "2                                 NaN      87   14.0             Oregon   \n",
       "3                Reserve Late Harvest      87   13.0           Michigan   \n",
       "4  Vintner's Reserve Wild Child Block      87   65.0             Oregon   \n",
       "\n",
       "              region_1           region_2         taster_name  \\\n",
       "0                 Etna                NaN     Kerin Oâ€™Keefe   \n",
       "1                  NaN                NaN          Roger Voss   \n",
       "2    Willamette Valley  Willamette Valley        Paul Gregutt   \n",
       "3  Lake Michigan Shore                NaN  Alexander Peartree   \n",
       "4    Willamette Valley  Willamette Valley        Paul Gregutt   \n",
       "\n",
       "  taster_twitter_handle                                              title  \\\n",
       "0             #¿NOMBRE?                 Nicosia 2013 VulkÃ  Bianco  (Etna)   \n",
       "1             #¿NOMBRE?      Quinta dos Avidagos 2011 Avidagos Red (Douro)   \n",
       "2          @paulgwineÂ       Rainstorm 2013 Pinot Gris (Willamette Valley)   \n",
       "3                   NaN  St. Julian 2013 Reserve Late Harvest Riesling ...   \n",
       "4          @paulgwineÂ   Sweet Cheeks 2012 Vintner's Reserve Wild Child...   \n",
       "\n",
       "          variety               winery  \n",
       "0     White Blend              Nicosia  \n",
       "1  Portuguese Red  Quinta dos Avidagos  \n",
       "2      Pinot Gris            Rainstorm  \n",
       "3        Riesling           St. Julian  \n",
       "4      Pinot Noir         Sweet Cheeks  "
      ]
     },
     "execution_count": 19,
     "metadata": {},
     "output_type": "execute_result"
    }
   ],
   "source": [
    "wine_reviews.head()"
   ]
  },
  {
   "cell_type": "code",
   "execution_count": 20,
   "metadata": {},
   "outputs": [
    {
     "data": {
      "text/plain": [
       "345"
      ]
     },
     "execution_count": 20,
     "metadata": {},
     "output_type": "execute_result"
    }
   ],
   "source": [
    "wine_reviews.points.idxmax()"
   ]
  },
  {
   "cell_type": "code",
   "execution_count": 21,
   "metadata": {},
   "outputs": [
    {
     "data": {
      "text/plain": [
       "\"This wine contains some material over 100 years old, but shows no signs of fragility. Instead, it's concentrated through age and should hold in the bottle indefinitely. It's dark coffee-brown in color, with delectable aromas of rancio, dried fig, molasses and black tea, yet despite enormous concentration avoids excessive weight. And it's amazingly complex and fresh on the nearly endless finish.\""
      ]
     },
     "execution_count": 21,
     "metadata": {},
     "output_type": "execute_result"
    }
   ],
   "source": [
    "wine_reviews.loc[wine_reviews.points.idxmax()]['description']"
   ]
  },
  {
   "cell_type": "code",
   "execution_count": 22,
   "metadata": {},
   "outputs": [
    {
     "data": {
      "text/plain": [
       "\"Aromas of pumpkin, squash and corn chips are stale and not inviting. There's an acceptable mouthfeel to this weird, unbalanced Chardonnay along with flavors of spiced squash, mealy apple and sautÃ©ed root vegetables.\""
      ]
     },
     "execution_count": 22,
     "metadata": {},
     "output_type": "execute_result"
    }
   ],
   "source": [
    "wine_reviews.loc[wine_reviews.points.idxmin()]['description']"
   ]
  },
  {
   "cell_type": "code",
   "execution_count": 23,
   "metadata": {},
   "outputs": [
    {
     "data": {
      "text/plain": [
       "country                                                              Chile\n",
       "description              Aromas of pumpkin, squash and corn chips are s...\n",
       "designation                                                   Gran Reserva\n",
       "points                                                                  80\n",
       "price                                                                 19.0\n",
       "province                                                      Leyda Valley\n",
       "region_1                                                               NaN\n",
       "region_2                                                               NaN\n",
       "taster_name                                              Michael Schachner\n",
       "taster_twitter_handle                                            #¿NOMBRE?\n",
       "title                    ViÃ±a TarapacÃ¡ 2015 Gran Reserva Chardonnay (...\n",
       "variety                                                         Chardonnay\n",
       "winery                                                     ViÃ±a TarapacÃ¡\n",
       "Name: 344, dtype: object"
      ]
     },
     "execution_count": 23,
     "metadata": {},
     "output_type": "execute_result"
    }
   ],
   "source": [
    "wine_reviews.loc[wine_reviews.points.idxmin()]"
   ]
  },
  {
   "cell_type": "code",
   "execution_count": 24,
   "metadata": {},
   "outputs": [
    {
     "data": {
      "text/plain": [
       "\"Aromas of pumpkin, squash and corn chips are stale and not inviting. There's an acceptable mouthfeel to this weird, unbalanced Chardonnay along with flavors of spiced squash, mealy apple and sautÃ©ed root vegetables.\""
      ]
     },
     "execution_count": 24,
     "metadata": {},
     "output_type": "execute_result"
    }
   ],
   "source": [
    "wine_reviews.loc[wine_reviews.points.idxmin()]['description']"
   ]
  },
  {
   "cell_type": "markdown",
   "metadata": {},
   "source": [
    "## Trabajando con datos faltantes\n",
    "\n",
    "Antes de realizar cada una de las siguientes consignas, recordá copiar el dataset en una nueva variable, así mantemos el dataset original sin modificar.\n",
    "\n",
    "1. Descartar aquellas filas que tengan algún valor faltante. ¿Cuántas instancias quedan en el dataset?"
   ]
  },
  {
   "cell_type": "code",
   "execution_count": 25,
   "metadata": {},
   "outputs": [],
   "source": [
    "wine_reviews_copia = wine_reviews.copy()"
   ]
  },
  {
   "cell_type": "code",
   "execution_count": 26,
   "metadata": {},
   "outputs": [
    {
     "data": {
      "text/plain": [
       "(51000, 13)"
      ]
     },
     "execution_count": 26,
     "metadata": {},
     "output_type": "execute_result"
    }
   ],
   "source": [
    "wine_reviews.shape"
   ]
  },
  {
   "cell_type": "code",
   "execution_count": 27,
   "metadata": {},
   "outputs": [
    {
     "data": {
      "text/plain": [
       "(8601, 13)"
      ]
     },
     "execution_count": 27,
     "metadata": {},
     "output_type": "execute_result"
    }
   ],
   "source": [
    "wine_reviews_copia.dropna(inplace = True)\n",
    "wine_reviews_copia.shape"
   ]
  },
  {
   "cell_type": "markdown",
   "metadata": {},
   "source": [
    "2. Descartar aquellas columnas que tengan algún valor faltante. ¿Cuántos y cuáles atributos quedaron?"
   ]
  },
  {
   "cell_type": "code",
   "execution_count": 28,
   "metadata": {},
   "outputs": [],
   "source": [
    "wine_reviews_copia = wine_reviews.copy()"
   ]
  },
  {
   "cell_type": "code",
   "execution_count": 29,
   "metadata": {},
   "outputs": [
    {
     "data": {
      "text/plain": [
       "(51000, 13)"
      ]
     },
     "execution_count": 29,
     "metadata": {},
     "output_type": "execute_result"
    }
   ],
   "source": [
    "wine_reviews_copia.shape"
   ]
  },
  {
   "cell_type": "code",
   "execution_count": 30,
   "metadata": {},
   "outputs": [
    {
     "data": {
      "text/plain": [
       "country                     28\n",
       "description                  0\n",
       "designation              14661\n",
       "points                       0\n",
       "price                     3583\n",
       "province                    28\n",
       "region_1                  8353\n",
       "region_2                 31396\n",
       "taster_name              10502\n",
       "taster_twitter_handle    12388\n",
       "title                        0\n",
       "variety                      0\n",
       "winery                       0\n",
       "dtype: int64"
      ]
     },
     "execution_count": 30,
     "metadata": {},
     "output_type": "execute_result"
    }
   ],
   "source": [
    "wine_reviews_copia.isna().sum()"
   ]
  },
  {
   "cell_type": "code",
   "execution_count": 31,
   "metadata": {},
   "outputs": [
    {
     "data": {
      "text/plain": [
       "(51000, 5)"
      ]
     },
     "execution_count": 31,
     "metadata": {},
     "output_type": "execute_result"
    }
   ],
   "source": [
    "wine_reviews_copia.dropna(axis = 1, inplace = True)\n",
    "wine_reviews_copia.shape"
   ]
  },
  {
   "cell_type": "code",
   "execution_count": 32,
   "metadata": {},
   "outputs": [
    {
     "data": {
      "text/html": [
       "<div>\n",
       "<style scoped>\n",
       "    .dataframe tbody tr th:only-of-type {\n",
       "        vertical-align: middle;\n",
       "    }\n",
       "\n",
       "    .dataframe tbody tr th {\n",
       "        vertical-align: top;\n",
       "    }\n",
       "\n",
       "    .dataframe thead th {\n",
       "        text-align: right;\n",
       "    }\n",
       "</style>\n",
       "<table border=\"1\" class=\"dataframe\">\n",
       "  <thead>\n",
       "    <tr style=\"text-align: right;\">\n",
       "      <th></th>\n",
       "      <th>description</th>\n",
       "      <th>points</th>\n",
       "      <th>title</th>\n",
       "      <th>variety</th>\n",
       "      <th>winery</th>\n",
       "    </tr>\n",
       "  </thead>\n",
       "  <tbody>\n",
       "    <tr>\n",
       "      <th>0</th>\n",
       "      <td>Aromas include tropical fruit, broom, brimston...</td>\n",
       "      <td>87</td>\n",
       "      <td>Nicosia 2013 VulkÃ  Bianco  (Etna)</td>\n",
       "      <td>White Blend</td>\n",
       "      <td>Nicosia</td>\n",
       "    </tr>\n",
       "    <tr>\n",
       "      <th>1</th>\n",
       "      <td>This is ripe and fruity, a wine that is smooth...</td>\n",
       "      <td>87</td>\n",
       "      <td>Quinta dos Avidagos 2011 Avidagos Red (Douro)</td>\n",
       "      <td>Portuguese Red</td>\n",
       "      <td>Quinta dos Avidagos</td>\n",
       "    </tr>\n",
       "    <tr>\n",
       "      <th>2</th>\n",
       "      <td>Tart and snappy, the flavors of lime flesh and...</td>\n",
       "      <td>87</td>\n",
       "      <td>Rainstorm 2013 Pinot Gris (Willamette Valley)</td>\n",
       "      <td>Pinot Gris</td>\n",
       "      <td>Rainstorm</td>\n",
       "    </tr>\n",
       "    <tr>\n",
       "      <th>3</th>\n",
       "      <td>Pineapple rind, lemon pith and orange blossom ...</td>\n",
       "      <td>87</td>\n",
       "      <td>St. Julian 2013 Reserve Late Harvest Riesling ...</td>\n",
       "      <td>Riesling</td>\n",
       "      <td>St. Julian</td>\n",
       "    </tr>\n",
       "    <tr>\n",
       "      <th>4</th>\n",
       "      <td>Much like the regular bottling from 2012, this...</td>\n",
       "      <td>87</td>\n",
       "      <td>Sweet Cheeks 2012 Vintner's Reserve Wild Child...</td>\n",
       "      <td>Pinot Noir</td>\n",
       "      <td>Sweet Cheeks</td>\n",
       "    </tr>\n",
       "  </tbody>\n",
       "</table>\n",
       "</div>"
      ],
      "text/plain": [
       "                                         description  points  \\\n",
       "0  Aromas include tropical fruit, broom, brimston...      87   \n",
       "1  This is ripe and fruity, a wine that is smooth...      87   \n",
       "2  Tart and snappy, the flavors of lime flesh and...      87   \n",
       "3  Pineapple rind, lemon pith and orange blossom ...      87   \n",
       "4  Much like the regular bottling from 2012, this...      87   \n",
       "\n",
       "                                               title         variety  \\\n",
       "0                 Nicosia 2013 VulkÃ  Bianco  (Etna)     White Blend   \n",
       "1      Quinta dos Avidagos 2011 Avidagos Red (Douro)  Portuguese Red   \n",
       "2      Rainstorm 2013 Pinot Gris (Willamette Valley)      Pinot Gris   \n",
       "3  St. Julian 2013 Reserve Late Harvest Riesling ...        Riesling   \n",
       "4  Sweet Cheeks 2012 Vintner's Reserve Wild Child...      Pinot Noir   \n",
       "\n",
       "                winery  \n",
       "0              Nicosia  \n",
       "1  Quinta dos Avidagos  \n",
       "2            Rainstorm  \n",
       "3           St. Julian  \n",
       "4         Sweet Cheeks  "
      ]
     },
     "execution_count": 32,
     "metadata": {},
     "output_type": "execute_result"
    }
   ],
   "source": [
    "wine_reviews_copia.head()"
   ]
  },
  {
   "cell_type": "markdown",
   "metadata": {},
   "source": [
    "Pueden observar que descartar sin ningún criterio puede hacer que perdamos muchos datos.\n",
    "\n",
    "Tratemos de mejorar un poco los criterios con los que descartamos."
   ]
  },
  {
   "cell_type": "markdown",
   "metadata": {},
   "source": [
    "3. Descartar aquellas filas que tengan más de tres valores faltantes. ¿Cuántas instancias quedaron?"
   ]
  },
  {
   "cell_type": "code",
   "execution_count": 33,
   "metadata": {},
   "outputs": [
    {
     "data": {
      "text/plain": [
       "(51000, 13)"
      ]
     },
     "execution_count": 33,
     "metadata": {},
     "output_type": "execute_result"
    }
   ],
   "source": [
    "wine_reviews_copia = wine_reviews.copy()\n",
    "wine_reviews_copia.shape"
   ]
  },
  {
   "cell_type": "code",
   "execution_count": 34,
   "metadata": {},
   "outputs": [
    {
     "data": {
      "text/plain": [
       "country                     28\n",
       "description                  0\n",
       "designation              14661\n",
       "points                       0\n",
       "price                     3583\n",
       "province                    28\n",
       "region_1                  8353\n",
       "region_2                 31396\n",
       "taster_name              10502\n",
       "taster_twitter_handle    12388\n",
       "title                        0\n",
       "variety                      0\n",
       "winery                       0\n",
       "dtype: int64"
      ]
     },
     "execution_count": 34,
     "metadata": {},
     "output_type": "execute_result"
    }
   ],
   "source": [
    "wine_reviews_copia.isna().sum()"
   ]
  },
  {
   "cell_type": "code",
   "execution_count": 35,
   "metadata": {},
   "outputs": [
    {
     "data": {
      "text/plain": [
       "(40903, 13)"
      ]
     },
     "execution_count": 35,
     "metadata": {},
     "output_type": "execute_result"
    }
   ],
   "source": [
    "wine_reviews_copia.dropna(inplace = True, thresh=11)\n",
    "wine_reviews_copia.shape"
   ]
  },
  {
   "cell_type": "code",
   "execution_count": 36,
   "metadata": {},
   "outputs": [
    {
     "data": {
      "text/plain": [
       "0        2\n",
       "1        2\n",
       "2        1\n",
       "3        2\n",
       "4        0\n",
       "        ..\n",
       "50995    1\n",
       "50996    1\n",
       "50997    1\n",
       "50998    1\n",
       "50999    2\n",
       "Length: 40903, dtype: int64"
      ]
     },
     "execution_count": 36,
     "metadata": {},
     "output_type": "execute_result"
    }
   ],
   "source": [
    "wine_reviews_copia.isna().sum(axis = 1) #pendiente"
   ]
  },
  {
   "cell_type": "markdown",
   "metadata": {},
   "source": [
    "4. Descartar aquellas columnas que tengan más del 50% de valores faltantes. ¿Cuántos y cuáles atributos quedaron? Luego, descartar las instancias que tengan algún valor faltante."
   ]
  },
  {
   "cell_type": "code",
   "execution_count": 37,
   "metadata": {},
   "outputs": [],
   "source": [
    "wine_reviews_copia = wine_reviews.copy()"
   ]
  },
  {
   "cell_type": "code",
   "execution_count": 38,
   "metadata": {},
   "outputs": [
    {
     "data": {
      "text/plain": [
       "(51000, 13)"
      ]
     },
     "execution_count": 38,
     "metadata": {},
     "output_type": "execute_result"
    }
   ],
   "source": [
    "wine_reviews_copia.shape"
   ]
  },
  {
   "cell_type": "code",
   "execution_count": 39,
   "metadata": {},
   "outputs": [
    {
     "data": {
      "text/plain": [
       "51000"
      ]
     },
     "execution_count": 39,
     "metadata": {},
     "output_type": "execute_result"
    }
   ],
   "source": [
    "wine_reviews_copia.shape[0]"
   ]
  },
  {
   "cell_type": "code",
   "execution_count": 40,
   "metadata": {},
   "outputs": [
    {
     "data": {
      "text/plain": [
       "25500.0"
      ]
     },
     "execution_count": 40,
     "metadata": {},
     "output_type": "execute_result"
    }
   ],
   "source": [
    "wine_reviews_copia.shape[0]*0.5"
   ]
  },
  {
   "cell_type": "code",
   "execution_count": 41,
   "metadata": {},
   "outputs": [
    {
     "data": {
      "text/plain": [
       "13"
      ]
     },
     "execution_count": 41,
     "metadata": {},
     "output_type": "execute_result"
    }
   ],
   "source": [
    "wine_reviews_copia.shape[1]"
   ]
  },
  {
   "cell_type": "code",
   "execution_count": 42,
   "metadata": {},
   "outputs": [
    {
     "data": {
      "text/plain": [
       "(51000, 12)"
      ]
     },
     "execution_count": 42,
     "metadata": {},
     "output_type": "execute_result"
    }
   ],
   "source": [
    "wine_reviews_copia.dropna(axis = 1, inplace = True, thresh=wine_reviews_copia.shape[0]*0.5)\n",
    "wine_reviews_copia.shape"
   ]
  },
  {
   "cell_type": "code",
   "execution_count": 43,
   "metadata": {},
   "outputs": [],
   "source": [
    "# pendiente cuál es la variable eliminada"
   ]
  },
  {
   "cell_type": "code",
   "execution_count": 44,
   "metadata": {},
   "outputs": [
    {
     "data": {
      "text/plain": [
       "(20324, 12)"
      ]
     },
     "execution_count": 44,
     "metadata": {},
     "output_type": "execute_result"
    }
   ],
   "source": [
    "wine_reviews_copia.dropna(inplace = True)\n",
    "wine_reviews_copia.shape"
   ]
  },
  {
   "cell_type": "code",
   "execution_count": 45,
   "metadata": {},
   "outputs": [
    {
     "data": {
      "text/html": [
       "<div>\n",
       "<style scoped>\n",
       "    .dataframe tbody tr th:only-of-type {\n",
       "        vertical-align: middle;\n",
       "    }\n",
       "\n",
       "    .dataframe tbody tr th {\n",
       "        vertical-align: top;\n",
       "    }\n",
       "\n",
       "    .dataframe thead th {\n",
       "        text-align: right;\n",
       "    }\n",
       "</style>\n",
       "<table border=\"1\" class=\"dataframe\">\n",
       "  <thead>\n",
       "    <tr style=\"text-align: right;\">\n",
       "      <th></th>\n",
       "      <th>country</th>\n",
       "      <th>description</th>\n",
       "      <th>designation</th>\n",
       "      <th>points</th>\n",
       "      <th>price</th>\n",
       "      <th>province</th>\n",
       "      <th>region_1</th>\n",
       "      <th>taster_name</th>\n",
       "      <th>taster_twitter_handle</th>\n",
       "      <th>title</th>\n",
       "      <th>variety</th>\n",
       "      <th>winery</th>\n",
       "    </tr>\n",
       "  </thead>\n",
       "  <tbody>\n",
       "    <tr>\n",
       "      <th>4</th>\n",
       "      <td>US</td>\n",
       "      <td>Much like the regular bottling from 2012, this...</td>\n",
       "      <td>Vintner's Reserve Wild Child Block</td>\n",
       "      <td>87</td>\n",
       "      <td>65.0</td>\n",
       "      <td>Oregon</td>\n",
       "      <td>Willamette Valley</td>\n",
       "      <td>Paul Gregutt</td>\n",
       "      <td>@paulgwineÂ</td>\n",
       "      <td>Sweet Cheeks 2012 Vintner's Reserve Wild Child...</td>\n",
       "      <td>Pinot Noir</td>\n",
       "      <td>Sweet Cheeks</td>\n",
       "    </tr>\n",
       "    <tr>\n",
       "      <th>5</th>\n",
       "      <td>Spain</td>\n",
       "      <td>Blackberry and raspberry aromas show a typical...</td>\n",
       "      <td>Ars In Vitro</td>\n",
       "      <td>87</td>\n",
       "      <td>15.0</td>\n",
       "      <td>Northern Spain</td>\n",
       "      <td>Navarra</td>\n",
       "      <td>Michael Schachner</td>\n",
       "      <td>#¿NOMBRE?</td>\n",
       "      <td>Tandem 2011 Ars In Vitro Tempranillo-Merlot (N...</td>\n",
       "      <td>Tempranillo-Merlot</td>\n",
       "      <td>Tandem</td>\n",
       "    </tr>\n",
       "    <tr>\n",
       "      <th>6</th>\n",
       "      <td>Italy</td>\n",
       "      <td>Here's a bright, informal red that opens with ...</td>\n",
       "      <td>Belsito</td>\n",
       "      <td>87</td>\n",
       "      <td>16.0</td>\n",
       "      <td>Sicily &amp; Sardinia</td>\n",
       "      <td>Vittoria</td>\n",
       "      <td>Kerin Oâ€™Keefe</td>\n",
       "      <td>#¿NOMBRE?</td>\n",
       "      <td>Terre di Giurfo 2013 Belsito Frappato (Vittoria)</td>\n",
       "      <td>Frappato</td>\n",
       "      <td>Terre di Giurfo</td>\n",
       "    </tr>\n",
       "    <tr>\n",
       "      <th>9</th>\n",
       "      <td>France</td>\n",
       "      <td>This has great depth of flavor with its fresh ...</td>\n",
       "      <td>Les Natures</td>\n",
       "      <td>87</td>\n",
       "      <td>27.0</td>\n",
       "      <td>Alsace</td>\n",
       "      <td>Alsace</td>\n",
       "      <td>Roger Voss</td>\n",
       "      <td>#¿NOMBRE?</td>\n",
       "      <td>Jean-Baptiste Adam 2012 Les Natures Pinot Gris...</td>\n",
       "      <td>Pinot Gris</td>\n",
       "      <td>Jean-Baptiste Adam</td>\n",
       "    </tr>\n",
       "    <tr>\n",
       "      <th>10</th>\n",
       "      <td>US</td>\n",
       "      <td>Soft, supple plum envelopes an oaky structure ...</td>\n",
       "      <td>Mountain CuvÃ©e</td>\n",
       "      <td>87</td>\n",
       "      <td>19.0</td>\n",
       "      <td>California</td>\n",
       "      <td>Napa Valley</td>\n",
       "      <td>Virginie Boone</td>\n",
       "      <td>#¿NOMBRE?</td>\n",
       "      <td>Kirkland Signature 2011 Mountain CuvÃ©e Cabern...</td>\n",
       "      <td>Cabernet Sauvignon</td>\n",
       "      <td>Kirkland Signature</td>\n",
       "    </tr>\n",
       "  </tbody>\n",
       "</table>\n",
       "</div>"
      ],
      "text/plain": [
       "   country                                        description  \\\n",
       "4       US  Much like the regular bottling from 2012, this...   \n",
       "5    Spain  Blackberry and raspberry aromas show a typical...   \n",
       "6    Italy  Here's a bright, informal red that opens with ...   \n",
       "9   France  This has great depth of flavor with its fresh ...   \n",
       "10      US  Soft, supple plum envelopes an oaky structure ...   \n",
       "\n",
       "                           designation  points  price           province  \\\n",
       "4   Vintner's Reserve Wild Child Block      87   65.0             Oregon   \n",
       "5                         Ars In Vitro      87   15.0     Northern Spain   \n",
       "6                              Belsito      87   16.0  Sicily & Sardinia   \n",
       "9                          Les Natures      87   27.0             Alsace   \n",
       "10                     Mountain CuvÃ©e      87   19.0         California   \n",
       "\n",
       "             region_1        taster_name taster_twitter_handle  \\\n",
       "4   Willamette Valley       Paul Gregutt          @paulgwineÂ    \n",
       "5             Navarra  Michael Schachner             #¿NOMBRE?   \n",
       "6            Vittoria    Kerin Oâ€™Keefe             #¿NOMBRE?   \n",
       "9              Alsace         Roger Voss             #¿NOMBRE?   \n",
       "10        Napa Valley     Virginie Boone             #¿NOMBRE?   \n",
       "\n",
       "                                                title             variety  \\\n",
       "4   Sweet Cheeks 2012 Vintner's Reserve Wild Child...          Pinot Noir   \n",
       "5   Tandem 2011 Ars In Vitro Tempranillo-Merlot (N...  Tempranillo-Merlot   \n",
       "6    Terre di Giurfo 2013 Belsito Frappato (Vittoria)            Frappato   \n",
       "9   Jean-Baptiste Adam 2012 Les Natures Pinot Gris...          Pinot Gris   \n",
       "10  Kirkland Signature 2011 Mountain CuvÃ©e Cabern...  Cabernet Sauvignon   \n",
       "\n",
       "                winery  \n",
       "4         Sweet Cheeks  \n",
       "5               Tandem  \n",
       "6      Terre di Giurfo  \n",
       "9   Jean-Baptiste Adam  \n",
       "10  Kirkland Signature  "
      ]
     },
     "execution_count": 45,
     "metadata": {},
     "output_type": "execute_result"
    }
   ],
   "source": [
    "wine_reviews_copia.head()"
   ]
  },
  {
   "cell_type": "markdown",
   "metadata": {},
   "source": [
    "**Moraleja**: el orden importa. Primero, podemos descartar aquellas columnas con muchos valores faltantes y después descartar aquellas instancias con valores faltantes.\n",
    "\n",
    "**Para pensar:** ¿de qué tipo son las variables del dataset?¿Es lo mismo un valor faltante en `price` que en `variety`?\n",
    "\n",
    "**Ejercicio**\n",
    "\n",
    "Hasta ahora, estamos descartando columnas y/o instancias sin prestar mucha atención qué representa cada columna. Elegir alguno de los siguientes objetivos y hacer un manejo de valores faltantes que consideren apropiado para ese objetivo:\n",
    "\n",
    "* Predecir el precio de un vino. \n",
    "* Predecir la variedad de un vino.\n",
    "\n",
    "Prestar atención a si no hay información redundante en las columnas.\n"
   ]
  },
  {
   "cell_type": "code",
   "execution_count": 46,
   "metadata": {},
   "outputs": [],
   "source": [
    "# COMPLETAR"
   ]
  },
  {
   "cell_type": "markdown",
   "metadata": {},
   "source": [
    "## Imputación de Valores Faltantes\n",
    "\n",
    "La columna `price` tiene alrededor de 9 mil valores faltantes, pero no queremos descartarla ni descartar instancias por el simple hecho de que no sepamos su precio. Esto se debe a que el precio tiene mucha información y, eventualmente, puede ser la columna que querramos predecir. Además, no son tantos valores faltantes si consideramos la cantidad de instancias que tiene el dataset. Entonces:\n",
    "\n",
    "\n",
    "1. Calcular el valor medio, moda, mediana y la desviación estándar de la columna `price`."
   ]
  },
  {
   "cell_type": "code",
   "execution_count": 47,
   "metadata": {},
   "outputs": [
    {
     "name": "stdout",
     "output_type": "stream",
     "text": [
      "35.3659657928591\n",
      "20.0\n",
      "25.0\n",
      "39.7061227666633\n"
     ]
    }
   ],
   "source": [
    "print(wine_reviews.price.mean())\n",
    "print(wine_reviews.price.mode()[0])\n",
    "print(wine_reviews.price.median())\n",
    "print(wine_reviews.price.std())"
   ]
  },
  {
   "cell_type": "markdown",
   "metadata": {},
   "source": [
    "2. Imputar los valores faltantes en la columna `price` usando su valor medio."
   ]
  },
  {
   "cell_type": "code",
   "execution_count": 48,
   "metadata": {},
   "outputs": [
    {
     "data": {
      "text/plain": [
       "country                     28\n",
       "description                  0\n",
       "designation              14661\n",
       "points                       0\n",
       "price                     3583\n",
       "province                    28\n",
       "region_1                  8353\n",
       "region_2                 31396\n",
       "taster_name              10502\n",
       "taster_twitter_handle    12388\n",
       "title                        0\n",
       "variety                      0\n",
       "winery                       0\n",
       "dtype: int64"
      ]
     },
     "execution_count": 48,
     "metadata": {},
     "output_type": "execute_result"
    }
   ],
   "source": [
    "wine_reviews_copia = wine_reviews.copy()\n",
    "wine_reviews_copia.shape\n",
    "\n",
    "wine_reviews_copia.isna().sum()"
   ]
  },
  {
   "cell_type": "code",
   "execution_count": 49,
   "metadata": {},
   "outputs": [],
   "source": [
    "wine_reviews_copia.fillna(wine_reviews.price.mean(), inplace = True)"
   ]
  },
  {
   "cell_type": "code",
   "execution_count": 50,
   "metadata": {},
   "outputs": [
    {
     "data": {
      "text/plain": [
       "0"
      ]
     },
     "execution_count": 50,
     "metadata": {},
     "output_type": "execute_result"
    }
   ],
   "source": [
    "wine_reviews_copia.price.isna().sum()"
   ]
  },
  {
   "cell_type": "markdown",
   "metadata": {},
   "source": [
    "3. ¿Cambió el valor medio de la columna?¿Y su desviación estándar?¿Y los otros estadísticos que calculamos?¿Por qué?"
   ]
  },
  {
   "cell_type": "code",
   "execution_count": 51,
   "metadata": {},
   "outputs": [
    {
     "name": "stdout",
     "output_type": "stream",
     "text": [
      "35.36596579286147\n",
      "35.3659657928591\n",
      "28.0\n",
      "38.285921798860755\n"
     ]
    }
   ],
   "source": [
    "print(wine_reviews_copia.price.mean())\n",
    "print(wine_reviews_copia.price.mode()[0])\n",
    "print(wine_reviews_copia.price.median())\n",
    "print(wine_reviews_copia.price.std())"
   ]
  },
  {
   "cell_type": "markdown",
   "metadata": {},
   "source": [
    "4. Volver a correr las celdas anteriores, pero completando los valores faltantes con la mediana y luego la moda."
   ]
  },
  {
   "cell_type": "markdown",
   "metadata": {},
   "source": [
    "#  Utilizando pandas_profiling\n"
   ]
  },
  {
   "cell_type": "code",
   "execution_count": 52,
   "metadata": {},
   "outputs": [],
   "source": [
    "#!pip install pandas-profiling\n",
    "# https://pypi.org/project/pandas-profiling/\n",
    "import pandas_profiling"
   ]
  },
  {
   "cell_type": "code",
   "execution_count": 60,
   "metadata": {},
   "outputs": [],
   "source": [
    "df=pd.read_csv(r'C:\\Users\\jenny\\Documents\\04_cursos\\Curso-de-Python-para-LICA\\Semana05\\Clase_05_titanic.csv')"
   ]
  },
  {
   "cell_type": "code",
   "execution_count": 61,
   "metadata": {},
   "outputs": [
    {
     "data": {
      "application/vnd.jupyter.widget-view+json": {
       "model_id": "67b1d854615e4ebaa4d6a6f1fba160b9",
       "version_major": 2,
       "version_minor": 0
      },
      "text/plain": [
       "Summarize dataset:   0%|          | 0/25 [00:00<?, ?it/s]"
      ]
     },
     "metadata": {},
     "output_type": "display_data"
    },
    {
     "data": {
      "application/vnd.jupyter.widget-view+json": {
       "model_id": "ff7c7618593e42ca9a4679d0e45df010",
       "version_major": 2,
       "version_minor": 0
      },
      "text/plain": [
       "Generate report structure:   0%|          | 0/1 [00:00<?, ?it/s]"
      ]
     },
     "metadata": {},
     "output_type": "display_data"
    },
    {
     "data": {
      "application/vnd.jupyter.widget-view+json": {
       "model_id": "6bd750b8fb9f491d98f3e5d1928a4eeb",
       "version_major": 2,
       "version_minor": 0
      },
      "text/plain": [
       "Render HTML:   0%|          | 0/1 [00:00<?, ?it/s]"
      ]
     },
     "metadata": {},
     "output_type": "display_data"
    },
    {
     "data": {
      "application/vnd.jupyter.widget-view+json": {
       "model_id": "28c4f6a0c28449938ba094ad2279bb6e",
       "version_major": 2,
       "version_minor": 0
      },
      "text/plain": [
       "Export report to file:   0%|          | 0/1 [00:00<?, ?it/s]"
      ]
     },
     "metadata": {},
     "output_type": "display_data"
    }
   ],
   "source": [
    "report = pandas_profiling.ProfileReport(df)\n",
    "report.to_file(\"report.html\")"
   ]
  }
 ],
 "metadata": {
  "kernelspec": {
   "display_name": "Python 3",
   "language": "python",
   "name": "python3"
  },
  "language_info": {
   "codemirror_mode": {
    "name": "ipython",
    "version": 3
   },
   "file_extension": ".py",
   "mimetype": "text/x-python",
   "name": "python",
   "nbconvert_exporter": "python",
   "pygments_lexer": "ipython3",
   "version": "3.7.4"
  }
 },
 "nbformat": 4,
 "nbformat_minor": 4
}
