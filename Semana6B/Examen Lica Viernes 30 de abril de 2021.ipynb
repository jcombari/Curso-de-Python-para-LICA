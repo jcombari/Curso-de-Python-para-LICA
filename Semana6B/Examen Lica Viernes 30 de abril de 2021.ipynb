{
 "cells": [
  {
   "cell_type": "markdown",
   "metadata": {},
   "source": [
    "# Examen 1 Curso Básico de Python Lica"
   ]
  },
  {
   "cell_type": "markdown",
   "metadata": {},
   "source": [
    "Nombre integrante 1:"
   ]
  },
  {
   "cell_type": "markdown",
   "metadata": {},
   "source": [
    "Nombre integrante 2:"
   ]
  },
  {
   "cell_type": "markdown",
   "metadata": {},
   "source": [
    "1.- Cargar el dataset de Reviews de Vinos. utilizando solo los campos  'country', 'points','price', 'variety'. \\\n",
    "Nota llame al dataframe wine_reviews"
   ]
  },
  {
   "cell_type": "markdown",
   "metadata": {},
   "source": [
    "2.- Liste las primeras 3 lineas y las últimas 3 líneas del dataframe wine_reviews"
   ]
  },
  {
   "cell_type": "markdown",
   "metadata": {},
   "source": [
    "3.- Obtenga las dimensiones del dataframe wine_reviews"
   ]
  },
  {
   "cell_type": "markdown",
   "metadata": {},
   "source": [
    "4.- Calcule la cantidad de valores missing por variable del dataframe wine_reviews"
   ]
  },
  {
   "cell_type": "markdown",
   "metadata": {},
   "source": [
    "5.- Obtenga la información global del dataframe wine_reviews"
   ]
  },
  {
   "cell_type": "markdown",
   "metadata": {},
   "source": [
    "6.- Cree una lista con los nombres de las columnas. Verifique que el resultado es una lista."
   ]
  },
  {
   "cell_type": "markdown",
   "metadata": {},
   "source": [
    "7.- Analizar la salida de wine_reviews.describe()"
   ]
  },
  {
   "cell_type": "markdown",
   "metadata": {},
   "source": [
    "8.- Agregar al Dataset la información correspondiente a un vino de francia, con puntaje 90, precio = 150 y variedad Pinot Noir. (con indice 51002)  "
   ]
  },
  {
   "cell_type": "markdown",
   "metadata": {},
   "source": [
    "9.- Construya un dataframe donde solo esten los vinos con puntuación entre (85 ; 95] y precio [100 ; 150). \\\n",
    "¿Cuál es la dimensión del nuevo dataframe obtenido?"
   ]
  },
  {
   "cell_type": "markdown",
   "metadata": {},
   "source": [
    "10.- Imputar \"in situ\" los valores faltantes en la columna price usando la mediana.\n"
   ]
  },
  {
   "cell_type": "markdown",
   "metadata": {},
   "source": [
    "11.- Analizar el impacto que tiene la imputación de la mediana en el precio del vino. ¿Cambió el valor medio de la columna?¿Y su desviación estándar?¿Y los otros estadísticos que calculamos?¿Por qué?"
   ]
  },
  {
   "cell_type": "markdown",
   "metadata": {},
   "source": [
    "12 .-  Aplique pandas profiling al dataframe wine_reviews. Por favor cuando envíe el examen, anexe el reporte html obtenido al aplicar pandas profiling."
   ]
  },
  {
   "cell_type": "markdown",
   "metadata": {},
   "source": [
    "13.- Graficar el histograma de precios correspondientes a los vinos argentinos con una calificación de 85 y los vamos a comparar al precio de los vinos argentinos con una calificación de 90."
   ]
  },
  {
   "cell_type": "markdown",
   "metadata": {},
   "source": [
    "14.- Utilizando seaborn realice un gráfico scatter plot de precio vs puntaje en el cual diferencie por color el pais de origen de cada vino (Francia, España y Portugal)."
   ]
  },
  {
   "cell_type": "markdown",
   "metadata": {},
   "source": [
    "15.- Vamos a armara un nuevo dataset solo con los vinos de España, Francia y Portugal, pero esta vez sólo con las siguietnes variedades: 'Portuguese Red', 'Pinot Gris' y 'Tempranillo-Merlot'."
   ]
  },
  {
   "cell_type": "markdown",
   "metadata": {},
   "source": [
    "16.- En el último gráfico, era difícil visualizar bien los resultados debido a precios que eran mucho más grandes que los demás. ¿Cómo podría solucionar facilmente este problema?"
   ]
  },
  {
   "cell_type": "markdown",
   "metadata": {},
   "source": [
    "17.- Averigüe cómo cambiar el gráfico si desea que los 3 ejes aparezcan apilados verticalmente en lugar de uno al lado del otro."
   ]
  },
  {
   "cell_type": "markdown",
   "metadata": {},
   "source": [
    "18.- Realizar un grafico  Pairplots al dataframe solo con los vinos de España, Francia y Portugal, y variedades: 'Portuguese Red', 'Pinot Gris' y 'Tempranillo-Merlot'."
   ]
  },
  {
   "cell_type": "markdown",
   "metadata": {},
   "source": [
    "19.- Realizar un grafico pairplot al dataframe solo con los vinos de España, Francia y Portugal, y variedades: 'Portuguese Red', 'Pinot Gris' y 'Tempranillo-Merlot'."
   ]
  },
  {
   "cell_type": "markdown",
   "metadata": {},
   "source": [
    "20.- Responda los siguientes items:\n",
    "\n",
    "* ¿Qué es un diccionario? Escribir un ejemplo en una celda.\n",
    "* Indique las diferencias y similitudes entre iloc y loc.\n",
    "* Crear un arreglo de ceros de shape (5,10). Reemplazar la segunda y cuarta fila con unos - Reemplazar la tercera y octava columna con dos (2)."
   ]
  }
 ],
 "metadata": {
  "kernelspec": {
   "display_name": "Python 3",
   "language": "python",
   "name": "python3"
  },
  "language_info": {
   "codemirror_mode": {
    "name": "ipython",
    "version": 3
   },
   "file_extension": ".py",
   "mimetype": "text/x-python",
   "name": "python",
   "nbconvert_exporter": "python",
   "pygments_lexer": "ipython3",
   "version": "3.8.5"
  }
 },
 "nbformat": 4,
 "nbformat_minor": 4
}
